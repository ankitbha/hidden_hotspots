{
 "cells": [
  {
   "cell_type": "code",
   "execution_count": 11,
   "metadata": {},
   "outputs": [],
   "source": [
    "from glob import glob\n",
    "import cv2\n",
    "import os, sys"
   ]
  },
  {
   "cell_type": "code",
   "execution_count": 12,
   "metadata": {},
   "outputs": [],
   "source": [
    "frames = glob('images/maps/ours*')\n",
    "assert len(frames) > 0"
   ]
  },
  {
   "cell_type": "code",
   "execution_count": 13,
   "metadata": {},
   "outputs": [
    {
     "data": {
      "text/plain": [
       "'images/maps/ours_0.png'"
      ]
     },
     "execution_count": 13,
     "metadata": {},
     "output_type": "execute_result"
    }
   ],
   "source": [
    "frames = sorted(frames, key=lambda val: int(val.split('_')[1].split('.')[0]))\n",
    "frames[0]"
   ]
  },
  {
   "cell_type": "code",
   "execution_count": 15,
   "metadata": {},
   "outputs": [
    {
     "name": "stdout",
     "output_type": "stream",
     "text": [
      "(700, 700, 3)\n",
      "994\n"
     ]
    }
   ],
   "source": [
    "img = cv2.imread(frames[0])\n",
    "print(img.shape)\n",
    "print(len(frames))"
   ]
  },
  {
   "cell_type": "code",
   "execution_count": 16,
   "metadata": {},
   "outputs": [
    {
     "name": "stdout",
     "output_type": "stream",
     "text": [
      "993/994  \r"
     ]
    }
   ],
   "source": [
    "out = cv2.VideoWriter('video.avi', cv2.VideoWriter_fourcc(*'MJPG'), \n",
    "                      15, (img.shape[1], img.shape[0]), True)\n",
    "\n",
    "for fii, frame in enumerate(frames):\n",
    "    out.write(cv2.imread(frame))\n",
    "    \n",
    "    sys.stdout.write('%d/%d  \\r' % (fii, len(frames)))\n",
    "    sys.stdout.flush()\n",
    "    \n",
    "out.release()"
   ]
  },
  {
   "cell_type": "code",
   "execution_count": null,
   "metadata": {},
   "outputs": [],
   "source": []
  }
 ],
 "metadata": {
  "kernelspec": {
   "display_name": "Python 3",
   "language": "python",
   "name": "python3"
  },
  "language_info": {
   "codemirror_mode": {
    "name": "ipython",
    "version": 3
   },
   "file_extension": ".py",
   "mimetype": "text/x-python",
   "name": "python",
   "nbconvert_exporter": "python",
   "pygments_lexer": "ipython3",
   "version": "3.5.2"
  }
 },
 "nbformat": 4,
 "nbformat_minor": 2
}
