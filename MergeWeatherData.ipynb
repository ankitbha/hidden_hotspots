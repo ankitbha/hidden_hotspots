{
 "cells": [
  {
   "cell_type": "code",
   "execution_count": 30,
   "metadata": {},
   "outputs": [],
   "source": [
    "%matplotlib inline\n",
    "\n",
    "from glob import glob\n",
    "import json\n",
    "import matplotlib.pyplot as plt\n",
    "from datetime import datetime"
   ]
  },
  {
   "cell_type": "code",
   "execution_count": 3,
   "metadata": {},
   "outputs": [
    {
     "name": "stdout",
     "output_type": "stream",
     "text": [
      "['data/weather_10.json', 'data/weather_08.json', 'data/weather_09.json', 'data/weather_03.json', 'data/weather_06.json', 'data/weather_07.json', 'data/weather_04.json', 'data/weather_05.json']\n"
     ]
    }
   ],
   "source": [
    "dfiles = glob('data/*.json')\n",
    "print(dfiles)"
   ]
  },
  {
   "cell_type": "code",
   "execution_count": 6,
   "metadata": {},
   "outputs": [
    {
     "name": "stdout",
     "output_type": "stream",
     "text": [
      "32\n"
     ]
    }
   ],
   "source": [
    "monthly = []\n",
    "for fname in sorted(dfiles):\n",
    "    with open(fname) as fl:\n",
    "        monthly.append(json.load(fl))\n",
    "print(len(monthly[0]['data']['weather']))"
   ]
  },
  {
   "cell_type": "code",
   "execution_count": 11,
   "metadata": {},
   "outputs": [
    {
     "name": "stdout",
     "output_type": "stream",
     "text": [
      "2018-03-01 31\n",
      "2018-04-01 30\n",
      "2018-05-01 31\n",
      "2018-06-01 30\n",
      "2018-07-01 31\n",
      "2018-08-01 31\n",
      "2018-09-01 30\n",
      "2018-10-01 14\n"
     ]
    }
   ],
   "source": [
    "for mdata in monthly:\n",
    "    print(mdata['data']['weather'][0]['date'], len(mdata['data']['weather']) - 1)"
   ]
  },
  {
   "cell_type": "code",
   "execution_count": 20,
   "metadata": {
    "scrolled": false
   },
   "outputs": [
    {
     "name": "stdout",
     "output_type": "stream",
     "text": [
      "Times per day:\n",
      "8\n",
      "Time range:\n",
      "0\n",
      "2100\n"
     ]
    }
   ],
   "source": [
    "print('Times per day:')\n",
    "print(len(monthly[0]['data']['weather'][0]['hourly']))\n",
    "\n",
    "print('Time range:')\n",
    "print(monthly[0]['data']['weather'][0]['hourly'][0]['time'])\n",
    "print(monthly[0]['data']['weather'][0]['hourly'][-1]['time'])"
   ]
  },
  {
   "cell_type": "code",
   "execution_count": 24,
   "metadata": {},
   "outputs": [
    {
     "name": "stdout",
     "output_type": "stream",
     "text": [
      "2018-03-01 2018-10-14\n"
     ]
    }
   ],
   "source": [
    "daily = []\n",
    "for mdata in monthly:\n",
    "    daily += mdata['data']['weather'][:-1]\n",
    "    \n",
    "print(daily[0]['date'], daily[-1]['date'])"
   ]
  },
  {
   "cell_type": "code",
   "execution_count": 31,
   "metadata": {},
   "outputs": [
    {
     "name": "stdout",
     "output_type": "stream",
     "text": [
      "2018-03-01 00:00:00\n",
      "{'HeatIndexC': '26', 'pressure': '1010', 'WindChillC': '26', 'FeelsLikeC': '26', 'humidity': '42', 'windspeedMiles': '2', 'WindChillF': '79', 'winddirDegree': '21', 'tempC': '23', 'weatherIconUrl': [{'value': 'http://cdn.worldweatheronline.net/images/wsymbols01_png_64/wsymbol_0004_black_low_cloud.png'}], 'precipMM': '0.0', 'visibility': '10', 'WindGustKmph': '5', 'time': '0', 'WindGustMiles': '3', 'FeelsLikeF': '79', 'weatherDesc': [{'value': 'Partly cloudy'}], 'tempF': '73', 'cloudcover': '4', 'HeatIndexF': '79', 'weatherCode': '116', 'windspeedKmph': '4', 'winddir16Point': 'NNE', 'DewPointF': '54', 'DewPointC': '12'}\n"
     ]
    }
   ],
   "source": [
    "hourly = []\n",
    "for ddata in daily:\n",
    "    dobj = datetime.strptime(ddata['date'], '%Y-%m-%d')\n",
    "    print(dobj)\n",
    "    print(ddata['hourly'][0])\n",
    "    break\n",
    "#     hourly += ddata['hourly']\n",
    "# print(hourly[0]['date'])"
   ]
  },
  {
   "cell_type": "code",
   "execution_count": null,
   "metadata": {},
   "outputs": [],
   "source": []
  }
 ],
 "metadata": {
  "kernelspec": {
   "display_name": "Python 3",
   "language": "python",
   "name": "python3"
  },
  "language_info": {
   "codemirror_mode": {
    "name": "ipython",
    "version": 3
   },
   "file_extension": ".py",
   "mimetype": "text/x-python",
   "name": "python",
   "nbconvert_exporter": "python",
   "pygments_lexer": "ipython3",
   "version": "3.5.2"
  }
 },
 "nbformat": 4,
 "nbformat_minor": 2
}
