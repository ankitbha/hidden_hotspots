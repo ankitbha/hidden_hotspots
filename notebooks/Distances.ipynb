{
 "cells": [
  {
   "cell_type": "code",
   "execution_count": 1,
   "metadata": {},
   "outputs": [],
   "source": [
    "import pandas as pd\n",
    "from geopy import distance"
   ]
  },
  {
   "cell_type": "code",
   "execution_count": 2,
   "metadata": {},
   "outputs": [],
   "source": [
    "df1 = pd.read_csv('../data/kaiterra/kaiterra_fieldeggid_locations.csv', index_col=[0])\n",
    "df1['Type'] = 'Kaiterra'\n",
    "df2 = pd.read_csv('../data/govdata/govdata_locations.csv', index_col=[0])\n",
    "df2['Type'] = 'Govt'\n",
    "df = pd.merge(df1, df2, how='outer', on=['Monitor ID', 'Latitude', 'Longitude', 'Location', 'Type'], copy=False)"
   ]
  },
  {
   "cell_type": "code",
   "execution_count": 3,
   "metadata": {},
   "outputs": [],
   "source": [
    "lat_lims_1 = df1.Latitude.min(), df1.Latitude.max()\n",
    "lon_lims_1 = df1.Longitude.min(), df1.Longitude.max()\n",
    "lat_lims_2 = df2.Latitude.min(), df2.Latitude.max()\n",
    "lon_lims_2 = df2.Longitude.min(), df2.Longitude.max()\n",
    "lat_lims = df.Latitude.min(), df.Latitude.max()\n",
    "lon_lims = df.Longitude.min(), df.Longitude.max()"
   ]
  },
  {
   "cell_type": "code",
   "execution_count": 5,
   "metadata": {},
   "outputs": [],
   "source": [
    "dlat_1 = distance.distance((lat_lims_1[0], lon_lims_1[0]), (lat_lims_1[1], lon_lims_1[0]))\n",
    "dlon_1 = distance.distance((lat_lims_1[0], lon_lims_1[0]), (lat_lims_1[0], lon_lims_1[1]))\n",
    "area_1 = dlat_1.meters * dlon_1.meters\n",
    "dlat_2 = distance.distance((lat_lims_2[0], lon_lims_2[0]), (lat_lims_2[1], lon_lims_2[0]))\n",
    "dlon_2 = distance.distance((lat_lims_2[0], lon_lims_2[0]), (lat_lims_2[0], lon_lims_2[1]))\n",
    "area_2 = dlat_2.meters * dlon_2.meters\n",
    "dlat = distance.distance((lat_lims[0], lon_lims[0]), (lat_lims[1], lon_lims[0]))\n",
    "dlon = distance.distance((lat_lims[0], lon_lims[0]), (lat_lims[0], lon_lims[1]))\n",
    "area = dlat.meters * dlon.meters"
   ]
  },
  {
   "cell_type": "code",
   "execution_count": 7,
   "metadata": {},
   "outputs": [
    {
     "name": "stdout",
     "output_type": "stream",
     "text": [
      "777.7924056475778\n",
      "859.5602303359092\n",
      "1235.8174141320162\n"
     ]
    }
   ],
   "source": [
    "print(area_1/1e6)\n",
    "print(area_2/1e6)\n",
    "print(area/1e6)"
   ]
  },
  {
   "cell_type": "code",
   "execution_count": 8,
   "metadata": {},
   "outputs": [
    {
     "name": "stdout",
     "output_type": "stream",
     "text": [
      "29\n",
      "33\n",
      "62\n"
     ]
    }
   ],
   "source": [
    "print(df1.index.size)\n",
    "print(df2.index.size)\n",
    "print(df.index.size)"
   ]
  },
  {
   "cell_type": "code",
   "execution_count": 9,
   "metadata": {},
   "outputs": [
    {
     "name": "stdout",
     "output_type": "stream",
     "text": [
      "26.820427780950958\n",
      "26.047279707148764\n",
      "19.932538937613163\n"
     ]
    }
   ],
   "source": [
    "print((area_1/1e6)/df1.shape[0])\n",
    "print((area_2/1e6)/df2.shape[0])\n",
    "print((area/1e6)/df.shape[0])"
   ]
  },
  {
   "cell_type": "code",
   "execution_count": null,
   "metadata": {},
   "outputs": [],
   "source": []
  }
 ],
 "metadata": {
  "kernelspec": {
   "display_name": "Python 3",
   "language": "python",
   "name": "python3"
  },
  "language_info": {
   "codemirror_mode": {
    "name": "ipython",
    "version": 3
   },
   "file_extension": ".py",
   "mimetype": "text/x-python",
   "name": "python",
   "nbconvert_exporter": "python",
   "pygments_lexer": "ipython3",
   "version": "3.7.5"
  }
 },
 "nbformat": 4,
 "nbformat_minor": 2
}
