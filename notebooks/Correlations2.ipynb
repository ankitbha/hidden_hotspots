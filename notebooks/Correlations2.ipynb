{
 "cells": [
  {
   "cell_type": "code",
   "execution_count": 2,
   "metadata": {},
   "outputs": [],
   "source": [
    "import pandas as pd\n",
    "np = pd.np\n",
    "import matplotlib.pyplot as plt\n",
    "import importlib\n",
    "import utils"
   ]
  },
  {
   "cell_type": "code",
   "execution_count": 3,
   "metadata": {},
   "outputs": [
    {
     "data": {
      "text/plain": [
       "<module 'utils' from '/home/shivar/Research/pollution/epod-nyu-delhi-pollution/utils.py'>"
      ]
     },
     "execution_count": 3,
     "metadata": {},
     "output_type": "execute_result"
    }
   ],
   "source": [
    "importlib.reload(utils)"
   ]
  },
  {
   "cell_type": "code",
   "execution_count": 4,
   "metadata": {},
   "outputs": [],
   "source": [
    "suffix = '2019_Feb_28'\n",
    "df1 = pd.read_csv('data/kaiterra_fieldeggid_15min_{}_panel.csv'.format(suffix), index_col=[0,1], parse_dates=True)\n",
    "df1.sort_index(inplace=True)\n",
    "df2 = pd.read_csv('data/govdata/govdata_15min_panel.csv', index_col=[0,1], parse_dates=True)\n",
    "df2.sort_index(inplace=True)"
   ]
  },
  {
   "cell_type": "code",
   "execution_count": 5,
   "metadata": {},
   "outputs": [
    {
     "name": "stdout",
     "output_type": "stream",
     "text": [
      "Index(['113E', '1FD7', '20CA', '2E9C', '3ACF', '498F', '4BE7', '56C3', '5D7A',\n",
      "       '603A', '72CA', '8E2A', '91B8', '97D7', 'A838', 'A9BE', 'BB4A', 'BC46',\n",
      "       'BFDC', 'C0A7', 'CBC7', 'D804', 'DF07', 'E1F8', 'E47A', 'E486', 'E8E4',\n",
      "       'EAC8'],\n",
      "      dtype='object', name='field_egg_id')\n",
      "Index(['latitude', 'longitude', 'location', 'pm25', 'pm10'], dtype='object')\n"
     ]
    }
   ],
   "source": [
    "print(df1.index.levels[0])\n",
    "print(df1.columns)"
   ]
  },
  {
   "cell_type": "code",
   "execution_count": 6,
   "metadata": {},
   "outputs": [
    {
     "name": "stdout",
     "output_type": "stream",
     "text": [
      "Index(['AnandVihar_DPCC', 'AshokVihar_DPCC', 'AyaNagar_IMD',\n",
      "       'BurariCrossing_IMD', 'CRRIMathuraRoad_IMD', 'DKSSR_DPCC', 'DTU_CPCB',\n",
      "       'DwarkaSector8_DPCC', 'EastArjunNagar_CPCB', 'IGIAirport_IMD',\n",
      "       'IHBAS_CPCB', 'ITO_CPCB', 'JNS_DPCC', 'Jahangirpuri_DPCC',\n",
      "       'LodhiRoad_IMD', 'MDCNS_DPCC', 'MandirMarg_DPCC', 'Mundaka_DPCC',\n",
      "       'NSIT_CPCB', 'NehruNagar_DPCC', 'OkhlaPhase2_DPCC', 'Patparganj_DPCC',\n",
      "       'PunjabiBagh_DPCC', 'Pusa_DPCC', 'Pusa_IMD', 'RKPuram_DPCC',\n",
      "       'Rohini_DPCC', 'Shadipur_CPCB', 'Sirifort_CPCB', 'SoniaVihar_DPCC',\n",
      "       'SriAurobindoMarg_DPCC', 'VivekVihar_DPCC', 'Wazirpur_DPCC'],\n",
      "      dtype='object', name='monitor_id')\n",
      "Index(['pm25', 'pm10'], dtype='object')\n"
     ]
    }
   ],
   "source": [
    "print(df2.index.levels[0])\n",
    "print(df2.columns)"
   ]
  },
  {
   "cell_type": "code",
   "execution_count": 7,
   "metadata": {},
   "outputs": [],
   "source": [
    "from kNearestNeighbors import get_latlondict_gov\n",
    "latlondict = get_latlondict_gov()\n",
    "for mid in df1.index.levels[0]:\n",
    "    latlondict[mid] = (df1.loc[mid].latitude[0], df1.loc[mid].longitude[0])"
   ]
  },
  {
   "cell_type": "code",
   "execution_count": 8,
   "metadata": {},
   "outputs": [
    {
     "data": {
      "text/plain": [
       "{'AnandVihar_DPCC': (28.646835, 77.31603199999999),\n",
       " 'AshokVihar_DPCC': (28.695381, 77.181665),\n",
       " 'AyaNagar_IMD': (28.4706914, 77.10993640000001),\n",
       " 'BurariCrossing_IMD': (28.725650399999996, 77.20115729999999),\n",
       " 'CRRIMathuraRoad_IMD': (28.5512005, 77.27357370000001),\n",
       " 'DKSSR_DPCC': (28.498571000000002, 77.26484),\n",
       " 'DTU_CPCB': (28.7500499, 77.1112615),\n",
       " 'DwarkaSector8_DPCC': (28.5710274, 77.07190059999999),\n",
       " 'EastArjunNagar_CPCB': (28.6556017, 77.2859318),\n",
       " 'IGIAirport_IMD': (28.562776300000003, 77.1180053),\n",
       " 'IHBAS_CPCB': (28.681173600000005, 77.30252340000001),\n",
       " 'ITO_CPCB': (28.631694500000002, 77.2494387),\n",
       " 'JNS_DPCC': (28.58028, 77.233829),\n",
       " 'Jahangirpuri_DPCC': (28.73282, 77.170633),\n",
       " 'LodhiRoad_IMD': (28.5918245, 77.2273074),\n",
       " 'MDCNS_DPCC': (28.611280999999998, 77.23773800000001),\n",
       " 'MandirMarg_DPCC': (28.636428999999996, 77.20106700000001),\n",
       " 'Mundaka_DPCC': (28.684678, 77.076574),\n",
       " 'NSIT_CPCB': (28.609090000000002, 77.03254129999999),\n",
       " 'NehruNagar_DPCC': (28.567890000000002, 77.25051500000001),\n",
       " 'OkhlaPhase2_DPCC': (28.530784999999998, 77.27125500000001),\n",
       " 'Patparganj_DPCC': (28.623748, 77.287205),\n",
       " 'PunjabiBagh_DPCC': (28.674045, 77.131023),\n",
       " 'Pusa_DPCC': (28.639645, 77.146262),\n",
       " 'Pusa_IMD': (28.639645, 77.146263),\n",
       " 'RKPuram_DPCC': (28.563261999999998, 77.186937),\n",
       " 'Rohini_DPCC': (28.732528000000002, 77.11992),\n",
       " 'Shadipur_CPCB': (28.651478100000002, 77.1473105),\n",
       " 'Sirifort_CPCB': (28.5504249, 77.2159377),\n",
       " 'SoniaVihar_DPCC': (28.710508, 77.24948499999999),\n",
       " 'SriAurobindoMarg_DPCC': (28.531346000000003, 77.190156),\n",
       " 'VivekVihar_DPCC': (28.672341999999997, 77.31526),\n",
       " 'Wazirpur_DPCC': (28.699793, 77.165453),\n",
       " '113E': (28.545185999999998, 77.24589),\n",
       " '1FD7': (28.56502, 77.19097),\n",
       " '20CA': (28.574575, 77.16107099999999),\n",
       " '2E9C': (28.523288, 77.19337900000001),\n",
       " '3ACF': (28.536966999999997, 77.203255),\n",
       " '498F': (28.55663, 77.234774),\n",
       " '4BE7': (28.532870399999997, 77.2171122),\n",
       " '56C3': (28.543433, 77.213555),\n",
       " '5D7A': (28.482569, 77.100401),\n",
       " '603A': (28.602775, 77.188772),\n",
       " '72CA': (28.455965999999997, 77.31596400000001),\n",
       " '8E2A': (28.474102600000002, 77.12221290000001),\n",
       " '91B8': (28.50305, 77.18566),\n",
       " '97D7': (28.565169, 77.197138),\n",
       " 'A838': (28.6263, 77.2275),\n",
       " 'A9BE': (28.5568588, 77.2205897),\n",
       " 'BB4A': (28.55498, 77.19443000000001),\n",
       " 'BC46': (28.63295, 77.2887),\n",
       " 'BFDC': (28.5210826, 77.2142372),\n",
       " 'C0A7': (28.415079, 77.04353),\n",
       " 'CBC7': (28.601407000000002, 77.18570799999999),\n",
       " 'D804': (28.55823, 77.20862),\n",
       " 'DF07': (28.561666, 77.236938),\n",
       " 'E1F8': (28.5717756, 77.231755),\n",
       " 'E47A': (28.54249, 77.20719),\n",
       " 'E486': (28.536617, 77.372281),\n",
       " 'E8E4': (28.565070000000002, 77.19753399999999),\n",
       " 'EAC8': (28.539471999999996, 77.186686)}"
      ]
     },
     "execution_count": 8,
     "metadata": {},
     "output_type": "execute_result"
    }
   ],
   "source": [
    "latlondict"
   ]
  },
  {
   "cell_type": "code",
   "execution_count": 9,
   "metadata": {},
   "outputs": [],
   "source": [
    "df1.drop(['latitude', 'longitude', 'location'], axis='columns', inplace=True)\n",
    "df = pd.concat([df1, df2], sort=False, copy=False)"
   ]
  },
  {
   "cell_type": "code",
   "execution_count": 10,
   "metadata": {},
   "outputs": [],
   "source": [
    "# # compute correlation vs. distance - this helps identify interesting pairs of sensors\n",
    "\n",
    "# from geopy import distance\n",
    "# from itertools import combinations\n",
    "\n",
    "# res_list = []\n",
    "\n",
    "# for mid1, mid2 in combinations(latlondict.keys(), 2):\n",
    "#     dist = distance.distance(latlondict[mid1], latlondict[mid2]).meters\n",
    "#     corr, npts = utils.nancorrcoef(df.loc[mid1].pm25.values, df.loc[mid2].pm25.values)\n",
    "#     res_list.append((mid1, mid2, dist, corr, npts))\n",
    "\n",
    "# print(len(res_list))\n",
    "# corrdf = pd.DataFrame(data=res_list, columns=['Monitor_ID_1', 'Monitor_ID_2', 'Distance', 'Correlation', 'Num_points'])\n",
    "# corrdf.sort_values(['Distance', 'Correlation'], ascending=[True, False], inplace=True)\n",
    "# corrdf.to_csv('correlations.csv', index=False)"
   ]
  },
  {
   "cell_type": "code",
   "execution_count": 11,
   "metadata": {},
   "outputs": [],
   "source": [
    "corrdf = pd.read_csv('correlations.csv')"
   ]
  },
  {
   "cell_type": "code",
   "execution_count": 12,
   "metadata": {},
   "outputs": [
    {
     "data": {
      "image/png": "[encoded data removed]",
      "text/plain": [
       "<Figure size 432x288 with 1 Axes>"
      ]
     },
     "metadata": {},
     "output_type": "display_data"
    }
   ],
   "source": [
    "plt.figure()\n",
    "#dists_list = np.asarray([tup[2] for tup in res_list])\n",
    "dists_list = corrdf.Distance\n",
    "#corrs_list = np.asarray([tup[3] for tup in res_list])\n",
    "corrs_list = corrdf.Correlation\n",
    "plt.scatter(dists_list, corrs_list)\n",
    "plt.title('Correlation vs distance')\n",
    "plt.xlabel('Distance (meters)')\n",
    "plt.ylabel('Correlation coefficient')\n",
    "plt.savefig('corr_dist.png')\n",
    "plt.show()"
   ]
  },
  {
   "cell_type": "code",
   "execution_count": 13,
   "metadata": {},
   "outputs": [
    {
     "data": {
      "image/png": "[encoded data removed]",
      "text/plain": [
       "<Figure size 432x288 with 1 Axes>"
      ]
     },
     "metadata": {},
     "output_type": "display_data"
    }
   ],
   "source": [
    "cutoff = 3000\n",
    "sel = (dists_list < cutoff)\n",
    "x = dists_list[sel]\n",
    "y = corrs_list[sel]\n",
    "plt.scatter(x, y)\n",
    "plt.title('Correlation vs distance')\n",
    "plt.xlabel('Distance (meters)')\n",
    "plt.ylabel('Correlation coefficient')\n",
    "plt.savefig('corr_dist_lt{}.png'.format(cutoff))\n",
    "plt.show()"
   ]
  },
  {
   "cell_type": "code",
   "execution_count": 14,
   "metadata": {},
   "outputs": [
    {
     "data": {
      "image/png": "[encoded data removed]",
      "text/plain": [
       "<Figure size 432x288 with 1 Axes>"
      ]
     },
     "metadata": {},
     "output_type": "display_data"
    }
   ],
   "source": [
    "# sample studies of sensors close by but with low correlation\n",
    "plt.figure()\n",
    "s = 27000\n",
    "e = s + 1344\n",
    "df1.loc['1FD7'].pm25.iloc[s:e].plot(ax=plt.gca(), label='1FD7')\n",
    "df2.loc['RKPuram_DPCC'].pm25.iloc[s:e].plot(ax=plt.gca(), label='R K Puram DPCC')\n",
    "plt.legend()\n",
    "plt.show()"
   ]
  },
  {
   "cell_type": "code",
   "execution_count": 16,
   "metadata": {},
   "outputs": [
    {
     "name": "stdout",
     "output_type": "stream",
     "text": [
      "3 RKPuram_DPCC 1FD7 160.60 110.21 57.45\n"
     ]
    },
    {
     "name": "stderr",
     "output_type": "stream",
     "text": [
      "/opt/anaconda3/envs/root3/lib/python3.6/site-packages/numpy/lib/function_base.py:3175: RuntimeWarning: Degrees of freedom <= 0 for slice\n",
      "  c = cov(x, y, rowvar)\n",
      "/opt/anaconda3/envs/root3/lib/python3.6/site-packages/numpy/lib/function_base.py:3109: RuntimeWarning: divide by zero encountered in double_scalars\n",
      "  c *= 1. / np.float64(fact)\n",
      "/opt/anaconda3/envs/root3/lib/python3.6/site-packages/numpy/lib/function_base.py:3109: RuntimeWarning: invalid value encountered in multiply\n",
      "  c *= 1. / np.float64(fact)\n"
     ]
    },
    {
     "name": "stdout",
     "output_type": "stream",
     "text": [
      "24 Sirifort_CPCB E47A 106.48 76.64 32.37\n"
     ]
    },
    {
     "name": "stderr",
     "output_type": "stream",
     "text": [
      "/opt/anaconda3/envs/root3/lib/python3.6/site-packages/numpy/lib/function_base.py:3183: RuntimeWarning: invalid value encountered in true_divide\n",
      "  c /= stddev[:, None]\n",
      "/opt/anaconda3/envs/root3/lib/python3.6/site-packages/numpy/lib/function_base.py:3184: RuntimeWarning: invalid value encountered in true_divide\n",
      "  c /= stddev[None, :]\n"
     ]
    },
    {
     "name": "stdout",
     "output_type": "stream",
     "text": [
      "27 AyaNagar_IMD 8E2A 129.84 158.60 80.78\n"
     ]
    },
    {
     "name": "stderr",
     "output_type": "stream",
     "text": [
      "/opt/anaconda3/envs/root3/lib/python3.6/site-packages/numpy/lib/function_base.py:3183: RuntimeWarning: invalid value encountered in true_divide\n",
      "  c /= stddev[:, None]\n",
      "/opt/anaconda3/envs/root3/lib/python3.6/site-packages/numpy/lib/function_base.py:3184: RuntimeWarning: invalid value encountered in true_divide\n",
      "  c /= stddev[None, :]\n"
     ]
    },
    {
     "name": "stdout",
     "output_type": "stream",
     "text": [
      "40 IHBAS_CPCB VivekVihar_DPCC 80.48 171.63 37.49\n",
      "41 AyaNagar_IMD 5D7A 129.84 53.51 38.09\n",
      "56 Sirifort_CPCB 3ACF 106.48 44.60 17.38\n"
     ]
    },
    {
     "name": "stderr",
     "output_type": "stream",
     "text": [
      "/opt/anaconda3/envs/root3/lib/python3.6/site-packages/numpy/lib/function_base.py:3183: RuntimeWarning: invalid value encountered in true_divide\n",
      "  c /= stddev[:, None]\n",
      "/opt/anaconda3/envs/root3/lib/python3.6/site-packages/numpy/lib/function_base.py:3184: RuntimeWarning: invalid value encountered in true_divide\n",
      "  c /= stddev[None, :]\n"
     ]
    },
    {
     "name": "stdout",
     "output_type": "stream",
     "text": [
      "58 Sirifort_CPCB 4BE7 106.48 124.60 45.14\n",
      "59 Sirifort_CPCB 498F 106.48 68.32 25.76\n"
     ]
    },
    {
     "name": "stderr",
     "output_type": "stream",
     "text": [
      "/opt/anaconda3/envs/root3/lib/python3.6/site-packages/numpy/lib/function_base.py:3175: RuntimeWarning: Degrees of freedom <= 0 for slice\n",
      "  c = cov(x, y, rowvar)\n",
      "/opt/anaconda3/envs/root3/lib/python3.6/site-packages/numpy/lib/function_base.py:3109: RuntimeWarning: divide by zero encountered in double_scalars\n",
      "  c *= 1. / np.float64(fact)\n",
      "/opt/anaconda3/envs/root3/lib/python3.6/site-packages/numpy/lib/function_base.py:3109: RuntimeWarning: invalid value encountered in multiply\n",
      "  c *= 1. / np.float64(fact)\n"
     ]
    },
    {
     "name": "stdout",
     "output_type": "stream",
     "text": [
      "61 NehruNagar_DPCC 498F 167.41 68.32 32.39\n",
      "72 3ACF BB4A 44.60 123.99 34.80\n",
      "78 5D7A 8E2A 53.51 158.60 72.42\n"
     ]
    },
    {
     "name": "stderr",
     "output_type": "stream",
     "text": [
      "/opt/anaconda3/envs/root3/lib/python3.6/site-packages/numpy/lib/function_base.py:3175: RuntimeWarning: Degrees of freedom <= 0 for slice\n",
      "  c = cov(x, y, rowvar)\n",
      "/opt/anaconda3/envs/root3/lib/python3.6/site-packages/numpy/lib/function_base.py:3109: RuntimeWarning: divide by zero encountered in double_scalars\n",
      "  c *= 1. / np.float64(fact)\n",
      "/opt/anaconda3/envs/root3/lib/python3.6/site-packages/numpy/lib/function_base.py:3109: RuntimeWarning: invalid value encountered in multiply\n",
      "  c *= 1. / np.float64(fact)\n"
     ]
    },
    {
     "name": "stdout",
     "output_type": "stream",
     "text": [
      "89 2E9C E47A 135.39 76.64 30.75\n",
      "92 498F 56C3 68.32 189.60 48.86\n",
      "125 PunjabiBagh_DPCC Shadipur_CPCB 167.08 85.65 43.75\n"
     ]
    }
   ],
   "source": [
    "# for every pair of sensors with dist < 3 km and correlation < 0.6, \n",
    "# plot time series for each sensor for each day when readings from both \n",
    "# sensors are available\n",
    "\n",
    "import os\n",
    "\n",
    "plt.rc('font', size=28)\n",
    "\n",
    "monitorids_shortlist = set()\n",
    "for row in corrdf.itertuples():\n",
    "    if row.Distance <= 3000 and row.Correlation <= 0.6:\n",
    "        mid1, mid2 = row.Monitor_ID_1, row.Monitor_ID_2\n",
    "        \n",
    "        monitorids_shortlist.add(mid1)\n",
    "        monitorids_shortlist.add(mid2)\n",
    "        series1 = df1.loc[mid1].pm25 if mid1 in df1.index else df2.loc[mid1].pm25\n",
    "        series2 = df1.loc[mid2].pm25 if mid2 in df1.index else df2.loc[mid2].pm25\n",
    "        mean1 = np.nanmean(series1.values)\n",
    "        mean2 = np.nanmean(series2.values)\n",
    "        meandiff = np.nanmean(np.abs(series1.values - series2.values))\n",
    "        \n",
    "        print(row.Index, mid1, mid2, '{:.2f}'.format(mean1), '{:.2f}'.format(mean2), '{:.2f}'.format(meandiff))\n",
    "        \n",
    "        savedir = 'plots/{}__{}/pm25/'.format(mid1, mid2)\n",
    "        if not os.path.exists(savedir):\n",
    "            os.makedirs(savedir)\n",
    "        \n",
    "        for dayno in range(365):\n",
    "            series1_day = series1.iloc[dayno*96:(dayno+1)*96].copy(deep=True)\n",
    "            series2_day = series2.iloc[dayno*96:(dayno+1)*96].copy(deep=True)\n",
    "            \n",
    "            ts = series1_day.index[0]\n",
    "            \n",
    "            # remove outliers\n",
    "            if not np.isnan(series1_day.values).all() and not np.isnan(series2_day.values).all():\n",
    "                mean1_day = np.nanmean(series1_day)\n",
    "                std1_day = np.nanstd(series1_day)\n",
    "                outlierlocs1 = ((series1_day > (mean1_day + 3*std1_day)) | (series1_day < (mean1_day - 3*std1_day)))\n",
    "                series1_day[outlierlocs1] = np.nan\n",
    "                mean2_day = np.nanmean(series2_day)\n",
    "                std2_day = np.nanstd(series2_day)\n",
    "                outlierlocs2 = ((series2_day > (mean2_day + 3*std2_day)) | (series2_day < (mean2_day - 3*std2_day)))\n",
    "                series2_day[outlierlocs2] = np.nan\n",
    "            \n",
    "                corr_day, npts_day = utils.nancorrcoef(series1_day.values, series2_day.values)\n",
    "                if npts_day > 0:\n",
    "                    mean1_day = np.nanmean(series1_day)\n",
    "                    mean2_day = np.nanmean(series2_day)\n",
    "                    meandiff = np.nanmean(np.abs(series1_day.values - series2_day.values))\n",
    "                    fig = plt.figure(figsize=(16,12))\n",
    "                    ax = fig.add_subplot(111)\n",
    "                    series1_day.plot(ax=ax, label='{} (inv={})'.format(mid1, sum(outlierlocs1)))\n",
    "                    series2_day.plot(ax=ax, label='{} (inv={})'.format(mid2, sum(outlierlocs2)))\n",
    "                    ax.legend(ncol=2, fontsize='x-small')\n",
    "                    ax.set_xlabel('Time')\n",
    "                    ax.set_ylabel(r'$PM_{2.5}$ conc ($\\mu g/m^3$)')\n",
    "                    ax.set_title(r'{} & {}, {}, {}, corr={:.2f}, diff={:.2f} $\\mu g/m^3$, dist={:.2f} m'.format(mid1, mid2, ts.strftime('%Y-%m-%d'), ts.day_name(), corr_day, meandiff, row.Distance),\n",
    "                                fontsize='x-small')\n",
    "                    fig.savefig(os.path.join(savedir, ts.strftime('%Y%m%d') + '_pm25.png'))\n",
    "                    plt.close(fig)\n",
    "                    series1_day.name = mid1\n",
    "                    series2_day.name = mid2\n",
    "                    df_day = pd.concat([series1_day, series2_day], axis=1)\n",
    "                    df_day.to_csv(os.path.join(savedir, ts.strftime('%Y%m%d') + '_pm25.csv'))\n",
    "\n",
    "plt.rcdefaults()"
   ]
  },
  {
   "cell_type": "code",
   "execution_count": 21,
   "metadata": {},
   "outputs": [
    {
     "name": "stdout",
     "output_type": "stream",
     "text": [
      "['1FD7', '2E9C', '3ACF', '498F', '4BE7', '56C3', '5D7A', '8E2A', 'AyaNagar_IMD', 'BB4A', 'E47A', 'IHBAS_CPCB', 'NehruNagar_DPCC', 'PunjabiBagh_DPCC', 'RKPuram_DPCC', 'Shadipur_CPCB', 'Sirifort_CPCB', 'VivekVihar_DPCC']\n"
     ]
    }
   ],
   "source": [
    "print(sorted(monitorids_shortlist))\n",
    "with open('anomalies_monitors.txt', 'w') as fout:\n",
    "    fout.write(os.linesep.join(sorted(monitorids_shortlist)))"
   ]
  },
  {
   "cell_type": "code",
   "execution_count": 22,
   "metadata": {},
   "outputs": [],
   "source": [
    "# for each of the shortlisted monitors, extract longest\n",
    "# contiguous portion, smoothen it and apply fourier transform\n",
    "# to extract the frequency components\n",
    "\n",
    "for mid in monitorids_shortlist:\n",
    "    series = df1.loc[mid].pm25 if mid in df1.index else df2.loc[mid].pm25\n",
    "    arr = utils.extract_contiguous([series.values]).squeeze()\n",
    "    np.fft"
   ]
  },
  {
   "cell_type": "code",
   "execution_count": 4,
   "metadata": {},
   "outputs": [
    {
     "name": "stdout",
     "output_type": "stream",
     "text": [
      "2111\n",
      "[[1.        0.8754422]\n",
      " [0.8754422 1.       ]]\n"
     ]
    }
   ],
   "source": [
    "# (1) correlations between sensors of same type situated very close by\n",
    "# df1.loc[['603A', 'CBC7']]\n",
    "mat = utils.extract_contiguous([df1.loc['603A'].pm25.values, df1.loc['CBC7'].pm25.values])\n",
    "print(mat.shape[0])\n",
    "print(np.corrcoef(mat[:,0], mat[:,1]))"
   ]
  },
  {
   "cell_type": "code",
   "execution_count": 5,
   "metadata": {},
   "outputs": [],
   "source": [
    "# (2) fourier transforms\n",
    "\n",
    "def plot_dft(xt, d=1.0):\n",
    "    xf = np.fft.fft(xt)\n",
    "    freqs = np.fft.fftfreq(xt.size, d)\n",
    "    plt.figure(figsize=(12,12))\n",
    "    plt.subplot(211)\n",
    "    plt.plot(freqs, xf.real)\n",
    "    plt.title('Freq component magnitudes')\n",
    "    plt.subplot(212)\n",
    "    plt.plot(freqs, xf.imag)\n",
    "    plt.title('Freq component phases')\n",
    "    plt.show()"
   ]
  },
  {
   "cell_type": "code",
   "execution_count": 6,
   "metadata": {},
   "outputs": [
    {
     "data": {
      "image/png": "[encoded data removed]",
      "text/plain": [
       "<Figure size 432x288 with 1 Axes>"
      ]
     },
     "metadata": {
      "needs_background": "light"
     },
     "output_type": "display_data"
    },
    {
     "data": {
      "image/png": "[encoded data removed]",
      "text/plain": [
       "<Figure size 864x864 with 2 Axes>"
      ]
     },
     "metadata": {
      "needs_background": "light"
     },
     "output_type": "display_data"
    },
    {
     "data": {
      "image/png": "[encoded data removed]",
      "text/plain": [
       "<Figure size 432x288 with 1 Axes>"
      ]
     },
     "metadata": {
      "needs_background": "light"
     },
     "output_type": "display_data"
    },
    {
     "data": {
      "image/png": "[encoded data removed]",
      "text/plain": [
       "<Figure size 864x864 with 2 Axes>"
      ]
     },
     "metadata": {
      "needs_background": "light"
     },
     "output_type": "display_data"
    }
   ],
   "source": [
    "mids_list = ['CBC7', '603A']\n",
    "\n",
    "for mid in mids_list:\n",
    "    arr = df1.loc[mid].pm25.values.reshape(-1, 96)\n",
    "    arr_avg = np.nanmean(arr, axis=0)\n",
    "    plt.plot(arr_avg)\n",
    "    plt.title('Whole year daily avg trend - {}'.format(mid))\n",
    "    plot_dft(arr_avg, 15)"
   ]
  },
  {
   "cell_type": "code",
   "execution_count": 7,
   "metadata": {},
   "outputs": [
    {
     "name": "stdout",
     "output_type": "stream",
     "text": [
      "Index(['113E', '1FD7', '20CA', '2E9C', '3ACF', '498F', '4BE7', '56C3', '5D7A',\n",
      "       '603A', '72CA', '8E2A', '91B8', '97D7', 'A838', 'A9BE', 'BB4A', 'BC46',\n",
      "       'BFDC', 'C0A7', 'CBC7', 'D804', 'DF07', 'E1F8', 'E47A', 'E486', 'E8E4',\n",
      "       'EAC8'],\n",
      "      dtype='object', name='field_egg_id')\n",
      "Index(['latitude', 'longitude', 'location', 'pm25', 'pm10'], dtype='object')\n"
     ]
    }
   ],
   "source": [
    "print(df1.index.levels[0])\n",
    "print(df1.columns)"
   ]
  },
  {
   "cell_type": "code",
   "execution_count": 8,
   "metadata": {},
   "outputs": [
    {
     "name": "stdout",
     "output_type": "stream",
     "text": [
      "Index(['AnandVihar_DPCC', 'AshokVihar_DPCC', 'AyaNagar_IMD',\n",
      "       'BurariCrossing_IMD', 'CRRIMathuraRoad_IMD', 'DKSSR_DPCC', 'DTU_CPCB',\n",
      "       'DwarkaSector8_DPCC', 'EastArjunNagar_CPCB', 'IGIAirport_IMD',\n",
      "       'IHBAS_CPCB', 'ITO_CPCB', 'JNS_DPCC', 'Jahangirpuri_DPCC',\n",
      "       'LodhiRoad_IMD', 'MDCNS_DPCC', 'MandirMarg_DPCC', 'Mundaka_DPCC',\n",
      "       'NSIT_CPCB', 'NehruNagar_DPCC', 'OkhlaPhase2_DPCC', 'Patparganj_DPCC',\n",
      "       'PunjabiBagh_DPCC', 'Pusa_DPCC', 'Pusa_IMD', 'RKPuram_DPCC',\n",
      "       'Rohini_DPCC', 'Shadipur_CPCB', 'Sirifort_CPCB', 'SoniaVihar_DPCC',\n",
      "       'SriAurobindoMarg_DPCC', 'VivekVihar_DPCC', 'Wazirpur_DPCC'],\n",
      "      dtype='object', name='monitor_id')\n",
      "Index(['pm25', 'pm10'], dtype='object')\n"
     ]
    }
   ],
   "source": [
    "print(df2.index.levels[0])\n",
    "print(df2.columns)"
   ]
  },
  {
   "cell_type": "code",
   "execution_count": 9,
   "metadata": {},
   "outputs": [
    {
     "name": "stdout",
     "output_type": "stream",
     "text": [
      "DatetimeIndex(['2018-03-01 00:00:00', '2018-03-01 00:15:00',\n",
      "               '2018-03-01 00:30:00', '2018-03-01 00:45:00',\n",
      "               '2018-03-01 01:00:00', '2018-03-01 01:15:00',\n",
      "               '2018-03-01 01:30:00', '2018-03-01 01:45:00',\n",
      "               '2018-03-01 02:00:00', '2018-03-01 02:15:00',\n",
      "               ...\n",
      "               '2019-02-28 21:30:00', '2019-02-28 21:45:00',\n",
      "               '2019-02-28 22:00:00', '2019-02-28 22:15:00',\n",
      "               '2019-02-28 22:30:00', '2019-02-28 22:45:00',\n",
      "               '2019-02-28 23:00:00', '2019-02-28 23:15:00',\n",
      "               '2019-02-28 23:30:00', '2019-02-28 23:45:00'],\n",
      "              dtype='datetime64[ns]', name='timestamp_round', length=35040, freq=None)\n",
      "365.0\n"
     ]
    }
   ],
   "source": [
    "print(df1.index.levels[1])\n",
    "print(df1.index.levels[1].size / 96)"
   ]
  },
  {
   "cell_type": "code",
   "execution_count": 10,
   "metadata": {},
   "outputs": [
    {
     "name": "stdout",
     "output_type": "stream",
     "text": [
      "Int64Index([3, 3, 3, 3, 3, 3, 3, 3, 3, 3,\n",
      "            ...\n",
      "            2, 2, 2, 2, 2, 2, 2, 2, 2, 2],\n",
      "           dtype='int64', name='timestamp_round', length=35040)\n",
      "Int64Index([9, 9, 9, 9, 9, 9, 9, 9, 9, 9,\n",
      "            ...\n",
      "            9, 9, 9, 9, 9, 9, 9, 9, 9, 9],\n",
      "           dtype='int64', name='timestamp_round', length=35040)\n",
      "Int64Index([9, 9, 9, 9, 9, 9, 9, 9, 9, 9,\n",
      "            ...\n",
      "            9, 9, 9, 9, 9, 9, 9, 9, 9, 9],\n",
      "           dtype='int64', name='timestamp_round', length=35040)\n",
      "False\n"
     ]
    }
   ],
   "source": [
    "print(df1.index.levels[1].month)\n",
    "print(df1.index.levels[1].week)\n",
    "print(df1.index.levels[1].weekofyear)\n",
    "print(np.any(df1.index.levels[1].weekofyear - df1.index.levels[1].week))"
   ]
  },
  {
   "cell_type": "code",
   "execution_count": 17,
   "metadata": {},
   "outputs": [
    {
     "name": "stderr",
     "output_type": "stream",
     "text": [
      "  0%|          | 0/52 [00:00<?, ?it/s]/opt/anaconda/lib/python3.7/site-packages/ipykernel_launcher.py:23: RuntimeWarning: Mean of empty slice\n",
      "  4%|▍         | 2/52 [00:00<00:02, 19.36it/s]"
     ]
    },
    {
     "name": "stdout",
     "output_type": "stream",
     "text": [
      "0 113E\n"
     ]
    },
    {
     "name": "stderr",
     "output_type": "stream",
     "text": [
      "100%|██████████| 52/52 [00:03<00:00, 17.29it/s]\n",
      "  6%|▌         | 3/52 [00:00<00:02, 23.20it/s]"
     ]
    },
    {
     "name": "stdout",
     "output_type": "stream",
     "text": [
      "1 1FD7\n"
     ]
    },
    {
     "name": "stderr",
     "output_type": "stream",
     "text": [
      "100%|██████████| 52/52 [00:02<00:00, 21.71it/s]\n",
      "  6%|▌         | 3/52 [00:00<00:02, 23.65it/s]"
     ]
    },
    {
     "name": "stdout",
     "output_type": "stream",
     "text": [
      "2 20CA\n"
     ]
    },
    {
     "name": "stderr",
     "output_type": "stream",
     "text": [
      "100%|██████████| 52/52 [00:02<00:00, 20.75it/s]\n",
      "  6%|▌         | 3/52 [00:00<00:02, 23.40it/s]"
     ]
    },
    {
     "name": "stdout",
     "output_type": "stream",
     "text": [
      "3 2E9C\n"
     ]
    },
    {
     "name": "stderr",
     "output_type": "stream",
     "text": [
      "100%|██████████| 52/52 [00:02<00:00, 21.09it/s]\n",
      "  6%|▌         | 3/52 [00:00<00:02, 21.33it/s]"
     ]
    },
    {
     "name": "stdout",
     "output_type": "stream",
     "text": [
      "4 3ACF\n"
     ]
    },
    {
     "name": "stderr",
     "output_type": "stream",
     "text": [
      "100%|██████████| 52/52 [00:03<00:00, 16.91it/s]\n",
      "  6%|▌         | 3/52 [00:00<00:02, 20.05it/s]"
     ]
    },
    {
     "name": "stdout",
     "output_type": "stream",
     "text": [
      "5 498F\n"
     ]
    },
    {
     "name": "stderr",
     "output_type": "stream",
     "text": [
      "100%|██████████| 52/52 [00:02<00:00, 21.50it/s]\n",
      "  6%|▌         | 3/52 [00:00<00:02, 23.31it/s]"
     ]
    },
    {
     "name": "stdout",
     "output_type": "stream",
     "text": [
      "6 4BE7\n"
     ]
    },
    {
     "name": "stderr",
     "output_type": "stream",
     "text": [
      "100%|██████████| 52/52 [00:02<00:00, 20.05it/s]\n",
      "  6%|▌         | 3/52 [00:00<00:02, 23.40it/s]"
     ]
    },
    {
     "name": "stdout",
     "output_type": "stream",
     "text": [
      "7 56C3\n"
     ]
    },
    {
     "name": "stderr",
     "output_type": "stream",
     "text": [
      "100%|██████████| 52/52 [00:02<00:00, 22.72it/s]\n",
      "  6%|▌         | 3/52 [00:00<00:02, 21.27it/s]"
     ]
    },
    {
     "name": "stdout",
     "output_type": "stream",
     "text": [
      "8 5D7A\n"
     ]
    },
    {
     "name": "stderr",
     "output_type": "stream",
     "text": [
      "100%|██████████| 52/52 [00:02<00:00, 19.14it/s]\n",
      "  6%|▌         | 3/52 [00:00<00:02, 23.22it/s]"
     ]
    },
    {
     "name": "stdout",
     "output_type": "stream",
     "text": [
      "9 603A\n"
     ]
    },
    {
     "name": "stderr",
     "output_type": "stream",
     "text": [
      "100%|██████████| 52/52 [00:02<00:00, 22.06it/s]\n",
      "  6%|▌         | 3/52 [00:00<00:02, 23.05it/s]"
     ]
    },
    {
     "name": "stdout",
     "output_type": "stream",
     "text": [
      "10 72CA\n"
     ]
    },
    {
     "name": "stderr",
     "output_type": "stream",
     "text": [
      "100%|██████████| 52/52 [00:02<00:00, 21.93it/s]\n",
      "  0%|          | 0/52 [00:00<?, ?it/s]"
     ]
    },
    {
     "name": "stdout",
     "output_type": "stream",
     "text": [
      "11 8E2A\n"
     ]
    },
    {
     "name": "stderr",
     "output_type": "stream",
     "text": [
      "100%|██████████| 52/52 [00:02<00:00, 18.45it/s]\n",
      "  6%|▌         | 3/52 [00:00<00:02, 23.09it/s]"
     ]
    },
    {
     "name": "stdout",
     "output_type": "stream",
     "text": [
      "12 91B8\n"
     ]
    },
    {
     "name": "stderr",
     "output_type": "stream",
     "text": [
      "100%|██████████| 52/52 [00:02<00:00, 21.98it/s]\n",
      "  6%|▌         | 3/52 [00:00<00:02, 23.20it/s]"
     ]
    },
    {
     "name": "stdout",
     "output_type": "stream",
     "text": [
      "13 97D7\n"
     ]
    },
    {
     "name": "stderr",
     "output_type": "stream",
     "text": [
      "100%|██████████| 52/52 [00:02<00:00, 22.40it/s]\n",
      "  6%|▌         | 3/52 [00:00<00:02, 23.01it/s]"
     ]
    },
    {
     "name": "stdout",
     "output_type": "stream",
     "text": [
      "14 A838\n"
     ]
    },
    {
     "name": "stderr",
     "output_type": "stream",
     "text": [
      "100%|██████████| 52/52 [00:02<00:00, 17.64it/s]\n",
      "  6%|▌         | 3/52 [00:00<00:02, 23.23it/s]"
     ]
    },
    {
     "name": "stdout",
     "output_type": "stream",
     "text": [
      "15 A9BE\n"
     ]
    },
    {
     "name": "stderr",
     "output_type": "stream",
     "text": [
      "100%|██████████| 52/52 [00:02<00:00, 21.92it/s]\n",
      "  6%|▌         | 3/52 [00:00<00:02, 23.38it/s]"
     ]
    },
    {
     "name": "stdout",
     "output_type": "stream",
     "text": [
      "16 BB4A\n"
     ]
    },
    {
     "name": "stderr",
     "output_type": "stream",
     "text": [
      "100%|██████████| 52/52 [00:02<00:00, 22.21it/s]\n",
      "  6%|▌         | 3/52 [00:00<00:02, 23.60it/s]"
     ]
    },
    {
     "name": "stdout",
     "output_type": "stream",
     "text": [
      "17 BC46\n"
     ]
    },
    {
     "name": "stderr",
     "output_type": "stream",
     "text": [
      "100%|██████████| 52/52 [00:03<00:00, 16.64it/s]\n",
      "  6%|▌         | 3/52 [00:00<00:02, 23.72it/s]"
     ]
    },
    {
     "name": "stdout",
     "output_type": "stream",
     "text": [
      "18 BFDC\n"
     ]
    },
    {
     "name": "stderr",
     "output_type": "stream",
     "text": [
      "100%|██████████| 52/52 [00:02<00:00, 22.79it/s]\n",
      "  6%|▌         | 3/52 [00:00<00:02, 23.13it/s]"
     ]
    },
    {
     "name": "stdout",
     "output_type": "stream",
     "text": [
      "19 C0A7\n"
     ]
    },
    {
     "name": "stderr",
     "output_type": "stream",
     "text": [
      "100%|██████████| 52/52 [00:02<00:00, 21.47it/s]\n",
      "  6%|▌         | 3/52 [00:00<00:02, 21.16it/s]"
     ]
    },
    {
     "name": "stdout",
     "output_type": "stream",
     "text": [
      "20 CBC7\n"
     ]
    },
    {
     "name": "stderr",
     "output_type": "stream",
     "text": [
      "100%|██████████| 52/52 [00:02<00:00, 21.65it/s]\n",
      "  6%|▌         | 3/52 [00:00<00:02, 23.27it/s]"
     ]
    },
    {
     "name": "stdout",
     "output_type": "stream",
     "text": [
      "21 D804\n"
     ]
    },
    {
     "name": "stderr",
     "output_type": "stream",
     "text": [
      "100%|██████████| 52/52 [00:02<00:00, 21.85it/s]\n",
      "  6%|▌         | 3/52 [00:00<00:02, 23.31it/s]"
     ]
    },
    {
     "name": "stdout",
     "output_type": "stream",
     "text": [
      "22 DF07\n"
     ]
    },
    {
     "name": "stderr",
     "output_type": "stream",
     "text": [
      "100%|██████████| 52/52 [00:03<00:00, 15.83it/s]\n",
      "  6%|▌         | 3/52 [00:00<00:02, 23.38it/s]"
     ]
    },
    {
     "name": "stdout",
     "output_type": "stream",
     "text": [
      "23 E1F8\n"
     ]
    },
    {
     "name": "stderr",
     "output_type": "stream",
     "text": [
      "100%|██████████| 52/52 [00:02<00:00, 22.70it/s]\n",
      "  6%|▌         | 3/52 [00:00<00:02, 23.60it/s]"
     ]
    },
    {
     "name": "stdout",
     "output_type": "stream",
     "text": [
      "24 E47A\n"
     ]
    },
    {
     "name": "stderr",
     "output_type": "stream",
     "text": [
      "100%|██████████| 52/52 [00:02<00:00, 23.04it/s]\n",
      "  6%|▌         | 3/52 [00:00<00:02, 23.12it/s]"
     ]
    },
    {
     "name": "stdout",
     "output_type": "stream",
     "text": [
      "25 E486\n"
     ]
    },
    {
     "name": "stderr",
     "output_type": "stream",
     "text": [
      "100%|██████████| 52/52 [00:02<00:00, 22.10it/s]\n",
      "  6%|▌         | 3/52 [00:00<00:02, 23.18it/s]"
     ]
    },
    {
     "name": "stdout",
     "output_type": "stream",
     "text": [
      "26 E8E4\n"
     ]
    },
    {
     "name": "stderr",
     "output_type": "stream",
     "text": [
      "100%|██████████| 52/52 [00:02<00:00, 22.25it/s]\n",
      "  6%|▌         | 3/52 [00:00<00:02, 23.21it/s]"
     ]
    },
    {
     "name": "stdout",
     "output_type": "stream",
     "text": [
      "27 EAC8\n"
     ]
    },
    {
     "name": "stderr",
     "output_type": "stream",
     "text": [
      "100%|██████████| 52/52 [00:02<00:00, 22.15it/s]\n"
     ]
    }
   ],
   "source": [
    "# compute average at each 15 min instance across 7 days in a week.\n",
    "\n",
    "import os\n",
    "from tqdm import tqdm\n",
    "from scipy import interpolate\n",
    "\n",
    "# first for our sensors\n",
    "savedir = 'figures/kaiterra/week_avgday/'\n",
    "if not os.path.exists(savedir):\n",
    "    os.makedirs(savedir)\n",
    "\n",
    "INT = 7*96\n",
    "END = 52*7*96\n",
    "\n",
    "index = np.arange(1,97)\n",
    "\n",
    "for count, monitorid in enumerate(df1.index.levels[0]):\n",
    "    print(count, monitorid)\n",
    "    mat_weekly = np.empty((52, 96))\n",
    "    \n",
    "    for start in tqdm(range(0, END, INT)):\n",
    "        yt = df1.loc[monitorid].iloc[start:start+INT].pm25.values\n",
    "        yt_avg = np.nanmean(yt.reshape(7,96), axis=0)\n",
    "        weeknum = start//INT + 1\n",
    "        mat_weekly[weeknum-1,:] = yt_avg\n",
    "        fig = plt.figure()\n",
    "        ax = fig.add_subplot(111)\n",
    "        ax.plot(index, yt_avg, 'k.')\n",
    "        \n",
    "        # interpolate if more than cutoff valid values\n",
    "        nanlocs = np.isnan(yt_avg)\n",
    "        nvalid = sum(~nanlocs) / 96.0\n",
    "        if nvalid < 1 and nvalid >= 0.8:\n",
    "            x = np.where(~nanlocs)[0] + 1\n",
    "            y = yt_avg[x-1]\n",
    "            f = interpolate.PchipInterpolator(x, y)\n",
    "            yt_avg_int = f(index)\n",
    "            ax.plot(index, yt_avg_int, 'rx')\n",
    "        \n",
    "        ax.set_title('Monitor: {}, Week: {}'.format(monitorid, weeknum))\n",
    "        ax.set_xlabel('Time (15 min)')\n",
    "        ax.set_ylabel(r'PM$_{2.5}$ conc ($\\mu g/m^3$)')\n",
    "        fig.savefig(savedir + 'avg_{}_{:02d}.png'.format(monitorid, weeknum))\n",
    "        plt.close(fig)\n",
    "        \n",
    "    np.savetxt(savedir + 'avg_{}.txt'.format(monitorid), mat_weekly, fmt='%f', delimiter=',')"
   ]
  },
  {
   "cell_type": "code",
   "execution_count": null,
   "metadata": {},
   "outputs": [],
   "source": [
    "# compute average at each 15 min instance across each weekday for a month"
   ]
  },
  {
   "cell_type": "code",
   "execution_count": null,
   "metadata": {},
   "outputs": [],
   "source": [
    "# do fourier analysis on a weekly basis for each sensor\n",
    "\n",
    "        "
   ]
  }
 ],
 "metadata": {
  "kernelspec": {
   "display_name": "Python 3",
   "language": "python",
   "name": "python3"
  },
  "language_info": {
   "codemirror_mode": {
    "name": "ipython",
    "version": 3
   },
   "file_extension": ".py",
   "mimetype": "text/x-python",
   "name": "python",
   "nbconvert_exporter": "python",
   "pygments_lexer": "ipython3",
   "version": "3.7.1"
  }
 },
 "nbformat": 4,
 "nbformat_minor": 2
}
