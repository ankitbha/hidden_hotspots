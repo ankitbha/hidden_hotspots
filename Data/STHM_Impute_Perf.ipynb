{
 "cells": [
  {
   "cell_type": "code",
   "execution_count": 13,
   "id": "51e8c5ff",
   "metadata": {},
   "outputs": [],
   "source": [
    "import pandas as pd\n",
    "import numpy as np\n",
    "import os\n",
    "import glob"
   ]
  },
  {
   "cell_type": "code",
   "execution_count": 3,
   "id": "4d5fe268",
   "metadata": {},
   "outputs": [
    {
     "data": {
      "text/plain": [
       "monitor_id       timestamp_round          \n",
       "AnandVihar_DPCC  2018-05-01 00:00:00+05:30    68.0\n",
       "                 2018-05-01 01:00:00+05:30    53.0\n",
       "                 2018-05-01 02:00:00+05:30    53.0\n",
       "                 2018-05-01 03:00:00+05:30    46.0\n",
       "                 2018-05-01 04:00:00+05:30    48.0\n",
       "                                              ... \n",
       "EAC8             2020-10-31 19:00:00+05:30     NaN\n",
       "                 2020-10-31 20:00:00+05:30     NaN\n",
       "                 2020-10-31 21:00:00+05:30     NaN\n",
       "                 2020-10-31 22:00:00+05:30     NaN\n",
       "                 2020-10-31 23:00:00+05:30     NaN\n",
       "Name: pm25, Length: 1317600, dtype: float64"
      ]
     },
     "execution_count": 3,
     "metadata": {},
     "output_type": "execute_result"
    }
   ],
   "source": [
    "df_kai_raw = pd.read_csv('kaiterra_fieldeggid_1H_20180501_20201101.csv', index_col=[0,1], parse_dates=True)['pm25']\n",
    "df_gov_raw = pd.read_csv('govdata_1H_20180501_20201101.csv', index_col=[0,1], parse_dates=True)['pm25']\n",
    "df_raw = pd.concat([df_gov_raw, df_kai_raw], axis=0)\n",
    "df_raw"
   ]
  },
  {
   "cell_type": "code",
   "execution_count": 5,
   "id": "61577b75",
   "metadata": {},
   "outputs": [
    {
     "data": {
      "text/plain": [
       "monitor_id       timestamp_round    \n",
       "AnandVihar_DPCC  2018-05-01 00:00:00    68.0\n",
       "                 2018-05-01 01:00:00    53.0\n",
       "                 2018-05-01 02:00:00    53.0\n",
       "                 2018-05-01 03:00:00    46.0\n",
       "                 2018-05-01 04:00:00    48.0\n",
       "                                        ... \n",
       "EAC8             2020-10-31 19:00:00     NaN\n",
       "                 2020-10-31 20:00:00     NaN\n",
       "                 2020-10-31 21:00:00     NaN\n",
       "                 2020-10-31 22:00:00     NaN\n",
       "                 2020-10-31 23:00:00     NaN\n",
       "Name: pm25, Length: 1317600, dtype: float64"
      ]
     },
     "execution_count": 5,
     "metadata": {},
     "output_type": "execute_result"
    }
   ],
   "source": [
    "df_raw = df_raw.tz_localize(None, level=1)\n",
    "df_raw"
   ]
  },
  {
   "cell_type": "code",
   "execution_count": 8,
   "id": "40a8716d",
   "metadata": {},
   "outputs": [],
   "source": [
    "df_raw.sort_index(inplace=True)"
   ]
  },
  {
   "cell_type": "code",
   "execution_count": 9,
   "id": "8a06439c",
   "metadata": {},
   "outputs": [
    {
     "data": {
      "text/plain": [
       "monitor_id     timestamp_round    \n",
       "113E           2018-05-01 00:00:00      NaN\n",
       "               2018-05-01 01:00:00      NaN\n",
       "               2018-05-01 02:00:00      NaN\n",
       "               2018-05-01 03:00:00      NaN\n",
       "               2018-05-01 04:00:00      NaN\n",
       "                                      ...  \n",
       "Wazirpur_DPCC  2019-09-30 19:00:00    59.50\n",
       "               2019-09-30 20:00:00    67.75\n",
       "               2019-09-30 21:00:00    66.25\n",
       "               2019-09-30 22:00:00    53.00\n",
       "               2019-09-30 23:00:00    45.50\n",
       "Name: pm25, Length: 745920, dtype: float64"
      ]
     },
     "execution_count": 9,
     "metadata": {},
     "output_type": "execute_result"
    }
   ],
   "source": [
    "start_dt = pd.Timestamp('2018-05-01 00:00:00')\n",
    "end_dt = pd.Timestamp('2019-09-30 23:00:00')\n",
    "df_raw = df_raw.loc[(slice(None), slice(start_dt, end_dt))]\n",
    "df_raw"
   ]
  },
  {
   "cell_type": "code",
   "execution_count": 11,
   "id": "a08c01e6",
   "metadata": {},
   "outputs": [
    {
     "data": {
      "text/plain": [
       "12432.0"
      ]
     },
     "execution_count": 11,
     "metadata": {},
     "output_type": "execute_result"
    }
   ],
   "source": [
    "df_raw.size / df_raw.index.levels[0].size"
   ]
  },
  {
   "cell_type": "code",
   "execution_count": 10,
   "id": "6be8a703",
   "metadata": {},
   "outputs": [
    {
     "data": {
      "text/plain": [
       "['ImputedSTHM_trdat/Fitted_fit2/ImputedSTHM_trdat_113E.csv',\n",
       " 'ImputedSTHM_trdat/Fitted_fit2/ImputedSTHM_trdat_1FD7.csv',\n",
       " 'ImputedSTHM_trdat/Fitted_fit2/ImputedSTHM_trdat_20CA.csv',\n",
       " 'ImputedSTHM_trdat/Fitted_fit2/ImputedSTHM_trdat_2E9C.csv',\n",
       " 'ImputedSTHM_trdat/Fitted_fit2/ImputedSTHM_trdat_3ACF.csv',\n",
       " 'ImputedSTHM_trdat/Fitted_fit2/ImputedSTHM_trdat_498F.csv',\n",
       " 'ImputedSTHM_trdat/Fitted_fit2/ImputedSTHM_trdat_4BE7.csv',\n",
       " 'ImputedSTHM_trdat/Fitted_fit2/ImputedSTHM_trdat_56C3.csv',\n",
       " 'ImputedSTHM_trdat/Fitted_fit2/ImputedSTHM_trdat_5D7A.csv',\n",
       " 'ImputedSTHM_trdat/Fitted_fit2/ImputedSTHM_trdat_603A.csv',\n",
       " 'ImputedSTHM_trdat/Fitted_fit2/ImputedSTHM_trdat_72CA.csv',\n",
       " 'ImputedSTHM_trdat/Fitted_fit2/ImputedSTHM_trdat_8E2A.csv',\n",
       " 'ImputedSTHM_trdat/Fitted_fit2/ImputedSTHM_trdat_91B8.csv',\n",
       " 'ImputedSTHM_trdat/Fitted_fit2/ImputedSTHM_trdat_97D7.csv',\n",
       " 'ImputedSTHM_trdat/Fitted_fit2/ImputedSTHM_trdat_A838.csv',\n",
       " 'ImputedSTHM_trdat/Fitted_fit2/ImputedSTHM_trdat_A9BE.csv',\n",
       " 'ImputedSTHM_trdat/Fitted_fit2/ImputedSTHM_trdat_AnandVihar_DPCC.csv',\n",
       " 'ImputedSTHM_trdat/Fitted_fit2/ImputedSTHM_trdat_AshokVihar_DPCC.csv',\n",
       " 'ImputedSTHM_trdat/Fitted_fit2/ImputedSTHM_trdat_AyaNagar_IMD.csv',\n",
       " 'ImputedSTHM_trdat/Fitted_fit2/ImputedSTHM_trdat_BB4A.csv',\n",
       " 'ImputedSTHM_trdat/Fitted_fit2/ImputedSTHM_trdat_BC46.csv',\n",
       " 'ImputedSTHM_trdat/Fitted_fit2/ImputedSTHM_trdat_BFDC.csv',\n",
       " 'ImputedSTHM_trdat/Fitted_fit2/ImputedSTHM_trdat_BurariCrossing_IMD.csv',\n",
       " 'ImputedSTHM_trdat/Fitted_fit2/ImputedSTHM_trdat_C0A7.csv',\n",
       " 'ImputedSTHM_trdat/Fitted_fit2/ImputedSTHM_trdat_CBC7.csv',\n",
       " 'ImputedSTHM_trdat/Fitted_fit2/ImputedSTHM_trdat_CRRIMathuraRoad_IMD.csv',\n",
       " 'ImputedSTHM_trdat/Fitted_fit2/ImputedSTHM_trdat_D804.csv',\n",
       " 'ImputedSTHM_trdat/Fitted_fit2/ImputedSTHM_trdat_DF07.csv',\n",
       " 'ImputedSTHM_trdat/Fitted_fit2/ImputedSTHM_trdat_DKSSR_DPCC.csv',\n",
       " 'ImputedSTHM_trdat/Fitted_fit2/ImputedSTHM_trdat_DTU_CPCB.csv',\n",
       " 'ImputedSTHM_trdat/Fitted_fit2/ImputedSTHM_trdat_DwarkaSector8_DPCC.csv',\n",
       " 'ImputedSTHM_trdat/Fitted_fit2/ImputedSTHM_trdat_E1F8.csv',\n",
       " 'ImputedSTHM_trdat/Fitted_fit2/ImputedSTHM_trdat_E47A.csv',\n",
       " 'ImputedSTHM_trdat/Fitted_fit2/ImputedSTHM_trdat_E486.csv',\n",
       " 'ImputedSTHM_trdat/Fitted_fit2/ImputedSTHM_trdat_E8E4.csv',\n",
       " 'ImputedSTHM_trdat/Fitted_fit2/ImputedSTHM_trdat_EAC8.csv',\n",
       " 'ImputedSTHM_trdat/Fitted_fit2/ImputedSTHM_trdat_EastArjunNagar_CPCB.csv',\n",
       " 'ImputedSTHM_trdat/Fitted_fit2/ImputedSTHM_trdat_IGIAirport_IMD.csv',\n",
       " 'ImputedSTHM_trdat/Fitted_fit2/ImputedSTHM_trdat_IHBAS_CPCB.csv',\n",
       " 'ImputedSTHM_trdat/Fitted_fit2/ImputedSTHM_trdat_ITO_CPCB.csv',\n",
       " 'ImputedSTHM_trdat/Fitted_fit2/ImputedSTHM_trdat_JNS_DPCC.csv',\n",
       " 'ImputedSTHM_trdat/Fitted_fit2/ImputedSTHM_trdat_Jahangirpuri_DPCC.csv',\n",
       " 'ImputedSTHM_trdat/Fitted_fit2/ImputedSTHM_trdat_LodhiRoad_IMD.csv',\n",
       " 'ImputedSTHM_trdat/Fitted_fit2/ImputedSTHM_trdat_MDCNS_DPCC.csv',\n",
       " 'ImputedSTHM_trdat/Fitted_fit2/ImputedSTHM_trdat_MandirMarg_DPCC.csv',\n",
       " 'ImputedSTHM_trdat/Fitted_fit2/ImputedSTHM_trdat_Mundaka_DPCC.csv',\n",
       " 'ImputedSTHM_trdat/Fitted_fit2/ImputedSTHM_trdat_NSIT_CPCB.csv',\n",
       " 'ImputedSTHM_trdat/Fitted_fit2/ImputedSTHM_trdat_NehruNagar_DPCC.csv',\n",
       " 'ImputedSTHM_trdat/Fitted_fit2/ImputedSTHM_trdat_OkhlaPhase2_DPCC.csv',\n",
       " 'ImputedSTHM_trdat/Fitted_fit2/ImputedSTHM_trdat_Patparganj_DPCC.csv',\n",
       " 'ImputedSTHM_trdat/Fitted_fit2/ImputedSTHM_trdat_PunjabiBagh_DPCC.csv',\n",
       " 'ImputedSTHM_trdat/Fitted_fit2/ImputedSTHM_trdat_Pusa_DPCC.csv',\n",
       " 'ImputedSTHM_trdat/Fitted_fit2/ImputedSTHM_trdat_Pusa_IMD.csv',\n",
       " 'ImputedSTHM_trdat/Fitted_fit2/ImputedSTHM_trdat_RKPuram_DPCC.csv',\n",
       " 'ImputedSTHM_trdat/Fitted_fit2/ImputedSTHM_trdat_Rohini_DPCC.csv',\n",
       " 'ImputedSTHM_trdat/Fitted_fit2/ImputedSTHM_trdat_Shadipur_CPCB.csv',\n",
       " 'ImputedSTHM_trdat/Fitted_fit2/ImputedSTHM_trdat_Sirifort_CPCB.csv',\n",
       " 'ImputedSTHM_trdat/Fitted_fit2/ImputedSTHM_trdat_SoniaVihar_DPCC.csv',\n",
       " 'ImputedSTHM_trdat/Fitted_fit2/ImputedSTHM_trdat_SriAurobindoMarg_DPCC.csv',\n",
       " 'ImputedSTHM_trdat/Fitted_fit2/ImputedSTHM_trdat_VivekVihar_DPCC.csv',\n",
       " 'ImputedSTHM_trdat/Fitted_fit2/ImputedSTHM_trdat_Wazirpur_DPCC.csv']"
      ]
     },
     "execution_count": 10,
     "metadata": {},
     "output_type": "execute_result"
    }
   ],
   "source": [
    "flist_imputed = glob.glob('ImputedSTHM_trdat/Fitted_fit2/*.csv')\n",
    "flist_imputed.sort()\n",
    "flist_imputed"
   ]
  },
  {
   "cell_type": "code",
   "execution_count": 17,
   "id": "6ccf0b3e",
   "metadata": {},
   "outputs": [
    {
     "name": "stdout",
     "output_type": "stream",
     "text": [
      "36.70064101311376\n"
     ]
    }
   ],
   "source": [
    "se_total = 0\n",
    "count_total = 0\n",
    "\n",
    "for fpath in flist_imputed:\n",
    "    monitor_id = os.path.basename(fpath).split('_', 2)[2][:-4]\n",
    "    if monitor_id == 'EastArjunNagar_CPCB':\n",
    "        continue\n",
    "    df_monitor_impute = pd.read_csv(fpath, index_col=0, parse_dates=True)['fitted']\n",
    "    df_monitor_impute.sort_index(inplace=True)\n",
    "    se_total += np.nansum((df_monitor_impute.values - df_raw.loc[monitor_id].values)**2)\n",
    "    count_total += df_raw.loc[monitor_id].count()\n",
    "\n",
    "print(np.sqrt(se_total / count_total))"
   ]
  },
  {
   "cell_type": "code",
   "execution_count": null,
   "id": "ff9f5e59",
   "metadata": {},
   "outputs": [],
   "source": []
  }
 ],
 "metadata": {
  "kernelspec": {
   "display_name": "Python 3",
   "language": "python",
   "name": "python3"
  },
  "language_info": {
   "codemirror_mode": {
    "name": "ipython",
    "version": 3
   },
   "file_extension": ".py",
   "mimetype": "text/x-python",
   "name": "python",
   "nbconvert_exporter": "python",
   "pygments_lexer": "ipython3",
   "version": "3.7.11"
  }
 },
 "nbformat": 4,
 "nbformat_minor": 5
}
