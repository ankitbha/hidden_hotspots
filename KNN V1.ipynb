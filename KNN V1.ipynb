{
 "cells": [
  {
   "cell_type": "code",
   "execution_count": 1,
   "metadata": {},
   "outputs": [],
   "source": [
    "%load_ext autoreload\n",
    "%autoreload 2\n",
    "%matplotlib inline"
   ]
  },
  {
   "cell_type": "code",
   "execution_count": 2,
   "metadata": {},
   "outputs": [],
   "source": [
    "import os\n",
    "import sys\n",
    "import torch\n",
    "import torch.nn as nn\n",
    "import torch.optim as optim\n",
    "import numpy as np\n",
    "# import matplotlib\n",
    "# matplotlib.use('Agg')\n",
    "import matplotlib.pyplot as plt\n",
    "import argparse\n",
    "from datasets import *\n",
    "from nets import *\n",
    "from configs import *\n",
    "from random import shuffle\n",
    "from torch.autograd import Variable\n",
    "from tensorboardX import SummaryWriter\n",
    "import matplotlib.pyplot as plt\n",
    "\n",
    "from datasets import *"
   ]
  },
  {
   "cell_type": "code",
   "execution_count": 3,
   "metadata": {},
   "outputs": [],
   "source": [
    "from nets import *"
   ]
  },
  {
   "cell_type": "code",
   "execution_count": 4,
   "metadata": {},
   "outputs": [],
   "source": [
    "dataset, train_refs, test_refs = create_dataset_knodes(max_nodes=2)"
   ]
  },
  {
   "cell_type": "code",
   "execution_count": 5,
   "metadata": {},
   "outputs": [],
   "source": [
    "class args:\n",
    "    batch=32\n",
    "    history=32\n",
    "    numsegments=10\n",
    "    hidden=256\n",
    "    lr=0.0005\n",
    "    epochs=120"
   ]
  },
  {
   "cell_type": "code",
   "execution_count": 6,
   "metadata": {},
   "outputs": [
    {
     "data": {
      "text/plain": [
       "device(type='cuda', index=0)"
      ]
     },
     "execution_count": 6,
     "metadata": {},
     "output_type": "execute_result"
    }
   ],
   "source": [
    "device = torch.device(\"cuda:0\" if torch.cuda.is_available() else \"cpu\")\n",
    "device"
   ]
  },
  {
   "cell_type": "code",
   "execution_count": 7,
   "metadata": {},
   "outputs": [],
   "source": [
    "model = Series(\n",
    "    batchsize=args.batch,\n",
    "    historylen=args.history,\n",
    "    numsegments=args.numsegments + 1,\n",
    "    hiddensize=args.hidden).to(device).double()"
   ]
  },
  {
   "cell_type": "code",
   "execution_count": 8,
   "metadata": {},
   "outputs": [],
   "source": [
    "criterion = nn.MSELoss()\n",
    "optimizer = optim.Adam(model.parameters(), lr=args.lr)"
   ]
  },
  {
   "cell_type": "code",
   "execution_count": null,
   "metadata": {},
   "outputs": [
    {
     "name": "stdout",
     "output_type": "stream",
     "text": [
      "[E:1/120] B:1629/1629  loss: 1810.80          \n",
      "   Testing Loss:  1951.521      Testing MAPE: 0.0%\n",
      "[E:2/120] B:1629/1629  loss: 2020.16          \n",
      "   Testing Loss:  2089.237      Testing MAPE: 0.0%\n",
      "[E:3/120] B:773/1629  loss: 1461.33          \r"
     ]
    }
   ],
   "source": [
    "for eii in range(args.epochs):\n",
    "    shuffle(train_refs)\n",
    "    losses = []\n",
    "    nBatches = len(train_refs)//args.batch\n",
    "    for bii in range(0, len(train_refs) - args.batch, args.batch):\n",
    "        model.train()\n",
    "        \n",
    "        batch_refs = train_refs[bii:bii+args.batch]\n",
    "        batch_seq, batch_lbls = knodes_batch(dataset, batch_refs)\n",
    "        \n",
    "        batch_seq = np.transpose(batch_seq, [2, 0, 1])\n",
    "        batch_seq = Variable(torch.from_numpy(batch_seq), requires_grad=True) \\\n",
    "            .to(device).double()\n",
    "        batch_lbls = torch.from_numpy(batch_lbls).unsqueeze(2).to(device)\n",
    "\n",
    "        lstm_state = model.init_lstms(device=device)\n",
    "\n",
    "        preds, _ = model(batch_seq, lstm_state)\n",
    "\n",
    "        loss = criterion(preds, batch_lbls)\n",
    "        losses.append(loss.item())\n",
    "        n_iter = eii*(nBatches)+bii\n",
    "        optimizer.zero_grad()\n",
    "        loss.backward()\n",
    "        optimizer.step()\n",
    "        \n",
    "        sys.stdout.write('[E:%d/%d] B:%d/%d  loss: %.2f          \\r' % (\n",
    "            eii+1, args.epochs,\n",
    "            bii//args.batch+1, nBatches,\n",
    "            loss.item() * 100.0**2,\n",
    "        ))\n",
    "        sys.stdout.flush()\n",
    "        \n",
    "    nBatches = len(test_refs)//args.batch\n",
    "    tloss = 0\n",
    "    print()\n",
    "    for bii in range(0, len(test_refs) - args.batch, args.batch):\n",
    "        model.eval()\n",
    "        \n",
    "        batch_refs = test_refs[bii:bii+args.batch]\n",
    "        batch_seq, batch_lbls = knodes_batch(dataset, batch_refs, mode='test')\n",
    "        \n",
    "        batch_seq = np.transpose(batch_seq, [2, 0, 1])\n",
    "        batch_seq = Variable(torch.from_numpy(batch_seq), requires_grad=True) \\\n",
    "            .to(device).double()\n",
    "        batch_lbls = torch.from_numpy(batch_lbls).unsqueeze(2).to(device)\n",
    "\n",
    "        lstm_state = model.init_lstms(device=device)\n",
    "\n",
    "        preds, _ = model(batch_seq, lstm_state)\n",
    "        loss = criterion(preds, batch_lbls)\n",
    "        tloss += loss.detach().cpu().numpy()\n",
    "        \n",
    "        sys.stdout.write('Testing %d/%d       \\r' % (\n",
    "            bii//args.batch+1, nBatches\n",
    "        ))\n",
    "#         break\n",
    "        \n",
    "    tloss /= nBatches\n",
    "    print('   Testing Loss:  %.3f      Testing MAPE: %.1f%%' % (\n",
    "        tloss * 100.0**2, 0))"
   ]
  },
  {
   "cell_type": "code",
   "execution_count": null,
   "metadata": {},
   "outputs": [],
   "source": []
  }
 ],
 "metadata": {
  "kernelspec": {
   "display_name": "Python 3",
   "language": "python",
   "name": "python3"
  },
  "language_info": {
   "codemirror_mode": {
    "name": "ipython",
    "version": 3
   },
   "file_extension": ".py",
   "mimetype": "text/x-python",
   "name": "python",
   "nbconvert_exporter": "python",
   "pygments_lexer": "ipython3",
   "version": "3.5.2"
  }
 },
 "nbformat": 4,
 "nbformat_minor": 2
}
