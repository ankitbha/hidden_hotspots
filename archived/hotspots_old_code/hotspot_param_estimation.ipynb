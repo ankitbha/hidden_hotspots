{
 "cells": [
  {
   "cell_type": "markdown",
   "id": "62c86eed",
   "metadata": {},
   "source": [
    "## Import Statements"
   ]
  },
  {
   "cell_type": "code",
   "execution_count": 1,
   "id": "41f6653a",
   "metadata": {},
   "outputs": [],
   "source": [
    "%load_ext autoreload\n",
    "%autoreload 2\n",
    "import os\n",
    "import sys\n",
    "import pytz\n",
    "import argparse\n",
    "import numpy as np\n",
    "import pandas as pd\n",
    "import matplotlib.pyplot as plt\n",
    "\n",
    "from tqdm import tqdm\n",
    "from geopy import distance\n",
    "import datetime\n",
    "import tilemapbase\n",
    "from copy import deepcopy"
   ]
  },
  {
   "cell_type": "markdown",
   "id": "853c3e8a",
   "metadata": {
    "tags": []
   },
   "source": [
    "## Data Loading"
   ]
  },
  {
   "cell_type": "code",
   "execution_count": 3,
   "id": "a41368f6-e0e7-4cd4-b8e5-59c06119b8e6",
   "metadata": {},
   "outputs": [],
   "source": [
    "source = 'combined'\n",
    "sensor = 'pm25'\n",
    "res_time = '1H'"
   ]
  },
  {
   "cell_type": "code",
   "execution_count": 4,
   "id": "94457a36",
   "metadata": {},
   "outputs": [],
   "source": [
    "filepath_root = '/scratch/ab9738/pollution_with_sensors/'\n",
    "filepath_data_kai = filepath_root+'data/kaiterra/kaiterra_fieldeggid_{}_current_panel.csv'.format(res_time)\n",
    "filepath_data_gov = filepath_root+'data/govdata/govdata_{}_current.csv'.format(res_time)\n",
    "filepath_locs_kai = filepath_root+'data/kaiterra/kaiterra_locations.csv'\n",
    "filepath_locs_gov = filepath_root+'data/govdata/govdata_locations.csv'\n",
    "\n",
    "locs_kai = pd.read_csv(filepath_locs_kai, index_col=[0])\n",
    "locs_kai['Type'] = 'Kaiterra'\n",
    "locs_gov = pd.read_csv(filepath_locs_gov, index_col=[0])\n",
    "locs_gov['Type'] = 'Govt'\n",
    "locs = pd.merge(locs_kai, locs_gov, how='outer',\\\n",
    "                on=['Monitor ID', 'Latitude', 'Longitude', 'Location', 'Type'], copy=False)\n",
    "data_kai = pd.read_csv(filepath_data_kai, index_col=[0,1], parse_dates=True)[sensor]\n",
    "data_gov = pd.read_csv(filepath_data_gov, index_col=[0,1], parse_dates=True)[sensor]\n",
    "data = pd.concat([data_kai, data_gov], axis=0, copy=False)\n",
    "\n",
    "start_dt = data.index.levels[1][0]\n",
    "end_dt = data.index.levels[1][-1]\n",
    "\n",
    "if start_dt.tzname != 'IST':\n",
    "        if start_dt.tzinfo is None:\n",
    "            start_dt = start_dt.tz_localize('UTC')\n",
    "        start_dt = start_dt.tz_convert(pytz.FixedOffset(330))\n",
    "    \n",
    "if end_dt.tzname != 'IST':\n",
    "    if end_dt.tzinfo is None: \n",
    "        end_dt = end_dt.tz_localize('UTC')\n",
    "    end_dt = end_dt.tz_convert(pytz.FixedOffset(330))\n",
    "\n",
    "# now, filter through the start and end dates\n",
    "data.sort_index(inplace=True)\n",
    "data = data.loc[(slice(None), slice(start_dt, end_dt))]"
   ]
  },
  {
   "cell_type": "markdown",
   "id": "23137c25",
   "metadata": {},
   "source": [
    "# Data Analysis"
   ]
  },
  {
   "cell_type": "markdown",
   "id": "f07df535",
   "metadata": {},
   "source": [
    "## Time Dimension\n"
   ]
  },
  {
   "cell_type": "code",
   "execution_count": 5,
   "id": "e3838d6b",
   "metadata": {},
   "outputs": [],
   "source": [
    "df = data.unstack(level=0)\n",
    "distances = pd.read_csv('/scratch/ab9738/pollution_with_sensors/data/combined_distances.csv', index_col=[0])\n",
    "distances = distances.loc[df.columns, df.columns]\n",
    "distances[distances == 0] = np.nan"
   ]
  },
  {
   "cell_type": "code",
   "execution_count": 6,
   "id": "c400b244",
   "metadata": {},
   "outputs": [],
   "source": [
    "diff_list = []\n",
    "for col in list(df.columns):\n",
    "    arr = df[col].dropna().to_numpy()\n",
    "    diff_arr = np.zeros(len(arr)-1)\n",
    "    for i in range(len(arr)-1):\n",
    "        diff_arr[i] = abs(arr[i+1]-arr[i])\n",
    "    diff_list.append(diff_arr)\n",
    "    \n",
    "diff = np.concatenate(diff_list)"
   ]
  },
  {
   "cell_type": "code",
   "execution_count": 7,
   "id": "533e5283",
   "metadata": {},
   "outputs": [
    {
     "data": {
      "image/png": "[encoded data removed]",
      "text/plain": [
       "<Figure size 720x504 with 1 Axes>"
      ]
     },
     "metadata": {
      "needs_background": "light"
     },
     "output_type": "display_data"
    },
    {
     "data": {
      "image/png": "[encoded data removed]",
      "text/plain": [
       "<Figure size 720x504 with 1 Axes>"
      ]
     },
     "metadata": {
      "needs_background": "light"
     },
     "output_type": "display_data"
    }
   ],
   "source": [
    "fig, ax = plt.subplots(figsize=(10,7))\n",
    "stats = plt.hist(diff, weights=np.ones(len(diff))/len(diff), bins=range(int(min(diff)),int(max(diff)) + 10, 10),\\\n",
    "                 cumulative=False)\n",
    "fig, ax = plt.subplots(figsize=(10,7))\n",
    "_ = plt.hist(diff, weights=np.ones(len(diff))/len(diff), bins=range(int(min(diff)),int(max(diff)) + 10, 10),\\\n",
    "                 cumulative=True)"
   ]
  },
  {
   "cell_type": "code",
   "execution_count": 8,
   "id": "50e0da78",
   "metadata": {},
   "outputs": [
    {
     "data": {
      "text/plain": [
       "0.9956563187837433"
      ]
     },
     "execution_count": 8,
     "metadata": {},
     "output_type": "execute_result"
    }
   ],
   "source": [
    "stats[0][:15].sum()"
   ]
  },
  {
   "cell_type": "code",
   "execution_count": 9,
   "id": "2501297e",
   "metadata": {},
   "outputs": [
    {
     "data": {
      "text/plain": [
       "16.095476870325673"
      ]
     },
     "execution_count": 9,
     "metadata": {},
     "output_type": "execute_result"
    }
   ],
   "source": [
    "(stats[0]*(stats[1]+5)[:-1]).sum()"
   ]
  },
  {
   "cell_type": "code",
   "execution_count": 10,
   "id": "c6f69a58",
   "metadata": {},
   "outputs": [
    {
     "data": {
      "text/plain": [
       "98.04156504073684"
      ]
     },
     "execution_count": 10,
     "metadata": {},
     "output_type": "execute_result"
    }
   ],
   "source": [
    "mean = []\n",
    "for col in list(df.columns):\n",
    "    mean.append(df[col].dropna().mean())\n",
    "sum(mean)/len(mean)"
   ]
  },
  {
   "cell_type": "markdown",
   "id": "a5202a72",
   "metadata": {},
   "source": [
    "The value of 50 can be considered covering most of the contiguous jumps that happen. Beyond the point 100, jumps are considered rare (less than 5%). We can take 100 as the threshold for defining a hotspot."
   ]
  },
  {
   "cell_type": "markdown",
   "id": "2530a9e7",
   "metadata": {},
   "source": [
    "## Space Dimension"
   ]
  },
  {
   "cell_type": "code",
   "execution_count": 11,
   "id": "1ae4728a",
   "metadata": {},
   "outputs": [],
   "source": [
    "nn_dict = {}\n",
    "for col in df.columns:\n",
    "    dist_df = distances.loc[col].sort_values().dropna()\n",
    "    nn_dict[col] = dist_df"
   ]
  },
  {
   "cell_type": "code",
   "execution_count": 12,
   "id": "842a3602",
   "metadata": {},
   "outputs": [],
   "source": [
    "diff_list = []\n",
    "for index in list(df.index):\n",
    "    for col in df.columns:\n",
    "        diff_val = abs(df.loc[index][col] - df.loc[index][nn_dict[col].index[0]])\n",
    "        diff_list.append(diff_val)\n",
    "diff = np.array(diff_list)\n",
    "diff = diff[~np.isnan(diff)]"
   ]
  },
  {
   "cell_type": "code",
   "execution_count": 13,
   "id": "260bcac7",
   "metadata": {},
   "outputs": [
    {
     "data": {
      "image/png": "[encoded data removed]",
      "text/plain": [
       "<Figure size 720x504 with 1 Axes>"
      ]
     },
     "metadata": {
      "needs_background": "light"
     },
     "output_type": "display_data"
    },
    {
     "data": {
      "image/png": "[encoded data removed]",
      "text/plain": [
       "<Figure size 720x504 with 1 Axes>"
      ]
     },
     "metadata": {
      "needs_background": "light"
     },
     "output_type": "display_data"
    }
   ],
   "source": [
    "fig, ax = plt.subplots(figsize=(10,7))\n",
    "stats = plt.hist(diff, weights=np.ones(len(diff))/len(diff), bins=range(int(min(diff)),int(max(diff)) + 10, 10),\\\n",
    "                 cumulative=False)\n",
    "fig, ax = plt.subplots(figsize=(10,7))\n",
    "_ = plt.hist(diff, weights=np.ones(len(diff))/len(diff), bins=range(int(min(diff)),int(max(diff)) + 10, 10),\\\n",
    "                 cumulative=True)"
   ]
  },
  {
   "cell_type": "code",
   "execution_count": 14,
   "id": "375ba22a",
   "metadata": {},
   "outputs": [
    {
     "data": {
      "text/plain": [
       "0.9746605239672196"
      ]
     },
     "execution_count": 14,
     "metadata": {},
     "output_type": "execute_result"
    }
   ],
   "source": [
    "stats[0][:15].sum()"
   ]
  },
  {
   "cell_type": "code",
   "execution_count": 15,
   "id": "ab18afd8",
   "metadata": {},
   "outputs": [
    {
     "data": {
      "text/plain": [
       "32.84582518854537"
      ]
     },
     "execution_count": 15,
     "metadata": {},
     "output_type": "execute_result"
    }
   ],
   "source": [
    "(stats[0]*(stats[1]+5)[:-1]).sum()"
   ]
  },
  {
   "cell_type": "code",
   "execution_count": null,
   "id": "84d075bc",
   "metadata": {},
   "outputs": [],
   "source": []
  }
 ],
 "metadata": {
  "kernelspec": {
   "display_name": "Python 3 (ipykernel)",
   "language": "python",
   "name": "python3"
  },
  "language_info": {
   "codemirror_mode": {
    "name": "ipython",
    "version": 3
   },
   "file_extension": ".py",
   "mimetype": "text/x-python",
   "name": "python",
   "nbconvert_exporter": "python",
   "pygments_lexer": "ipython3",
   "version": "3.10.0"
  }
 },
 "nbformat": 4,
 "nbformat_minor": 5
}
