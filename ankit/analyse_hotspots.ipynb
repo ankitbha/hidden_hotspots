{
 "cells": [
  {
   "cell_type": "markdown",
   "id": "18d6ae1b",
   "metadata": {},
   "source": [
    "# Import Statements"
   ]
  },
  {
   "cell_type": "code",
   "execution_count": 1,
   "id": "b5149540",
   "metadata": {},
   "outputs": [],
   "source": [
    "%load_ext autoreload\n",
    "%autoreload 2\n",
    "import os\n",
    "import sys\n",
    "import pytz\n",
    "import argparse\n",
    "import numpy as np\n",
    "import pandas as pd\n",
    "import matplotlib.pyplot as plt\n",
    "\n",
    "from tqdm import tqdm\n",
    "from geopy import distance\n",
    "import datetime\n",
    "import tilemapbase\n",
    "from copy import deepcopy\n",
    "import pickle as pkl"
   ]
  },
  {
   "cell_type": "markdown",
   "id": "29c29cfd",
   "metadata": {},
   "source": [
    "# Parameters"
   ]
  },
  {
   "cell_type": "code",
   "execution_count": 2,
   "id": "c15899c2",
   "metadata": {},
   "outputs": [],
   "source": [
    "source = 'combined'\n",
    "sensor = 'pm25'\n",
    "res_time = '3H'\n",
    "filepath_root = '/scratch/ab9738/epod-nyu-delhi-pollution/'\n",
    "spikes_file = filepath_root+'ankit/spikes.csv'\n",
    "time_high_file = filepath_root+'ankit/time_high_3H.pkl'\n",
    "time_low_file = filepath_root+'ankit/time_low_3H.pkl'\n",
    "space_high_file = filepath_root+'ankit/space_high_3H.pkl'\n",
    "space_low_file = filepath_root+'ankit/space_low_3H.pkl'"
   ]
  },
  {
   "cell_type": "markdown",
   "id": "63ce287d",
   "metadata": {},
   "source": [
    "# Data Loading"
   ]
  },
  {
   "cell_type": "code",
   "execution_count": 3,
   "id": "577f0494",
   "metadata": {},
   "outputs": [],
   "source": [
    "filepath_data_kai = filepath_root+'data/kaiterra/kaiterra_fieldeggid_{}_current_panel.csv'.format(res_time)\n",
    "filepath_data_gov = filepath_root+'data/govdata/govdata_{}_current.csv'.format(res_time)\n",
    "filepath_locs_kai = filepath_root+'data/kaiterra/kaiterra_locations.csv'\n",
    "filepath_locs_gov = filepath_root+'data/govdata/govdata_locations.csv'\n",
    "\n",
    "locs_kai = pd.read_csv(filepath_locs_kai, index_col=[0])\n",
    "locs_kai['Type'] = 'Kaiterra'\n",
    "locs_gov = pd.read_csv(filepath_locs_gov, index_col=[0])\n",
    "locs_gov['Type'] = 'Govt'\n",
    "locs = pd.merge(locs_kai, locs_gov, how='outer',\\\n",
    "                on=['Monitor ID', 'Latitude', 'Longitude', 'Location', 'Type'], copy=False)\n",
    "data_kai = pd.read_csv(filepath_data_kai, index_col=[0,1], parse_dates=True)[sensor]\n",
    "data_gov = pd.read_csv(filepath_data_gov, index_col=[0,1], parse_dates=True)[sensor]\n",
    "data = pd.concat([data_kai, data_gov], axis=0, copy=False)\n",
    "\n",
    "start_dt = data.index.levels[1][0]\n",
    "end_dt = data.index.levels[1][-1]\n",
    "\n",
    "if start_dt.tzname != 'IST':\n",
    "        if start_dt.tzinfo is None:\n",
    "            start_dt = start_dt.tz_localize('UTC')\n",
    "        start_dt = start_dt.tz_convert(pytz.FixedOffset(330))\n",
    "    \n",
    "if end_dt.tzname != 'IST':\n",
    "    if end_dt.tzinfo is None: \n",
    "        end_dt = end_dt.tz_localize('UTC')\n",
    "    end_dt = end_dt.tz_convert(pytz.FixedOffset(330))\n",
    "\n",
    "# now, filter through the start and end dates\n",
    "data.sort_index(inplace=True)\n",
    "data = data.loc[(slice(None), slice(start_dt, end_dt))]\n",
    "\n",
    "if(source=='govdata'):\n",
    "    df = data_gov.unstack(level=0)\n",
    "elif(source=='kaiterra'):\n",
    "    df = data_kai.unstack(level=0)\n",
    "else:\n",
    "    df = data.unstack(level=0)\n",
    "distances = pd.read_csv('/scratch/ab9738/epod-nyu-delhi-pollution/data/combined_distances.csv', index_col=[0])\n",
    "distances = distances.loc[df.columns, df.columns]\n",
    "distances[distances == 0] = np.nan"
   ]
  },
  {
   "cell_type": "markdown",
   "id": "b69e2a89",
   "metadata": {},
   "source": [
    "# Load Hotspots"
   ]
  },
  {
   "cell_type": "code",
   "execution_count": 23,
   "id": "7398137b",
   "metadata": {},
   "outputs": [],
   "source": [
    "with open(time_low_file,'rb') as file:\n",
    "    thsp_low = pkl.load(file)"
   ]
  },
  {
   "cell_type": "code",
   "execution_count": 24,
   "id": "12bcf02a",
   "metadata": {},
   "outputs": [],
   "source": [
    "with open(time_high_file,'rb') as file:\n",
    "    thsp_high = pkl.load(file)"
   ]
  },
  {
   "cell_type": "code",
   "execution_count": 25,
   "id": "dad1e2a1",
   "metadata": {},
   "outputs": [],
   "source": [
    "with open(space_high_file,'rb') as file:\n",
    "    shsp_high = pkl.load(file)\n",
    "with open(space_low_file,'rb') as file:\n",
    "    shsp_low = pkl.load(file)"
   ]
  },
  {
   "cell_type": "markdown",
   "id": "e3aed89b",
   "metadata": {},
   "source": [
    "# Hotspot_Counts"
   ]
  },
  {
   "cell_type": "code",
   "execution_count": 26,
   "id": "64f536bf",
   "metadata": {},
   "outputs": [
    {
     "name": "stdout",
     "output_type": "stream",
     "text": [
      "1969\n"
     ]
    },
    {
     "name": "stderr",
     "output_type": "stream",
     "text": [
      "/state/partition1/job-18677675/ipykernel_2812240/1545836603.py:4: VisibleDeprecationWarning: Creating an ndarray from ragged nested sequences (which is a list-or-tuple of lists-or-tuples-or ndarrays with different lengths or shapes) is deprecated. If you meant to do this, you must specify 'dtype=object' when creating the ndarray.\n",
      "  shsp_high = np.array(shsp_high)\n"
     ]
    }
   ],
   "source": [
    "# shsp_high is list of list. Every element list has timestamp, hotspot centre and other locations inside hotspot.\n",
    "print(len(shsp_high))\n",
    "\n",
    "shsp_high = np.array(shsp_high)\n",
    "\n",
    "# Find the number of locations with highest number of spatial high hotspots.\n",
    "\n",
    "shsp_high_counts = {}\n",
    "for col in df.columns:\n",
    "    shsp_high_counts[col] = 0\n",
    "\n",
    "for i in range(len(shsp_high)):\n",
    "    hsp = shsp_high[i]\n",
    "    shsp_high_counts[hsp[1]] += 1\n",
    "    for loc in hsp[2]:\n",
    "#         if(df.loc[hsp[0]][hsp[1]]-df.loc[hsp[0]][loc]<50):\n",
    "        shsp_high_counts[loc] += 1\n",
    "\n",
    "df_counts_sph = pd.DataFrame.from_dict(shsp_high_counts,orient='Index',columns=['spatial_high'])"
   ]
  },
  {
   "cell_type": "code",
   "execution_count": 27,
   "id": "8281ad22",
   "metadata": {},
   "outputs": [
    {
     "name": "stdout",
     "output_type": "stream",
     "text": [
      "853\n"
     ]
    },
    {
     "name": "stderr",
     "output_type": "stream",
     "text": [
      "/state/partition1/job-18677675/ipykernel_2812240/81904359.py:4: VisibleDeprecationWarning: Creating an ndarray from ragged nested sequences (which is a list-or-tuple of lists-or-tuples-or ndarrays with different lengths or shapes) is deprecated. If you meant to do this, you must specify 'dtype=object' when creating the ndarray.\n",
      "  shsp_low = np.array(shsp_low)\n"
     ]
    }
   ],
   "source": [
    "# shsp_low is list of list. Every element list has timestamp, hotspot centre and other locations inside hotspot.\n",
    "print(len(shsp_low))\n",
    "\n",
    "shsp_low = np.array(shsp_low)\n",
    "\n",
    "# Find the number of locations with highest number of spatial low hotspots.\n",
    "\n",
    "shsp_low_counts = {}\n",
    "for col in df.columns:\n",
    "    shsp_low_counts[col] = 0\n",
    "\n",
    "for i in range(len(shsp_low)):\n",
    "    hsp = shsp_low[i]\n",
    "    shsp_low_counts[hsp[1]] += 1\n",
    "    for loc in hsp[2]:\n",
    "#         if(df.loc[hsp[0]][loc]-df.loc[hsp[0]][hsp[1]]<50):\n",
    "        shsp_low_counts[loc] += 1\n",
    "\n",
    "df_counts_spl = pd.DataFrame.from_dict(shsp_low_counts,orient='Index',columns=['spatial_low'])"
   ]
  },
  {
   "cell_type": "code",
   "execution_count": 28,
   "id": "b7b62952",
   "metadata": {},
   "outputs": [
    {
     "name": "stdout",
     "output_type": "stream",
     "text": [
      "8906\n"
     ]
    }
   ],
   "source": [
    "num_hsps = 0\n",
    "for col in df.columns:\n",
    "    num_hsps += len(thsp_high[col])\n",
    "print(num_hsps)\n",
    "\n",
    "thsp_high_counts = {key:len(value) for key,value in thsp_high.items()}\n",
    "\n",
    "df_counts_tmh = pd.DataFrame.from_dict(thsp_high_counts,orient='Index',columns=['temporal_high'])"
   ]
  },
  {
   "cell_type": "code",
   "execution_count": 29,
   "id": "3ed1c10b",
   "metadata": {},
   "outputs": [
    {
     "name": "stdout",
     "output_type": "stream",
     "text": [
      "2394\n"
     ]
    }
   ],
   "source": [
    "num_hsps = 0\n",
    "for col in df.columns:\n",
    "    num_hsps += len(thsp_low[col])\n",
    "print(num_hsps)\n",
    "\n",
    "thsp_low_counts = {key:len(value) for key,value in thsp_low.items()}\n",
    "\n",
    "df_counts_tml = pd.DataFrame.from_dict(thsp_low_counts,orient='Index',columns=['temporal_low'])\n",
    "\n",
    "df_counts = df_counts_sph.join(other=[df_counts_spl, df_counts_tmh, df_counts_tml])"
   ]
  },
  {
   "cell_type": "code",
   "execution_count": 31,
   "id": "6d7efe08",
   "metadata": {},
   "outputs": [],
   "source": [
    "# df_counts.to_csv('govhotspot_counts_3H.csv')"
   ]
  },
  {
   "cell_type": "markdown",
   "id": "612c1738",
   "metadata": {},
   "source": [
    "## Results"
   ]
  },
  {
   "cell_type": "code",
   "execution_count": 32,
   "id": "e6eef0ce",
   "metadata": {},
   "outputs": [
    {
     "data": {
      "text/html": [
       "<div>\n",
       "<style scoped>\n",
       "    .dataframe tbody tr th:only-of-type {\n",
       "        vertical-align: middle;\n",
       "    }\n",
       "\n",
       "    .dataframe tbody tr th {\n",
       "        vertical-align: top;\n",
       "    }\n",
       "\n",
       "    .dataframe thead th {\n",
       "        text-align: right;\n",
       "    }\n",
       "</style>\n",
       "<table border=\"1\" class=\"dataframe\">\n",
       "  <thead>\n",
       "    <tr style=\"text-align: right;\">\n",
       "      <th></th>\n",
       "      <th>spatial_high</th>\n",
       "      <th>spatial_low</th>\n",
       "      <th>temporal_high</th>\n",
       "      <th>temporal_low</th>\n",
       "    </tr>\n",
       "  </thead>\n",
       "  <tbody>\n",
       "    <tr>\n",
       "      <th>4BE7</th>\n",
       "      <td>78</td>\n",
       "      <td>4</td>\n",
       "      <td>63</td>\n",
       "      <td>128</td>\n",
       "    </tr>\n",
       "    <tr>\n",
       "      <th>Rohini_DPCC</th>\n",
       "      <td>201</td>\n",
       "      <td>6</td>\n",
       "      <td>306</td>\n",
       "      <td>95</td>\n",
       "    </tr>\n",
       "    <tr>\n",
       "      <th>Wazirpur_DPCC</th>\n",
       "      <td>246</td>\n",
       "      <td>6</td>\n",
       "      <td>303</td>\n",
       "      <td>90</td>\n",
       "    </tr>\n",
       "    <tr>\n",
       "      <th>Jahangirpuri_DPCC</th>\n",
       "      <td>212</td>\n",
       "      <td>5</td>\n",
       "      <td>303</td>\n",
       "      <td>89</td>\n",
       "    </tr>\n",
       "    <tr>\n",
       "      <th>NehruNagar_DPCC</th>\n",
       "      <td>247</td>\n",
       "      <td>1</td>\n",
       "      <td>312</td>\n",
       "      <td>86</td>\n",
       "    </tr>\n",
       "    <tr>\n",
       "      <th>AshokVihar_DPCC</th>\n",
       "      <td>127</td>\n",
       "      <td>41</td>\n",
       "      <td>255</td>\n",
       "      <td>75</td>\n",
       "    </tr>\n",
       "    <tr>\n",
       "      <th>Mundaka_DPCC</th>\n",
       "      <td>208</td>\n",
       "      <td>11</td>\n",
       "      <td>283</td>\n",
       "      <td>73</td>\n",
       "    </tr>\n",
       "    <tr>\n",
       "      <th>AnandVihar_DPCC</th>\n",
       "      <td>183</td>\n",
       "      <td>3</td>\n",
       "      <td>253</td>\n",
       "      <td>73</td>\n",
       "    </tr>\n",
       "    <tr>\n",
       "      <th>DTU_CPCB</th>\n",
       "      <td>75</td>\n",
       "      <td>18</td>\n",
       "      <td>259</td>\n",
       "      <td>72</td>\n",
       "    </tr>\n",
       "    <tr>\n",
       "      <th>VivekVihar_DPCC</th>\n",
       "      <td>124</td>\n",
       "      <td>65</td>\n",
       "      <td>228</td>\n",
       "      <td>64</td>\n",
       "    </tr>\n",
       "  </tbody>\n",
       "</table>\n",
       "</div>"
      ],
      "text/plain": [
       "                   spatial_high  spatial_low  temporal_high  temporal_low\n",
       "4BE7                         78            4             63           128\n",
       "Rohini_DPCC                 201            6            306            95\n",
       "Wazirpur_DPCC               246            6            303            90\n",
       "Jahangirpuri_DPCC           212            5            303            89\n",
       "NehruNagar_DPCC             247            1            312            86\n",
       "AshokVihar_DPCC             127           41            255            75\n",
       "Mundaka_DPCC                208           11            283            73\n",
       "AnandVihar_DPCC             183            3            253            73\n",
       "DTU_CPCB                     75           18            259            72\n",
       "VivekVihar_DPCC             124           65            228            64"
      ]
     },
     "execution_count": 32,
     "metadata": {},
     "output_type": "execute_result"
    }
   ],
   "source": [
    "df_counts.sort_values(by=['temporal_low'], ascending=False)[:10]"
   ]
  },
  {
   "cell_type": "code",
   "execution_count": 39,
   "id": "9f86e895",
   "metadata": {},
   "outputs": [
    {
     "data": {
      "text/html": [
       "<div>\n",
       "<style scoped>\n",
       "    .dataframe tbody tr th:only-of-type {\n",
       "        vertical-align: middle;\n",
       "    }\n",
       "\n",
       "    .dataframe tbody tr th {\n",
       "        vertical-align: top;\n",
       "    }\n",
       "\n",
       "    .dataframe thead th {\n",
       "        text-align: right;\n",
       "    }\n",
       "</style>\n",
       "<table border=\"1\" class=\"dataframe\">\n",
       "  <thead>\n",
       "    <tr style=\"text-align: right;\">\n",
       "      <th></th>\n",
       "      <th>spatial_high</th>\n",
       "      <th>spatial_low</th>\n",
       "      <th>temporal_high</th>\n",
       "      <th>temporal_low</th>\n",
       "    </tr>\n",
       "  </thead>\n",
       "  <tbody>\n",
       "    <tr>\n",
       "      <th>Pusa_IMD</th>\n",
       "      <td>17</td>\n",
       "      <td>101</td>\n",
       "      <td>137</td>\n",
       "      <td>19</td>\n",
       "    </tr>\n",
       "    <tr>\n",
       "      <th>LodhiRoad_IMD</th>\n",
       "      <td>13</td>\n",
       "      <td>96</td>\n",
       "      <td>116</td>\n",
       "      <td>26</td>\n",
       "    </tr>\n",
       "    <tr>\n",
       "      <th>NSIT_CPCB</th>\n",
       "      <td>36</td>\n",
       "      <td>94</td>\n",
       "      <td>151</td>\n",
       "      <td>26</td>\n",
       "    </tr>\n",
       "    <tr>\n",
       "      <th>IGIAirport_IMD</th>\n",
       "      <td>13</td>\n",
       "      <td>89</td>\n",
       "      <td>142</td>\n",
       "      <td>27</td>\n",
       "    </tr>\n",
       "    <tr>\n",
       "      <th>AyaNagar_IMD</th>\n",
       "      <td>38</td>\n",
       "      <td>80</td>\n",
       "      <td>126</td>\n",
       "      <td>18</td>\n",
       "    </tr>\n",
       "    <tr>\n",
       "      <th>MDCNS_DPCC</th>\n",
       "      <td>20</td>\n",
       "      <td>73</td>\n",
       "      <td>162</td>\n",
       "      <td>33</td>\n",
       "    </tr>\n",
       "    <tr>\n",
       "      <th>SriAurobindoMarg_DPCC</th>\n",
       "      <td>10</td>\n",
       "      <td>70</td>\n",
       "      <td>146</td>\n",
       "      <td>43</td>\n",
       "    </tr>\n",
       "    <tr>\n",
       "      <th>VivekVihar_DPCC</th>\n",
       "      <td>124</td>\n",
       "      <td>65</td>\n",
       "      <td>228</td>\n",
       "      <td>64</td>\n",
       "    </tr>\n",
       "    <tr>\n",
       "      <th>DwarkaSector8_DPCC</th>\n",
       "      <td>28</td>\n",
       "      <td>62</td>\n",
       "      <td>218</td>\n",
       "      <td>53</td>\n",
       "    </tr>\n",
       "    <tr>\n",
       "      <th>IHBAS_CPCB</th>\n",
       "      <td>87</td>\n",
       "      <td>57</td>\n",
       "      <td>176</td>\n",
       "      <td>34</td>\n",
       "    </tr>\n",
       "    <tr>\n",
       "      <th>Shadipur_CPCB</th>\n",
       "      <td>107</td>\n",
       "      <td>55</td>\n",
       "      <td>245</td>\n",
       "      <td>46</td>\n",
       "    </tr>\n",
       "    <tr>\n",
       "      <th>Pusa_DPCC</th>\n",
       "      <td>16</td>\n",
       "      <td>52</td>\n",
       "      <td>185</td>\n",
       "      <td>40</td>\n",
       "    </tr>\n",
       "    <tr>\n",
       "      <th>20CA</th>\n",
       "      <td>13</td>\n",
       "      <td>49</td>\n",
       "      <td>106</td>\n",
       "      <td>15</td>\n",
       "    </tr>\n",
       "    <tr>\n",
       "      <th>E486</th>\n",
       "      <td>10</td>\n",
       "      <td>46</td>\n",
       "      <td>184</td>\n",
       "      <td>38</td>\n",
       "    </tr>\n",
       "    <tr>\n",
       "      <th>CBC7</th>\n",
       "      <td>9</td>\n",
       "      <td>42</td>\n",
       "      <td>120</td>\n",
       "      <td>25</td>\n",
       "    </tr>\n",
       "  </tbody>\n",
       "</table>\n",
       "</div>"
      ],
      "text/plain": [
       "                       spatial_high  spatial_low  temporal_high  temporal_low\n",
       "Pusa_IMD                         17          101            137            19\n",
       "LodhiRoad_IMD                    13           96            116            26\n",
       "NSIT_CPCB                        36           94            151            26\n",
       "IGIAirport_IMD                   13           89            142            27\n",
       "AyaNagar_IMD                     38           80            126            18\n",
       "MDCNS_DPCC                       20           73            162            33\n",
       "SriAurobindoMarg_DPCC            10           70            146            43\n",
       "VivekVihar_DPCC                 124           65            228            64\n",
       "DwarkaSector8_DPCC               28           62            218            53\n",
       "IHBAS_CPCB                       87           57            176            34\n",
       "Shadipur_CPCB                   107           55            245            46\n",
       "Pusa_DPCC                        16           52            185            40\n",
       "20CA                             13           49            106            15\n",
       "E486                             10           46            184            38\n",
       "CBC7                              9           42            120            25"
      ]
     },
     "execution_count": 39,
     "metadata": {},
     "output_type": "execute_result"
    }
   ],
   "source": [
    "df_counts.sort_values(by=['spatial_low'], ascending=False)[:15]"
   ]
  },
  {
   "cell_type": "code",
   "execution_count": 42,
   "id": "f36b8453",
   "metadata": {},
   "outputs": [
    {
     "data": {
      "text/plain": [
       "UDID         4067187ca8d84d1584997699fc25e486\n",
       "Latitude                            28.536617\n",
       "Longitude                           77.372281\n",
       "Address                           Kailas Home\n",
       "Location                     Noida Sector 104\n",
       "Type                                 Kaiterra\n",
       "Name: E486, dtype: object"
      ]
     },
     "execution_count": 42,
     "metadata": {},
     "output_type": "execute_result"
    }
   ],
   "source": [
    "locs.loc['E486']"
   ]
  },
  {
   "cell_type": "code",
   "execution_count": 35,
   "id": "2b91e989",
   "metadata": {},
   "outputs": [
    {
     "data": {
      "text/html": [
       "<div>\n",
       "<style scoped>\n",
       "    .dataframe tbody tr th:only-of-type {\n",
       "        vertical-align: middle;\n",
       "    }\n",
       "\n",
       "    .dataframe tbody tr th {\n",
       "        vertical-align: top;\n",
       "    }\n",
       "\n",
       "    .dataframe thead th {\n",
       "        text-align: right;\n",
       "    }\n",
       "</style>\n",
       "<table border=\"1\" class=\"dataframe\">\n",
       "  <thead>\n",
       "    <tr style=\"text-align: right;\">\n",
       "      <th></th>\n",
       "      <th>spatial_high</th>\n",
       "      <th>spatial_low</th>\n",
       "      <th>temporal_high</th>\n",
       "      <th>temporal_low</th>\n",
       "    </tr>\n",
       "  </thead>\n",
       "  <tbody>\n",
       "    <tr>\n",
       "      <th>NehruNagar_DPCC</th>\n",
       "      <td>247</td>\n",
       "      <td>1</td>\n",
       "      <td>312</td>\n",
       "      <td>86</td>\n",
       "    </tr>\n",
       "    <tr>\n",
       "      <th>Rohini_DPCC</th>\n",
       "      <td>201</td>\n",
       "      <td>6</td>\n",
       "      <td>306</td>\n",
       "      <td>95</td>\n",
       "    </tr>\n",
       "    <tr>\n",
       "      <th>Wazirpur_DPCC</th>\n",
       "      <td>246</td>\n",
       "      <td>6</td>\n",
       "      <td>303</td>\n",
       "      <td>90</td>\n",
       "    </tr>\n",
       "    <tr>\n",
       "      <th>Jahangirpuri_DPCC</th>\n",
       "      <td>212</td>\n",
       "      <td>5</td>\n",
       "      <td>303</td>\n",
       "      <td>89</td>\n",
       "    </tr>\n",
       "    <tr>\n",
       "      <th>Mundaka_DPCC</th>\n",
       "      <td>208</td>\n",
       "      <td>11</td>\n",
       "      <td>283</td>\n",
       "      <td>73</td>\n",
       "    </tr>\n",
       "    <tr>\n",
       "      <th>DTU_CPCB</th>\n",
       "      <td>75</td>\n",
       "      <td>18</td>\n",
       "      <td>259</td>\n",
       "      <td>72</td>\n",
       "    </tr>\n",
       "    <tr>\n",
       "      <th>PunjabiBagh_DPCC</th>\n",
       "      <td>146</td>\n",
       "      <td>14</td>\n",
       "      <td>255</td>\n",
       "      <td>57</td>\n",
       "    </tr>\n",
       "    <tr>\n",
       "      <th>AshokVihar_DPCC</th>\n",
       "      <td>127</td>\n",
       "      <td>41</td>\n",
       "      <td>255</td>\n",
       "      <td>75</td>\n",
       "    </tr>\n",
       "    <tr>\n",
       "      <th>AnandVihar_DPCC</th>\n",
       "      <td>183</td>\n",
       "      <td>3</td>\n",
       "      <td>253</td>\n",
       "      <td>73</td>\n",
       "    </tr>\n",
       "    <tr>\n",
       "      <th>SoniaVihar_DPCC</th>\n",
       "      <td>66</td>\n",
       "      <td>36</td>\n",
       "      <td>246</td>\n",
       "      <td>63</td>\n",
       "    </tr>\n",
       "  </tbody>\n",
       "</table>\n",
       "</div>"
      ],
      "text/plain": [
       "                   spatial_high  spatial_low  temporal_high  temporal_low\n",
       "NehruNagar_DPCC             247            1            312            86\n",
       "Rohini_DPCC                 201            6            306            95\n",
       "Wazirpur_DPCC               246            6            303            90\n",
       "Jahangirpuri_DPCC           212            5            303            89\n",
       "Mundaka_DPCC                208           11            283            73\n",
       "DTU_CPCB                     75           18            259            72\n",
       "PunjabiBagh_DPCC            146           14            255            57\n",
       "AshokVihar_DPCC             127           41            255            75\n",
       "AnandVihar_DPCC             183            3            253            73\n",
       "SoniaVihar_DPCC              66           36            246            63"
      ]
     },
     "execution_count": 35,
     "metadata": {},
     "output_type": "execute_result"
    }
   ],
   "source": [
    "df_counts.sort_values(by=['temporal_high'], ascending=False)[:10]"
   ]
  },
  {
   "cell_type": "code",
   "execution_count": 37,
   "id": "c94a9479",
   "metadata": {},
   "outputs": [
    {
     "data": {
      "text/html": [
       "<div>\n",
       "<style scoped>\n",
       "    .dataframe tbody tr th:only-of-type {\n",
       "        vertical-align: middle;\n",
       "    }\n",
       "\n",
       "    .dataframe tbody tr th {\n",
       "        vertical-align: top;\n",
       "    }\n",
       "\n",
       "    .dataframe thead th {\n",
       "        text-align: right;\n",
       "    }\n",
       "</style>\n",
       "<table border=\"1\" class=\"dataframe\">\n",
       "  <thead>\n",
       "    <tr style=\"text-align: right;\">\n",
       "      <th></th>\n",
       "      <th>spatial_high</th>\n",
       "      <th>spatial_low</th>\n",
       "      <th>temporal_high</th>\n",
       "      <th>temporal_low</th>\n",
       "    </tr>\n",
       "  </thead>\n",
       "  <tbody>\n",
       "    <tr>\n",
       "      <th>NehruNagar_DPCC</th>\n",
       "      <td>247</td>\n",
       "      <td>1</td>\n",
       "      <td>312</td>\n",
       "      <td>86</td>\n",
       "    </tr>\n",
       "    <tr>\n",
       "      <th>Wazirpur_DPCC</th>\n",
       "      <td>246</td>\n",
       "      <td>6</td>\n",
       "      <td>303</td>\n",
       "      <td>90</td>\n",
       "    </tr>\n",
       "    <tr>\n",
       "      <th>Jahangirpuri_DPCC</th>\n",
       "      <td>212</td>\n",
       "      <td>5</td>\n",
       "      <td>303</td>\n",
       "      <td>89</td>\n",
       "    </tr>\n",
       "    <tr>\n",
       "      <th>Mundaka_DPCC</th>\n",
       "      <td>208</td>\n",
       "      <td>11</td>\n",
       "      <td>283</td>\n",
       "      <td>73</td>\n",
       "    </tr>\n",
       "    <tr>\n",
       "      <th>Rohini_DPCC</th>\n",
       "      <td>201</td>\n",
       "      <td>6</td>\n",
       "      <td>306</td>\n",
       "      <td>95</td>\n",
       "    </tr>\n",
       "    <tr>\n",
       "      <th>AnandVihar_DPCC</th>\n",
       "      <td>183</td>\n",
       "      <td>3</td>\n",
       "      <td>253</td>\n",
       "      <td>73</td>\n",
       "    </tr>\n",
       "    <tr>\n",
       "      <th>PunjabiBagh_DPCC</th>\n",
       "      <td>146</td>\n",
       "      <td>14</td>\n",
       "      <td>255</td>\n",
       "      <td>57</td>\n",
       "    </tr>\n",
       "    <tr>\n",
       "      <th>AshokVihar_DPCC</th>\n",
       "      <td>127</td>\n",
       "      <td>41</td>\n",
       "      <td>255</td>\n",
       "      <td>75</td>\n",
       "    </tr>\n",
       "    <tr>\n",
       "      <th>VivekVihar_DPCC</th>\n",
       "      <td>124</td>\n",
       "      <td>65</td>\n",
       "      <td>228</td>\n",
       "      <td>64</td>\n",
       "    </tr>\n",
       "    <tr>\n",
       "      <th>Shadipur_CPCB</th>\n",
       "      <td>107</td>\n",
       "      <td>55</td>\n",
       "      <td>245</td>\n",
       "      <td>46</td>\n",
       "    </tr>\n",
       "  </tbody>\n",
       "</table>\n",
       "</div>"
      ],
      "text/plain": [
       "                   spatial_high  spatial_low  temporal_high  temporal_low\n",
       "NehruNagar_DPCC             247            1            312            86\n",
       "Wazirpur_DPCC               246            6            303            90\n",
       "Jahangirpuri_DPCC           212            5            303            89\n",
       "Mundaka_DPCC                208           11            283            73\n",
       "Rohini_DPCC                 201            6            306            95\n",
       "AnandVihar_DPCC             183            3            253            73\n",
       "PunjabiBagh_DPCC            146           14            255            57\n",
       "AshokVihar_DPCC             127           41            255            75\n",
       "VivekVihar_DPCC             124           65            228            64\n",
       "Shadipur_CPCB               107           55            245            46"
      ]
     },
     "execution_count": 37,
     "metadata": {},
     "output_type": "execute_result"
    }
   ],
   "source": [
    "df_counts.sort_values(by=['spatial_high'], ascending=False)[:10]"
   ]
  },
  {
   "cell_type": "markdown",
   "id": "95625ab0",
   "metadata": {},
   "source": [
    "# Common Occurance"
   ]
  },
  {
   "cell_type": "code",
   "execution_count": 18,
   "id": "965b2d90",
   "metadata": {},
   "outputs": [
    {
     "data": {
      "text/plain": [
       "1442"
      ]
     },
     "execution_count": 18,
     "metadata": {},
     "output_type": "execute_result"
    }
   ],
   "source": [
    "co_thsh = 0\n",
    "for col in df.columns:\n",
    "    for i in range(len(thsp_high[col])):\n",
    "        thsp = thsp_high[col][i]\n",
    "        time = thsp[0]\n",
    "        location = col\n",
    "        time_range = thsp[2]\n",
    "        for t in time_range:\n",
    "            if(df.loc[time][location]-df.loc[t][location]<50):\n",
    "                shsp = shsp_high[shsp_high[:,0]==t]\n",
    "                for j in range(len(shsp)):\n",
    "                    if(location==shsp[j][1]):\n",
    "                        co_thsh += 1\n",
    "co_thsh"
   ]
  },
  {
   "cell_type": "code",
   "execution_count": 19,
   "id": "c69049ca",
   "metadata": {},
   "outputs": [
    {
     "data": {
      "text/plain": [
       "108"
      ]
     },
     "execution_count": 19,
     "metadata": {},
     "output_type": "execute_result"
    }
   ],
   "source": [
    "co_tlsh = 0\n",
    "for col in df.columns:\n",
    "    for i in range(len(thsp_low[col])):\n",
    "        thsp = thsp_low[col][i]\n",
    "        time = thsp[0]\n",
    "        location = col\n",
    "        time_range = thsp[2]\n",
    "        for t in time_range:\n",
    "            if(df.loc[t][location]-df.loc[time][location]<50):\n",
    "                shsp = shsp_high[shsp_high[:,0]==t]\n",
    "                for j in range(len(shsp)):\n",
    "                    if(location==shsp[j][1]):\n",
    "                        co_tlsh += 1\n",
    "co_tlsh"
   ]
  },
  {
   "cell_type": "code",
   "execution_count": 20,
   "id": "c0ee6990",
   "metadata": {},
   "outputs": [
    {
     "data": {
      "text/plain": [
       "156"
      ]
     },
     "execution_count": 20,
     "metadata": {},
     "output_type": "execute_result"
    }
   ],
   "source": [
    "co_thsl = 0\n",
    "for col in df.columns:\n",
    "    for i in range(len(thsp_high[col])):\n",
    "        thsp = thsp_high[col][i]\n",
    "        time = thsp[0]\n",
    "        location = col\n",
    "        time_range = thsp[2]\n",
    "        for t in time_range:\n",
    "            if(df.loc[time][location]-df.loc[t][location]<50):\n",
    "                shsp = shsp_low[shsp_low[:,0]==t]\n",
    "                for j in range(len(shsp)):\n",
    "                    if(location==shsp[j][1]):\n",
    "                        co_thsl += 1\n",
    "co_thsl"
   ]
  },
  {
   "cell_type": "code",
   "execution_count": 21,
   "id": "231ce374",
   "metadata": {},
   "outputs": [
    {
     "data": {
      "text/plain": [
       "69"
      ]
     },
     "execution_count": 21,
     "metadata": {},
     "output_type": "execute_result"
    }
   ],
   "source": [
    "co_tlsl = 0\n",
    "for col in df.columns:\n",
    "    for i in range(len(thsp_low[col])):\n",
    "        thsp = thsp_low[col][i]\n",
    "        time = thsp[0]\n",
    "        location = col\n",
    "        time_range = thsp[2]\n",
    "        for t in time_range:\n",
    "            if(df.loc[t][location]-df.loc[time][location]<50):\n",
    "                shsp = shsp_low[shsp_low[:,0]==t]\n",
    "                for j in range(len(shsp)):\n",
    "                    if(location==shsp[j][1]):\n",
    "                        co_tlsl += 1\n",
    "co_tlsl"
   ]
  },
  {
   "cell_type": "markdown",
   "id": "4cda6357",
   "metadata": {},
   "source": [
    "# Inferences: Temporal Hotspots"
   ]
  },
  {
   "cell_type": "code",
   "execution_count": 103,
   "id": "736b49a6",
   "metadata": {},
   "outputs": [],
   "source": [
    "time_interest_locs = set(df_counts.sort_values(by=['temporal_high'], ascending=False)[:10].index).intersection(\\\n",
    "                            set(df_counts.sort_values(by=['temporal_low'], ascending=False)[:10].index))"
   ]
  },
  {
   "cell_type": "code",
   "execution_count": 104,
   "id": "a149e571",
   "metadata": {
    "scrolled": true
   },
   "outputs": [
    {
     "name": "stderr",
     "output_type": "stream",
     "text": [
      "/state/partition1/job-18572487/ipykernel_2218890/3921831146.py:4: VisibleDeprecationWarning: Creating an ndarray from ragged nested sequences (which is a list-or-tuple of lists-or-tuples-or ndarrays with different lengths or shapes) is deprecated. If you meant to do this, you must specify 'dtype=object' when creating the ndarray.\n",
      "  high_vals = np.array(high_hsps)[:,1]\n",
      "/state/partition1/job-18572487/ipykernel_2218890/3921831146.py:5: VisibleDeprecationWarning: Creating an ndarray from ragged nested sequences (which is a list-or-tuple of lists-or-tuples-or ndarrays with different lengths or shapes) is deprecated. If you meant to do this, you must specify 'dtype=object' when creating the ndarray.\n",
      "  low_vals = np.array(low_hsps)[:,1]\n"
     ]
    },
    {
     "data": {
      "image/png": "[encoded data removed]",
      "text/plain": [
       "<Figure size 720x504 with 1 Axes>"
      ]
     },
     "metadata": {
      "needs_background": "light"
     },
     "output_type": "display_data"
    },
    {
     "data": {
      "image/png": "[encoded data removed]",
      "text/plain": [
       "<Figure size 720x504 with 1 Axes>"
      ]
     },
     "metadata": {
      "needs_background": "light"
     },
     "output_type": "display_data"
    },
    {
     "data": {
      "image/png": "[encoded data removed]",
      "text/plain": [
       "<Figure size 720x504 with 1 Axes>"
      ]
     },
     "metadata": {
      "needs_background": "light"
     },
     "output_type": "display_data"
    },
    {
     "data": {
      "image/png": "[encoded data removed]",
      "text/plain": [
       "<Figure size 720x504 with 1 Axes>"
      ]
     },
     "metadata": {
      "needs_background": "light"
     },
     "output_type": "display_data"
    },
    {
     "data": {
      "image/png": "[encoded data removed]",
      "text/plain": [
       "<Figure size 720x504 with 1 Axes>"
      ]
     },
     "metadata": {
      "needs_background": "light"
     },
     "output_type": "display_data"
    },
    {
     "data": {
      "image/png": "[encoded data removed]",
      "text/plain": [
       "<Figure size 720x504 with 1 Axes>"
      ]
     },
     "metadata": {
      "needs_background": "light"
     },
     "output_type": "display_data"
    },
    {
     "data": {
      "image/png": "[encoded data removed]",
      "text/plain": [
       "<Figure size 720x504 with 1 Axes>"
      ]
     },
     "metadata": {
      "needs_background": "light"
     },
     "output_type": "display_data"
    },
    {
     "data": {
      "image/png": "[encoded data removed]",
      "text/plain": [
       "<Figure size 720x504 with 1 Axes>"
      ]
     },
     "metadata": {
      "needs_background": "light"
     },
     "output_type": "display_data"
    }
   ],
   "source": [
    "for location in list(time_interest_locs):\n",
    "    high_hsps = thsp_high[location]\n",
    "    low_hsps = thsp_low[location]\n",
    "    high_vals = np.array(high_hsps)[:,1]\n",
    "    low_vals = np.array(low_hsps)[:,1]\n",
    "    fig, ax = plt.subplots(figsize=(10,7))\n",
    "    stats_high = plt.hist(high_vals, weights=np.ones(len(high_vals))/len(high_vals),\\\n",
    "                bins=range(int(min(high_vals)),int(max(high_vals)) + 10, 10),cumulative=False,alpha=0.5,label='high')\n",
    "    stats_low = plt.hist(low_vals, weights=np.ones(len(low_vals))/len(low_vals),\\\n",
    "                bins=range(int(min(low_vals)),int(max(low_vals)) + 10, 10),cumulative=False,alpha=0.5,label='low')\n",
    "    plt.title(location)\n",
    "    plt.legend()"
   ]
  },
  {
   "cell_type": "code",
   "execution_count": 105,
   "id": "a8e876ae",
   "metadata": {},
   "outputs": [],
   "source": [
    "high_pol_locs = set(df_counts.sort_values(by=['spatial_high'], ascending=False)[:10].index).intersection\\\n",
    "(time_interest_locs)"
   ]
  },
  {
   "cell_type": "code",
   "execution_count": 106,
   "id": "dacc6185",
   "metadata": {},
   "outputs": [
    {
     "name": "stdout",
     "output_type": "stream",
     "text": [
      "AnandVihar_DPCC 121.78385108712655 117.85420238154572\n",
      "AshokVihar_DPCC 106.05372376154493 109.78523768906804\n",
      "Mundaka_DPCC 116.51601454765873 118.42891255711518\n",
      "NehruNagar_DPCC 110.83204182718768 121.35814053212074\n",
      "Wazirpur_DPCC 118.78676101505856 116.42626335045303\n",
      "Jahangirpuri_DPCC 119.56125104369606 112.76653861575384\n",
      "Rohini_DPCC 116.55189862783533 112.60002521392244\n"
     ]
    }
   ],
   "source": [
    "for location in high_pol_locs:\n",
    "    print(location, df[location].mean(), df[location].std())"
   ]
  },
  {
   "cell_type": "code",
   "execution_count": 107,
   "id": "10c4cad3",
   "metadata": {},
   "outputs": [
    {
     "name": "stdout",
     "output_type": "stream",
     "text": [
      "119.56125104369606 112.76653861575384\n"
     ]
    }
   ],
   "source": [
    "print(df['Jahangirpuri_DPCC'].mean(), df['Jahangirpuri_DPCC'].std())"
   ]
  },
  {
   "cell_type": "code",
   "execution_count": 108,
   "id": "432f16d9",
   "metadata": {},
   "outputs": [
    {
     "name": "stderr",
     "output_type": "stream",
     "text": [
      "/state/partition1/job-18572487/ipykernel_2218890/433554290.py:4: VisibleDeprecationWarning: Creating an ndarray from ragged nested sequences (which is a list-or-tuple of lists-or-tuples-or ndarrays with different lengths or shapes) is deprecated. If you meant to do this, you must specify 'dtype=object' when creating the ndarray.\n",
      "  high_vals = np.array(high_hsps)[:,1]\n",
      "/state/partition1/job-18572487/ipykernel_2218890/433554290.py:5: VisibleDeprecationWarning: Creating an ndarray from ragged nested sequences (which is a list-or-tuple of lists-or-tuples-or ndarrays with different lengths or shapes) is deprecated. If you meant to do this, you must specify 'dtype=object' when creating the ndarray.\n",
      "  low_vals = np.array(low_hsps)[:,1]\n"
     ]
    },
    {
     "data": {
      "text/plain": [
       "<matplotlib.legend.Legend at 0x1534e66eeec0>"
      ]
     },
     "execution_count": 108,
     "metadata": {},
     "output_type": "execute_result"
    },
    {
     "data": {
      "image/png": "[encoded data removed]",
      "text/plain": [
       "<Figure size 720x504 with 1 Axes>"
      ]
     },
     "metadata": {
      "needs_background": "light"
     },
     "output_type": "display_data"
    }
   ],
   "source": [
    "location = 'Jahangirpuri_DPCC'\n",
    "high_hsps = thsp_high[location]\n",
    "low_hsps = thsp_low[location]\n",
    "high_vals = np.array(high_hsps)[:,1]\n",
    "low_vals = np.array(low_hsps)[:,1]\n",
    "fig, ax = plt.subplots(figsize=(10,7))\n",
    "stats_high = plt.hist(high_vals, weights=np.ones(len(high_vals))/len(high_vals),\\\n",
    "            bins=range(int(min(high_vals)),int(max(high_vals)) + 10, 10),cumulative=False,alpha=0.5,label='high')\n",
    "stats_low = plt.hist(low_vals, weights=np.ones(len(low_vals))/len(low_vals),\\\n",
    "            bins=range(int(min(low_vals)),int(max(low_vals)) + 10, 10),cumulative=False,alpha=0.5,label='low')\n",
    "plt.title(location)\n",
    "plt.legend()"
   ]
  },
  {
   "cell_type": "code",
   "execution_count": 109,
   "id": "9c583853",
   "metadata": {},
   "outputs": [
    {
     "data": {
      "text/plain": [
       "0.1348314606741573"
      ]
     },
     "execution_count": 109,
     "metadata": {},
     "output_type": "execute_result"
    }
   ],
   "source": [
    "roi_vals = (stats_low[1]+5)[stats_low[1]<200]\n",
    "(stats_low[0][:len(roi_vals)]).sum()"
   ]
  },
  {
   "cell_type": "markdown",
   "id": "404a7219",
   "metadata": {},
   "source": [
    "# Compare with only Government Data Hotspots"
   ]
  },
  {
   "cell_type": "code",
   "execution_count": 76,
   "id": "cf5e410d",
   "metadata": {},
   "outputs": [],
   "source": [
    "df_gov = pd.read_csv('govhotspot_counts_3H.csv',index_col=0)\n",
    "df_com = pd.read_csv('hotspot_counts_3H.csv',index_col=0)\n",
    "df_gov.columns = df_gov.columns + '_gov'\n",
    "df_com.columns = df_com.columns + '_com'"
   ]
  },
  {
   "cell_type": "code",
   "execution_count": 82,
   "id": "1ef284de",
   "metadata": {},
   "outputs": [],
   "source": [
    "df_hotspots = df_com.join([df_gov])"
   ]
  },
  {
   "cell_type": "code",
   "execution_count": 83,
   "id": "91f5d60e",
   "metadata": {},
   "outputs": [
    {
     "data": {
      "text/html": [
       "<div>\n",
       "<style scoped>\n",
       "    .dataframe tbody tr th:only-of-type {\n",
       "        vertical-align: middle;\n",
       "    }\n",
       "\n",
       "    .dataframe tbody tr th {\n",
       "        vertical-align: top;\n",
       "    }\n",
       "\n",
       "    .dataframe thead th {\n",
       "        text-align: right;\n",
       "    }\n",
       "</style>\n",
       "<table border=\"1\" class=\"dataframe\">\n",
       "  <thead>\n",
       "    <tr style=\"text-align: right;\">\n",
       "      <th></th>\n",
       "      <th>spatial_high_com</th>\n",
       "      <th>spatial_low_com</th>\n",
       "      <th>temporal_high_com</th>\n",
       "      <th>temporal_low_com</th>\n",
       "      <th>spatial_high_gov</th>\n",
       "      <th>spatial_low_gov</th>\n",
       "      <th>temporal_high_gov</th>\n",
       "      <th>temporal_low_gov</th>\n",
       "    </tr>\n",
       "  </thead>\n",
       "  <tbody>\n",
       "    <tr>\n",
       "      <th>Pusa_IMD</th>\n",
       "      <td>15</td>\n",
       "      <td>104</td>\n",
       "      <td>137</td>\n",
       "      <td>19</td>\n",
       "      <td>12.0</td>\n",
       "      <td>124.0</td>\n",
       "      <td>137.0</td>\n",
       "      <td>19.0</td>\n",
       "    </tr>\n",
       "    <tr>\n",
       "      <th>LodhiRoad_IMD</th>\n",
       "      <td>14</td>\n",
       "      <td>81</td>\n",
       "      <td>116</td>\n",
       "      <td>26</td>\n",
       "      <td>12.0</td>\n",
       "      <td>105.0</td>\n",
       "      <td>116.0</td>\n",
       "      <td>26.0</td>\n",
       "    </tr>\n",
       "    <tr>\n",
       "      <th>NSIT_CPCB</th>\n",
       "      <td>40</td>\n",
       "      <td>86</td>\n",
       "      <td>151</td>\n",
       "      <td>26</td>\n",
       "      <td>29.0</td>\n",
       "      <td>88.0</td>\n",
       "      <td>151.0</td>\n",
       "      <td>26.0</td>\n",
       "    </tr>\n",
       "    <tr>\n",
       "      <th>MDCNS_DPCC</th>\n",
       "      <td>18</td>\n",
       "      <td>65</td>\n",
       "      <td>162</td>\n",
       "      <td>33</td>\n",
       "      <td>12.0</td>\n",
       "      <td>88.0</td>\n",
       "      <td>162.0</td>\n",
       "      <td>33.0</td>\n",
       "    </tr>\n",
       "    <tr>\n",
       "      <th>IGIAirport_IMD</th>\n",
       "      <td>12</td>\n",
       "      <td>98</td>\n",
       "      <td>142</td>\n",
       "      <td>27</td>\n",
       "      <td>11.0</td>\n",
       "      <td>87.0</td>\n",
       "      <td>142.0</td>\n",
       "      <td>27.0</td>\n",
       "    </tr>\n",
       "    <tr>\n",
       "      <th>Pusa_DPCC</th>\n",
       "      <td>19</td>\n",
       "      <td>52</td>\n",
       "      <td>185</td>\n",
       "      <td>40</td>\n",
       "      <td>10.0</td>\n",
       "      <td>75.0</td>\n",
       "      <td>185.0</td>\n",
       "      <td>40.0</td>\n",
       "    </tr>\n",
       "    <tr>\n",
       "      <th>VivekVihar_DPCC</th>\n",
       "      <td>138</td>\n",
       "      <td>62</td>\n",
       "      <td>228</td>\n",
       "      <td>64</td>\n",
       "      <td>126.0</td>\n",
       "      <td>63.0</td>\n",
       "      <td>228.0</td>\n",
       "      <td>64.0</td>\n",
       "    </tr>\n",
       "    <tr>\n",
       "      <th>DwarkaSector8_DPCC</th>\n",
       "      <td>30</td>\n",
       "      <td>51</td>\n",
       "      <td>218</td>\n",
       "      <td>53</td>\n",
       "      <td>21.0</td>\n",
       "      <td>62.0</td>\n",
       "      <td>218.0</td>\n",
       "      <td>53.0</td>\n",
       "    </tr>\n",
       "    <tr>\n",
       "      <th>IHBAS_CPCB</th>\n",
       "      <td>85</td>\n",
       "      <td>49</td>\n",
       "      <td>176</td>\n",
       "      <td>34</td>\n",
       "      <td>65.0</td>\n",
       "      <td>48.0</td>\n",
       "      <td>176.0</td>\n",
       "      <td>34.0</td>\n",
       "    </tr>\n",
       "    <tr>\n",
       "      <th>SriAurobindoMarg_DPCC</th>\n",
       "      <td>13</td>\n",
       "      <td>36</td>\n",
       "      <td>146</td>\n",
       "      <td>43</td>\n",
       "      <td>11.0</td>\n",
       "      <td>46.0</td>\n",
       "      <td>146.0</td>\n",
       "      <td>43.0</td>\n",
       "    </tr>\n",
       "  </tbody>\n",
       "</table>\n",
       "</div>"
      ],
      "text/plain": [
       "                       spatial_high_com  spatial_low_com  temporal_high_com  \\\n",
       "Pusa_IMD                             15              104                137   \n",
       "LodhiRoad_IMD                        14               81                116   \n",
       "NSIT_CPCB                            40               86                151   \n",
       "MDCNS_DPCC                           18               65                162   \n",
       "IGIAirport_IMD                       12               98                142   \n",
       "Pusa_DPCC                            19               52                185   \n",
       "VivekVihar_DPCC                     138               62                228   \n",
       "DwarkaSector8_DPCC                   30               51                218   \n",
       "IHBAS_CPCB                           85               49                176   \n",
       "SriAurobindoMarg_DPCC                13               36                146   \n",
       "\n",
       "                       temporal_low_com  spatial_high_gov  spatial_low_gov  \\\n",
       "Pusa_IMD                             19              12.0            124.0   \n",
       "LodhiRoad_IMD                        26              12.0            105.0   \n",
       "NSIT_CPCB                            26              29.0             88.0   \n",
       "MDCNS_DPCC                           33              12.0             88.0   \n",
       "IGIAirport_IMD                       27              11.0             87.0   \n",
       "Pusa_DPCC                            40              10.0             75.0   \n",
       "VivekVihar_DPCC                      64             126.0             63.0   \n",
       "DwarkaSector8_DPCC                   53              21.0             62.0   \n",
       "IHBAS_CPCB                           34              65.0             48.0   \n",
       "SriAurobindoMarg_DPCC                43              11.0             46.0   \n",
       "\n",
       "                       temporal_high_gov  temporal_low_gov  \n",
       "Pusa_IMD                           137.0              19.0  \n",
       "LodhiRoad_IMD                      116.0              26.0  \n",
       "NSIT_CPCB                          151.0              26.0  \n",
       "MDCNS_DPCC                         162.0              33.0  \n",
       "IGIAirport_IMD                     142.0              27.0  \n",
       "Pusa_DPCC                          185.0              40.0  \n",
       "VivekVihar_DPCC                    228.0              64.0  \n",
       "DwarkaSector8_DPCC                 218.0              53.0  \n",
       "IHBAS_CPCB                         176.0              34.0  \n",
       "SriAurobindoMarg_DPCC              146.0              43.0  "
      ]
     },
     "execution_count": 83,
     "metadata": {},
     "output_type": "execute_result"
    }
   ],
   "source": [
    "df_hotspots.sort_values(by=['spatial_low_gov'], ascending=False)[:10]"
   ]
  },
  {
   "cell_type": "code",
   "execution_count": 84,
   "id": "23c1dc52",
   "metadata": {},
   "outputs": [
    {
     "data": {
      "text/html": [
       "<div>\n",
       "<style scoped>\n",
       "    .dataframe tbody tr th:only-of-type {\n",
       "        vertical-align: middle;\n",
       "    }\n",
       "\n",
       "    .dataframe tbody tr th {\n",
       "        vertical-align: top;\n",
       "    }\n",
       "\n",
       "    .dataframe thead th {\n",
       "        text-align: right;\n",
       "    }\n",
       "</style>\n",
       "<table border=\"1\" class=\"dataframe\">\n",
       "  <thead>\n",
       "    <tr style=\"text-align: right;\">\n",
       "      <th></th>\n",
       "      <th>spatial_high_com</th>\n",
       "      <th>spatial_low_com</th>\n",
       "      <th>temporal_high_com</th>\n",
       "      <th>temporal_low_com</th>\n",
       "      <th>spatial_high_gov</th>\n",
       "      <th>spatial_low_gov</th>\n",
       "      <th>temporal_high_gov</th>\n",
       "      <th>temporal_low_gov</th>\n",
       "    </tr>\n",
       "  </thead>\n",
       "  <tbody>\n",
       "    <tr>\n",
       "      <th>Pusa_IMD</th>\n",
       "      <td>15</td>\n",
       "      <td>104</td>\n",
       "      <td>137</td>\n",
       "      <td>19</td>\n",
       "      <td>12.0</td>\n",
       "      <td>124.0</td>\n",
       "      <td>137.0</td>\n",
       "      <td>19.0</td>\n",
       "    </tr>\n",
       "    <tr>\n",
       "      <th>IGIAirport_IMD</th>\n",
       "      <td>12</td>\n",
       "      <td>98</td>\n",
       "      <td>142</td>\n",
       "      <td>27</td>\n",
       "      <td>11.0</td>\n",
       "      <td>87.0</td>\n",
       "      <td>142.0</td>\n",
       "      <td>27.0</td>\n",
       "    </tr>\n",
       "    <tr>\n",
       "      <th>NSIT_CPCB</th>\n",
       "      <td>40</td>\n",
       "      <td>86</td>\n",
       "      <td>151</td>\n",
       "      <td>26</td>\n",
       "      <td>29.0</td>\n",
       "      <td>88.0</td>\n",
       "      <td>151.0</td>\n",
       "      <td>26.0</td>\n",
       "    </tr>\n",
       "    <tr>\n",
       "      <th>20CA</th>\n",
       "      <td>10</td>\n",
       "      <td>82</td>\n",
       "      <td>106</td>\n",
       "      <td>15</td>\n",
       "      <td>NaN</td>\n",
       "      <td>NaN</td>\n",
       "      <td>NaN</td>\n",
       "      <td>NaN</td>\n",
       "    </tr>\n",
       "    <tr>\n",
       "      <th>CBC7</th>\n",
       "      <td>2</td>\n",
       "      <td>81</td>\n",
       "      <td>120</td>\n",
       "      <td>25</td>\n",
       "      <td>NaN</td>\n",
       "      <td>NaN</td>\n",
       "      <td>NaN</td>\n",
       "      <td>NaN</td>\n",
       "    </tr>\n",
       "    <tr>\n",
       "      <th>LodhiRoad_IMD</th>\n",
       "      <td>14</td>\n",
       "      <td>81</td>\n",
       "      <td>116</td>\n",
       "      <td>26</td>\n",
       "      <td>12.0</td>\n",
       "      <td>105.0</td>\n",
       "      <td>116.0</td>\n",
       "      <td>26.0</td>\n",
       "    </tr>\n",
       "    <tr>\n",
       "      <th>AyaNagar_IMD</th>\n",
       "      <td>35</td>\n",
       "      <td>74</td>\n",
       "      <td>126</td>\n",
       "      <td>18</td>\n",
       "      <td>0.0</td>\n",
       "      <td>0.0</td>\n",
       "      <td>126.0</td>\n",
       "      <td>18.0</td>\n",
       "    </tr>\n",
       "    <tr>\n",
       "      <th>MDCNS_DPCC</th>\n",
       "      <td>18</td>\n",
       "      <td>65</td>\n",
       "      <td>162</td>\n",
       "      <td>33</td>\n",
       "      <td>12.0</td>\n",
       "      <td>88.0</td>\n",
       "      <td>162.0</td>\n",
       "      <td>33.0</td>\n",
       "    </tr>\n",
       "    <tr>\n",
       "      <th>VivekVihar_DPCC</th>\n",
       "      <td>138</td>\n",
       "      <td>62</td>\n",
       "      <td>228</td>\n",
       "      <td>64</td>\n",
       "      <td>126.0</td>\n",
       "      <td>63.0</td>\n",
       "      <td>228.0</td>\n",
       "      <td>64.0</td>\n",
       "    </tr>\n",
       "    <tr>\n",
       "      <th>Pusa_DPCC</th>\n",
       "      <td>19</td>\n",
       "      <td>52</td>\n",
       "      <td>185</td>\n",
       "      <td>40</td>\n",
       "      <td>10.0</td>\n",
       "      <td>75.0</td>\n",
       "      <td>185.0</td>\n",
       "      <td>40.0</td>\n",
       "    </tr>\n",
       "  </tbody>\n",
       "</table>\n",
       "</div>"
      ],
      "text/plain": [
       "                 spatial_high_com  spatial_low_com  temporal_high_com  \\\n",
       "Pusa_IMD                       15              104                137   \n",
       "IGIAirport_IMD                 12               98                142   \n",
       "NSIT_CPCB                      40               86                151   \n",
       "20CA                           10               82                106   \n",
       "CBC7                            2               81                120   \n",
       "LodhiRoad_IMD                  14               81                116   \n",
       "AyaNagar_IMD                   35               74                126   \n",
       "MDCNS_DPCC                     18               65                162   \n",
       "VivekVihar_DPCC               138               62                228   \n",
       "Pusa_DPCC                      19               52                185   \n",
       "\n",
       "                 temporal_low_com  spatial_high_gov  spatial_low_gov  \\\n",
       "Pusa_IMD                       19              12.0            124.0   \n",
       "IGIAirport_IMD                 27              11.0             87.0   \n",
       "NSIT_CPCB                      26              29.0             88.0   \n",
       "20CA                           15               NaN              NaN   \n",
       "CBC7                           25               NaN              NaN   \n",
       "LodhiRoad_IMD                  26              12.0            105.0   \n",
       "AyaNagar_IMD                   18               0.0              0.0   \n",
       "MDCNS_DPCC                     33              12.0             88.0   \n",
       "VivekVihar_DPCC                64             126.0             63.0   \n",
       "Pusa_DPCC                      40              10.0             75.0   \n",
       "\n",
       "                 temporal_high_gov  temporal_low_gov  \n",
       "Pusa_IMD                     137.0              19.0  \n",
       "IGIAirport_IMD               142.0              27.0  \n",
       "NSIT_CPCB                    151.0              26.0  \n",
       "20CA                           NaN               NaN  \n",
       "CBC7                           NaN               NaN  \n",
       "LodhiRoad_IMD                116.0              26.0  \n",
       "AyaNagar_IMD                 126.0              18.0  \n",
       "MDCNS_DPCC                   162.0              33.0  \n",
       "VivekVihar_DPCC              228.0              64.0  \n",
       "Pusa_DPCC                    185.0              40.0  "
      ]
     },
     "execution_count": 84,
     "metadata": {},
     "output_type": "execute_result"
    }
   ],
   "source": [
    "df_hotspots.sort_values(by=['spatial_low_com'], ascending=False)[:10]"
   ]
  },
  {
   "cell_type": "code",
   "execution_count": 113,
   "id": "e799c979",
   "metadata": {},
   "outputs": [],
   "source": [
    "# df_hotspots"
   ]
  },
  {
   "cell_type": "markdown",
   "id": "26e70ddf",
   "metadata": {},
   "source": [
    "# Inferences: Spatial Hotspots"
   ]
  },
  {
   "cell_type": "code",
   "execution_count": 116,
   "id": "d91e72da",
   "metadata": {},
   "outputs": [
    {
     "data": {
      "text/plain": [
       "<matplotlib.legend.Legend at 0x1534e5f07ac0>"
      ]
     },
     "execution_count": 116,
     "metadata": {},
     "output_type": "execute_result"
    },
    {
     "data": {
      "image/png": "[encoded data removed]",
      "text/plain": [
       "<Figure size 720x504 with 1 Axes>"
      ]
     },
     "metadata": {
      "needs_background": "light"
     },
     "output_type": "display_data"
    }
   ],
   "source": [
    "val_high = []\n",
    "val_low = []\n",
    "for i in range(len(shsp_high)):\n",
    "    hsp_loc = shsp_high[i][1]\n",
    "    hsp_time = shsp_high[i][0]\n",
    "    val = df.loc[hsp_time][hsp_loc]\n",
    "    val_high.append(val)\n",
    "for i in range(len(shsp_low)):\n",
    "    hsp_loc = shsp_low[i][1]\n",
    "    hsp_time = shsp_low[i][0]\n",
    "    val = df.loc[hsp_time][hsp_loc]\n",
    "    val_low.append(val)\n",
    "    \n",
    "high_vals = np.array(val_high)\n",
    "low_vals = np.array(val_low)\n",
    "    \n",
    "fig, ax = plt.subplots(figsize=(10,7))\n",
    "stats_high = plt.hist(high_vals, weights=np.ones(len(high_vals))/len(high_vals),\\\n",
    "            bins=range(int(min(high_vals)),int(max(high_vals)) + 10, 10),cumulative=False,alpha=0.5,label='high')\n",
    "stats_low = plt.hist(low_vals, weights=np.ones(len(low_vals))/len(low_vals),\\\n",
    "            bins=range(int(min(low_vals)),int(max(low_vals)) + 10, 10),cumulative=False,alpha=0.5,label='low')\n",
    "plt.title('Spatial High and Low Hotspot Distribution')\n",
    "plt.legend()"
   ]
  },
  {
   "cell_type": "code",
   "execution_count": 118,
   "id": "157bd18f",
   "metadata": {},
   "outputs": [
    {
     "data": {
      "text/plain": [
       "0.5737351991388617"
      ]
     },
     "execution_count": 118,
     "metadata": {},
     "output_type": "execute_result"
    }
   ],
   "source": [
    "roi_vals = (stats_low[1]+5)[stats_low[1]<200]\n",
    "(stats_low[0][:len(roi_vals)]).sum()"
   ]
  },
  {
   "cell_type": "code",
   "execution_count": 119,
   "id": "89792964",
   "metadata": {},
   "outputs": [],
   "source": [
    "low_pol_locs = list(df_hotspots.sort_values(by=['spatial_low_com'], ascending=False)[:10].index)"
   ]
  },
  {
   "cell_type": "code",
   "execution_count": 121,
   "id": "4dc742f7",
   "metadata": {},
   "outputs": [
    {
     "name": "stdout",
     "output_type": "stream",
     "text": [
      "Pusa_IMD 76.73656137724551 76.880506230685\n",
      "IGIAirport_IMD 79.72844107013738 77.93943823599132\n",
      "NSIT_CPCB 97.19454933847851 75.45529246374501\n",
      "20CA 91.38495092027787 91.35296978650194\n",
      "CBC7 95.16627540974565 85.99461803311101\n",
      "LodhiRoad_IMD 77.04841897810218 71.64463571079081\n",
      "AyaNagar_IMD 76.38852652825837 71.65565244237025\n",
      "MDCNS_DPCC 86.4155242825607 80.24701518578178\n",
      "VivekVihar_DPCC 101.47838988968022 103.59810767448408\n",
      "Pusa_DPCC 91.6592432264092 91.68556915868349\n"
     ]
    }
   ],
   "source": [
    "for location in low_pol_locs:\n",
    "    print(location, df[location].mean(), df[location].std())"
   ]
  },
  {
   "cell_type": "code",
   "execution_count": 124,
   "id": "0e9d645c",
   "metadata": {},
   "outputs": [
    {
     "name": "stdout",
     "output_type": "stream",
     "text": [
      "Pusa_IMD 157.8022950819672 97.64583878134017\n",
      "IGIAirport_IMD 226.13444444444443 95.2190403961742\n",
      "NSIT_CPCB 193.885 119.33549612631728\n",
      "20CA 192.89023727642268 117.6529004804177\n",
      "CBC7 201.20760192966074 120.56566342287974\n",
      "LodhiRoad_IMD 204.17603773584906 96.24148302656394\n",
      "AyaNagar_IMD 182.19927536231884 98.02875622997871\n",
      "MDCNS_DPCC 203.05423076923077 122.59925713227065\n",
      "VivekVihar_DPCC 84.46435483870968 81.60115720854493\n",
      "Pusa_DPCC 243.86133333333333 69.4056884110339\n"
     ]
    }
   ],
   "source": [
    "for location in low_pol_locs:\n",
    "    roi_hsp = shsp_low[shsp_low[:,1]==location]\n",
    "    vals = df.loc[roi_hsp[:,0]][location]\n",
    "    print(location, vals.mean(), vals.std())"
   ]
  },
  {
   "cell_type": "code",
   "execution_count": 125,
   "id": "bdc28719",
   "metadata": {},
   "outputs": [
    {
     "name": "stdout",
     "output_type": "stream",
     "text": [
      "AnandVihar_DPCC 536.8469718309859 164.42150470207858\n",
      "AshokVihar_DPCC 606.685 149.95205667615383\n",
      "Mundaka_DPCC 509.61614906832307 155.85636853390895\n",
      "NehruNagar_DPCC 507.20328638497654 163.45234593021945\n",
      "Wazirpur_DPCC 508.0963095238095 145.4052003886769\n",
      "Jahangirpuri_DPCC 491.5517391304348 152.61854557172205\n",
      "Rohini_DPCC 500.887476635514 134.20752359961932\n"
     ]
    }
   ],
   "source": [
    "for location in high_pol_locs:\n",
    "    roi_hsp = shsp_high[shsp_high[:,1]==location]\n",
    "    vals = df.loc[roi_hsp[:,0]][location]\n",
    "    print(location, vals.mean(), vals.std())"
   ]
  },
  {
   "cell_type": "code",
   "execution_count": 130,
   "id": "4948e00c",
   "metadata": {},
   "outputs": [
    {
     "data": {
      "text/plain": [
       "<matplotlib.legend.Legend at 0x1534ec66f580>"
      ]
     },
     "execution_count": 130,
     "metadata": {},
     "output_type": "execute_result"
    },
    {
     "data": {
      "image/png": "[encoded data removed]",
      "text/plain": [
       "<Figure size 720x504 with 1 Axes>"
      ]
     },
     "metadata": {
      "needs_background": "light"
     },
     "output_type": "display_data"
    }
   ],
   "source": [
    "time_high = []\n",
    "for i in range(len(shsp_high)):\n",
    "    time_high.append(shsp_high[i][0].time().hour)\n",
    "time_low = []\n",
    "for i in range(len(shsp_low)):\n",
    "    time_low.append(shsp_low[i][0].time().hour)\n",
    "fig, ax = plt.subplots(figsize=(10,7))\n",
    "stats_high = plt.hist(time_high, weights=np.ones(len(time_high))/len(time_high), \\\n",
    "                 bins=range(int(min(time_high)),int(max(time_high)) + 1, 1), cumulative=False,alpha=0.5,label='high')\n",
    "stats_low = plt.hist(time_low, weights=np.ones(len(time_low))/len(time_low), \\\n",
    "                 bins=range(int(min(time_low)),int(max(time_low)) + 1, 1), cumulative=False,alpha=0.5,label='low')\n",
    "plt.legend()"
   ]
  },
  {
   "cell_type": "markdown",
   "id": "509bfe71",
   "metadata": {},
   "source": [
    "# Duration for Temporal Hotspots"
   ]
  },
  {
   "cell_type": "code",
   "execution_count": 128,
   "id": "16d2e862",
   "metadata": {},
   "outputs": [
    {
     "name": "stderr",
     "output_type": "stream",
     "text": [
      "/state/partition1/job-18572487/ipykernel_2218890/1640478924.py:4: VisibleDeprecationWarning: Creating an ndarray from ragged nested sequences (which is a list-or-tuple of lists-or-tuples-or ndarrays with different lengths or shapes) is deprecated. If you meant to do this, you must specify 'dtype=object' when creating the ndarray.\n",
      "  high_time_wins = np.array(high_hsps)[:,2]\n",
      "/state/partition1/job-18572487/ipykernel_2218890/1640478924.py:7: VisibleDeprecationWarning: Creating an ndarray from ragged nested sequences (which is a list-or-tuple of lists-or-tuples-or ndarrays with different lengths or shapes) is deprecated. If you meant to do this, you must specify 'dtype=object' when creating the ndarray.\n",
      "  low_time_wins = np.array(low_hsps)[:,2]\n"
     ]
    },
    {
     "data": {
      "image/png": "[encoded data removed]",
      "text/plain": [
       "<Figure size 720x504 with 1 Axes>"
      ]
     },
     "metadata": {
      "needs_background": "light"
     },
     "output_type": "display_data"
    },
    {
     "data": {
      "image/png": "[encoded data removed]",
      "text/plain": [
       "<Figure size 720x504 with 1 Axes>"
      ]
     },
     "metadata": {
      "needs_background": "light"
     },
     "output_type": "display_data"
    },
    {
     "data": {
      "image/png": "[encoded data removed]",
      "text/plain": [
       "<Figure size 720x504 with 1 Axes>"
      ]
     },
     "metadata": {
      "needs_background": "light"
     },
     "output_type": "display_data"
    },
    {
     "data": {
      "image/png": "[encoded data removed]",
      "text/plain": [
       "<Figure size 720x504 with 1 Axes>"
      ]
     },
     "metadata": {
      "needs_background": "light"
     },
     "output_type": "display_data"
    },
    {
     "data": {
      "image/png": "[encoded data removed]",
      "text/plain": [
       "<Figure size 720x504 with 1 Axes>"
      ]
     },
     "metadata": {
      "needs_background": "light"
     },
     "output_type": "display_data"
    },
    {
     "data": {
      "image/png": "[encoded data removed]",
      "text/plain": [
       "<Figure size 720x504 with 1 Axes>"
      ]
     },
     "metadata": {
      "needs_background": "light"
     },
     "output_type": "display_data"
    },
    {
     "data": {
      "image/png": "[encoded data removed]",
      "text/plain": [
       "<Figure size 720x504 with 1 Axes>"
      ]
     },
     "metadata": {
      "needs_background": "light"
     },
     "output_type": "display_data"
    },
    {
     "data": {
      "image/png": "[encoded data removed]",
      "text/plain": [
       "<Figure size 720x504 with 1 Axes>"
      ]
     },
     "metadata": {
      "needs_background": "light"
     },
     "output_type": "display_data"
    }
   ],
   "source": [
    "for location in list(time_interest_locs):\n",
    "    high_hsps = thsp_high[location]\n",
    "    low_hsps = thsp_low[location]\n",
    "    high_time_wins = np.array(high_hsps)[:,2]\n",
    "    f = lambda x: len(x)\n",
    "    high_ints = np.array([f(xi) for xi in high_time_wins])\n",
    "    low_time_wins = np.array(low_hsps)[:,2]\n",
    "    low_ints = np.array([f(xi) for xi in low_time_wins])\n",
    "    fig, ax = plt.subplots(figsize=(10,7))\n",
    "    stats_high = plt.hist(high_ints, weights=np.ones(len(high_ints))/len(high_ints),\\\n",
    "                bins=range(int(min(high_ints)),int(max(high_ints)) + 1, 1),cumulative=False,alpha=0.5,label='high')\n",
    "    stats_low = plt.hist(low_ints, weights=np.ones(len(low_ints))/len(low_ints),\\\n",
    "                bins=range(int(min(low_ints)),int(max(low_ints)) + 1, 1),cumulative=False,alpha=0.5,label='low')\n",
    "    plt.title(location)\n",
    "    plt.legend()"
   ]
  },
  {
   "cell_type": "markdown",
   "id": "61f39bea",
   "metadata": {},
   "source": [
    "# Radius of Spatial Hotspots"
   ]
  },
  {
   "cell_type": "code",
   "execution_count": 132,
   "id": "e5113e62",
   "metadata": {},
   "outputs": [],
   "source": [
    "# nn_dict = {}\n",
    "# for col in df.columns:\n",
    "#     dist_df = distances.loc[col].sort_values().dropna()\n",
    "#     nn_dict[col] = dist_df"
   ]
  },
  {
   "cell_type": "code",
   "execution_count": 136,
   "id": "c3e4ac28",
   "metadata": {},
   "outputs": [
    {
     "data": {
      "image/png": "[encoded data removed]",
      "text/plain": [
       "<Figure size 720x504 with 1 Axes>"
      ]
     },
     "metadata": {
      "needs_background": "light"
     },
     "output_type": "display_data"
    },
    {
     "data": {
      "image/png": "[encoded data removed]",
      "text/plain": [
       "<Figure size 720x504 with 1 Axes>"
      ]
     },
     "metadata": {
      "needs_background": "light"
     },
     "output_type": "display_data"
    },
    {
     "data": {
      "image/png": "[encoded data removed]",
      "text/plain": [
       "<Figure size 720x504 with 1 Axes>"
      ]
     },
     "metadata": {
      "needs_background": "light"
     },
     "output_type": "display_data"
    },
    {
     "data": {
      "image/png": "[encoded data removed]",
      "text/plain": [
       "<Figure size 720x504 with 1 Axes>"
      ]
     },
     "metadata": {
      "needs_background": "light"
     },
     "output_type": "display_data"
    },
    {
     "data": {
      "image/png": "[encoded data removed]",
      "text/plain": [
       "<Figure size 720x504 with 1 Axes>"
      ]
     },
     "metadata": {
      "needs_background": "light"
     },
     "output_type": "display_data"
    },
    {
     "data": {
      "image/png": "[encoded data removed]",
      "text/plain": [
       "<Figure size 720x504 with 1 Axes>"
      ]
     },
     "metadata": {
      "needs_background": "light"
     },
     "output_type": "display_data"
    },
    {
     "data": {
      "image/png": "[encoded data removed]",
      "text/plain": [
       "<Figure size 720x504 with 1 Axes>"
      ]
     },
     "metadata": {
      "needs_background": "light"
     },
     "output_type": "display_data"
    }
   ],
   "source": [
    "for location in high_pol_locs:\n",
    "    roi_hsp = shsp_high[shsp_high[:,1]==location]\n",
    "    dist = []\n",
    "    for hsp in roi_hsp:\n",
    "        time = hsp[0]\n",
    "        cen = hsp[1]\n",
    "        d = 0\n",
    "        for stn in hsp[2]:\n",
    "            if(df.loc[time][cen]-df.loc[time][stn]<50):\n",
    "                d = max(d,distances.loc[cen][stn])\n",
    "        dist.append(d)\n",
    "    fig, ax = plt.subplots(figsize=(10,7))\n",
    "    stats_high = plt.hist(dist, weights=np.ones(len(dist))/len(dist),\\\n",
    "                bins=range(int(min(dist)),int(max(dist)) + 1, 500),cumulative=False,alpha=1,label='high')\n",
    "    plt.title(location)"
   ]
  },
  {
   "cell_type": "code",
   "execution_count": 137,
   "id": "5ddb4562",
   "metadata": {},
   "outputs": [
    {
     "data": {
      "image/png": "[encoded data removed]",
      "text/plain": [
       "<Figure size 720x504 with 1 Axes>"
      ]
     },
     "metadata": {
      "needs_background": "light"
     },
     "output_type": "display_data"
    },
    {
     "data": {
      "image/png": "[encoded data removed]",
      "text/plain": [
       "<Figure size 720x504 with 1 Axes>"
      ]
     },
     "metadata": {
      "needs_background": "light"
     },
     "output_type": "display_data"
    },
    {
     "data": {
      "image/png": "[encoded data removed]",
      "text/plain": [
       "<Figure size 720x504 with 1 Axes>"
      ]
     },
     "metadata": {
      "needs_background": "light"
     },
     "output_type": "display_data"
    },
    {
     "data": {
      "image/png": "[encoded data removed]",
      "text/plain": [
       "<Figure size 720x504 with 1 Axes>"
      ]
     },
     "metadata": {
      "needs_background": "light"
     },
     "output_type": "display_data"
    },
    {
     "data": {
      "image/png": "[encoded data removed]",
      "text/plain": [
       "<Figure size 720x504 with 1 Axes>"
      ]
     },
     "metadata": {
      "needs_background": "light"
     },
     "output_type": "display_data"
    },
    {
     "data": {
      "image/png": "[encoded data removed]",
      "text/plain": [
       "<Figure size 720x504 with 1 Axes>"
      ]
     },
     "metadata": {
      "needs_background": "light"
     },
     "output_type": "display_data"
    },
    {
     "data": {
      "image/png": "[encoded data removed]",
      "text/plain": [
       "<Figure size 720x504 with 1 Axes>"
      ]
     },
     "metadata": {
      "needs_background": "light"
     },
     "output_type": "display_data"
    },
    {
     "data": {
      "image/png": "[encoded data removed]",
      "text/plain": [
       "<Figure size 720x504 with 1 Axes>"
      ]
     },
     "metadata": {
      "needs_background": "light"
     },
     "output_type": "display_data"
    },
    {
     "data": {
      "image/png": "[encoded data removed]",
      "text/plain": [
       "<Figure size 720x504 with 1 Axes>"
      ]
     },
     "metadata": {
      "needs_background": "light"
     },
     "output_type": "display_data"
    },
    {
     "data": {
      "image/png": "[encoded data removed]",
      "text/plain": [
       "<Figure size 720x504 with 1 Axes>"
      ]
     },
     "metadata": {
      "needs_background": "light"
     },
     "output_type": "display_data"
    }
   ],
   "source": [
    "for location in low_pol_locs:\n",
    "    roi_hsp = shsp_low[shsp_low[:,1]==location]\n",
    "    dist = []\n",
    "    for hsp in roi_hsp:\n",
    "        time = hsp[0]\n",
    "        cen = hsp[1]\n",
    "        d = 0\n",
    "        for stn in hsp[2]:\n",
    "            if(df.loc[time][stn]-df.loc[time][cen]<50):\n",
    "                d = max(d,distances.loc[cen][stn])\n",
    "        dist.append(d)\n",
    "    fig, ax = plt.subplots(figsize=(10,7))\n",
    "    stats_high = plt.hist(dist, weights=np.ones(len(dist))/len(dist),\\\n",
    "                bins=range(int(min(dist)),int(max(dist)) + 1, 500),cumulative=False,alpha=1,label='high')\n",
    "    plt.title(location)"
   ]
  },
  {
   "cell_type": "code",
   "execution_count": 25,
   "id": "10571721",
   "metadata": {},
   "outputs": [
    {
     "data": {
      "text/html": [
       "<div>\n",
       "<style scoped>\n",
       "    .dataframe tbody tr th:only-of-type {\n",
       "        vertical-align: middle;\n",
       "    }\n",
       "\n",
       "    .dataframe tbody tr th {\n",
       "        vertical-align: top;\n",
       "    }\n",
       "\n",
       "    .dataframe thead th {\n",
       "        text-align: right;\n",
       "    }\n",
       "</style>\n",
       "<table border=\"1\" class=\"dataframe\">\n",
       "  <thead>\n",
       "    <tr style=\"text-align: right;\">\n",
       "      <th></th>\n",
       "      <th>spatial_high</th>\n",
       "      <th>spatial_low</th>\n",
       "      <th>temporal_high</th>\n",
       "      <th>temporal_low</th>\n",
       "    </tr>\n",
       "  </thead>\n",
       "  <tbody>\n",
       "    <tr>\n",
       "      <th>113E</th>\n",
       "      <td>44</td>\n",
       "      <td>17</td>\n",
       "      <td>138</td>\n",
       "      <td>45</td>\n",
       "    </tr>\n",
       "    <tr>\n",
       "      <th>1FD7</th>\n",
       "      <td>1</td>\n",
       "      <td>41</td>\n",
       "      <td>32</td>\n",
       "      <td>9</td>\n",
       "    </tr>\n",
       "    <tr>\n",
       "      <th>20CA</th>\n",
       "      <td>10</td>\n",
       "      <td>82</td>\n",
       "      <td>106</td>\n",
       "      <td>15</td>\n",
       "    </tr>\n",
       "    <tr>\n",
       "      <th>2E9C</th>\n",
       "      <td>10</td>\n",
       "      <td>7</td>\n",
       "      <td>12</td>\n",
       "      <td>3</td>\n",
       "    </tr>\n",
       "    <tr>\n",
       "      <th>3ACF</th>\n",
       "      <td>0</td>\n",
       "      <td>0</td>\n",
       "      <td>1</td>\n",
       "      <td>0</td>\n",
       "    </tr>\n",
       "    <tr>\n",
       "      <th>498F</th>\n",
       "      <td>0</td>\n",
       "      <td>0</td>\n",
       "      <td>0</td>\n",
       "      <td>0</td>\n",
       "    </tr>\n",
       "    <tr>\n",
       "      <th>4BE7</th>\n",
       "      <td>70</td>\n",
       "      <td>9</td>\n",
       "      <td>63</td>\n",
       "      <td>128</td>\n",
       "    </tr>\n",
       "    <tr>\n",
       "      <th>56C3</th>\n",
       "      <td>2</td>\n",
       "      <td>14</td>\n",
       "      <td>93</td>\n",
       "      <td>25</td>\n",
       "    </tr>\n",
       "    <tr>\n",
       "      <th>5D7A</th>\n",
       "      <td>0</td>\n",
       "      <td>2</td>\n",
       "      <td>2</td>\n",
       "      <td>0</td>\n",
       "    </tr>\n",
       "    <tr>\n",
       "      <th>603A</th>\n",
       "      <td>17</td>\n",
       "      <td>20</td>\n",
       "      <td>72</td>\n",
       "      <td>8</td>\n",
       "    </tr>\n",
       "    <tr>\n",
       "      <th>72CA</th>\n",
       "      <td>26</td>\n",
       "      <td>16</td>\n",
       "      <td>153</td>\n",
       "      <td>62</td>\n",
       "    </tr>\n",
       "    <tr>\n",
       "      <th>8E2A</th>\n",
       "      <td>88</td>\n",
       "      <td>27</td>\n",
       "      <td>117</td>\n",
       "      <td>34</td>\n",
       "    </tr>\n",
       "    <tr>\n",
       "      <th>91B8</th>\n",
       "      <td>32</td>\n",
       "      <td>1</td>\n",
       "      <td>32</td>\n",
       "      <td>26</td>\n",
       "    </tr>\n",
       "    <tr>\n",
       "      <th>97D7</th>\n",
       "      <td>0</td>\n",
       "      <td>33</td>\n",
       "      <td>63</td>\n",
       "      <td>7</td>\n",
       "    </tr>\n",
       "    <tr>\n",
       "      <th>A838</th>\n",
       "      <td>41</td>\n",
       "      <td>4</td>\n",
       "      <td>65</td>\n",
       "      <td>45</td>\n",
       "    </tr>\n",
       "    <tr>\n",
       "      <th>A9BE</th>\n",
       "      <td>24</td>\n",
       "      <td>45</td>\n",
       "      <td>197</td>\n",
       "      <td>32</td>\n",
       "    </tr>\n",
       "    <tr>\n",
       "      <th>AnandVihar_DPCC</th>\n",
       "      <td>185</td>\n",
       "      <td>3</td>\n",
       "      <td>253</td>\n",
       "      <td>73</td>\n",
       "    </tr>\n",
       "    <tr>\n",
       "      <th>AshokVihar_DPCC</th>\n",
       "      <td>163</td>\n",
       "      <td>44</td>\n",
       "      <td>255</td>\n",
       "      <td>75</td>\n",
       "    </tr>\n",
       "    <tr>\n",
       "      <th>AyaNagar_IMD</th>\n",
       "      <td>32</td>\n",
       "      <td>74</td>\n",
       "      <td>126</td>\n",
       "      <td>18</td>\n",
       "    </tr>\n",
       "    <tr>\n",
       "      <th>BB4A</th>\n",
       "      <td>0</td>\n",
       "      <td>9</td>\n",
       "      <td>64</td>\n",
       "      <td>10</td>\n",
       "    </tr>\n",
       "    <tr>\n",
       "      <th>BC46</th>\n",
       "      <td>43</td>\n",
       "      <td>15</td>\n",
       "      <td>114</td>\n",
       "      <td>48</td>\n",
       "    </tr>\n",
       "    <tr>\n",
       "      <th>BFDC</th>\n",
       "      <td>0</td>\n",
       "      <td>4</td>\n",
       "      <td>4</td>\n",
       "      <td>0</td>\n",
       "    </tr>\n",
       "    <tr>\n",
       "      <th>BurariCrossing_IMD</th>\n",
       "      <td>104</td>\n",
       "      <td>6</td>\n",
       "      <td>133</td>\n",
       "      <td>26</td>\n",
       "    </tr>\n",
       "    <tr>\n",
       "      <th>C0A7</th>\n",
       "      <td>10</td>\n",
       "      <td>15</td>\n",
       "      <td>135</td>\n",
       "      <td>31</td>\n",
       "    </tr>\n",
       "    <tr>\n",
       "      <th>CBC7</th>\n",
       "      <td>2</td>\n",
       "      <td>81</td>\n",
       "      <td>120</td>\n",
       "      <td>25</td>\n",
       "    </tr>\n",
       "    <tr>\n",
       "      <th>CRRIMathuraRoad_IMD</th>\n",
       "      <td>57</td>\n",
       "      <td>6</td>\n",
       "      <td>209</td>\n",
       "      <td>53</td>\n",
       "    </tr>\n",
       "    <tr>\n",
       "      <th>D804</th>\n",
       "      <td>13</td>\n",
       "      <td>34</td>\n",
       "      <td>83</td>\n",
       "      <td>18</td>\n",
       "    </tr>\n",
       "    <tr>\n",
       "      <th>DF07</th>\n",
       "      <td>0</td>\n",
       "      <td>13</td>\n",
       "      <td>61</td>\n",
       "      <td>7</td>\n",
       "    </tr>\n",
       "    <tr>\n",
       "      <th>DKSSR_DPCC</th>\n",
       "      <td>10</td>\n",
       "      <td>27</td>\n",
       "      <td>168</td>\n",
       "      <td>44</td>\n",
       "    </tr>\n",
       "    <tr>\n",
       "      <th>DTU_CPCB</th>\n",
       "      <td>67</td>\n",
       "      <td>14</td>\n",
       "      <td>259</td>\n",
       "      <td>72</td>\n",
       "    </tr>\n",
       "    <tr>\n",
       "      <th>DwarkaSector8_DPCC</th>\n",
       "      <td>30</td>\n",
       "      <td>51</td>\n",
       "      <td>218</td>\n",
       "      <td>53</td>\n",
       "    </tr>\n",
       "    <tr>\n",
       "      <th>E1F8</th>\n",
       "      <td>0</td>\n",
       "      <td>14</td>\n",
       "      <td>74</td>\n",
       "      <td>12</td>\n",
       "    </tr>\n",
       "    <tr>\n",
       "      <th>E47A</th>\n",
       "      <td>0</td>\n",
       "      <td>6</td>\n",
       "      <td>0</td>\n",
       "      <td>0</td>\n",
       "    </tr>\n",
       "    <tr>\n",
       "      <th>E486</th>\n",
       "      <td>8</td>\n",
       "      <td>41</td>\n",
       "      <td>184</td>\n",
       "      <td>38</td>\n",
       "    </tr>\n",
       "    <tr>\n",
       "      <th>E8E4</th>\n",
       "      <td>42</td>\n",
       "      <td>0</td>\n",
       "      <td>41</td>\n",
       "      <td>45</td>\n",
       "    </tr>\n",
       "    <tr>\n",
       "      <th>EAC8</th>\n",
       "      <td>11</td>\n",
       "      <td>29</td>\n",
       "      <td>169</td>\n",
       "      <td>32</td>\n",
       "    </tr>\n",
       "    <tr>\n",
       "      <th>IGIAirport_IMD</th>\n",
       "      <td>12</td>\n",
       "      <td>98</td>\n",
       "      <td>142</td>\n",
       "      <td>27</td>\n",
       "    </tr>\n",
       "    <tr>\n",
       "      <th>IHBAS_CPCB</th>\n",
       "      <td>85</td>\n",
       "      <td>49</td>\n",
       "      <td>176</td>\n",
       "      <td>34</td>\n",
       "    </tr>\n",
       "    <tr>\n",
       "      <th>ITO_CPCB</th>\n",
       "      <td>78</td>\n",
       "      <td>26</td>\n",
       "      <td>221</td>\n",
       "      <td>48</td>\n",
       "    </tr>\n",
       "    <tr>\n",
       "      <th>JNS_DPCC</th>\n",
       "      <td>23</td>\n",
       "      <td>3</td>\n",
       "      <td>213</td>\n",
       "      <td>64</td>\n",
       "    </tr>\n",
       "    <tr>\n",
       "      <th>Jahangirpuri_DPCC</th>\n",
       "      <td>208</td>\n",
       "      <td>5</td>\n",
       "      <td>303</td>\n",
       "      <td>89</td>\n",
       "    </tr>\n",
       "    <tr>\n",
       "      <th>LodhiRoad_IMD</th>\n",
       "      <td>13</td>\n",
       "      <td>81</td>\n",
       "      <td>116</td>\n",
       "      <td>26</td>\n",
       "    </tr>\n",
       "    <tr>\n",
       "      <th>MDCNS_DPCC</th>\n",
       "      <td>18</td>\n",
       "      <td>65</td>\n",
       "      <td>162</td>\n",
       "      <td>33</td>\n",
       "    </tr>\n",
       "    <tr>\n",
       "      <th>MandirMarg_DPCC</th>\n",
       "      <td>8</td>\n",
       "      <td>35</td>\n",
       "      <td>183</td>\n",
       "      <td>47</td>\n",
       "    </tr>\n",
       "    <tr>\n",
       "      <th>Mundaka_DPCC</th>\n",
       "      <td>196</td>\n",
       "      <td>10</td>\n",
       "      <td>283</td>\n",
       "      <td>73</td>\n",
       "    </tr>\n",
       "    <tr>\n",
       "      <th>NSIT_CPCB</th>\n",
       "      <td>40</td>\n",
       "      <td>86</td>\n",
       "      <td>151</td>\n",
       "      <td>26</td>\n",
       "    </tr>\n",
       "    <tr>\n",
       "      <th>NehruNagar_DPCC</th>\n",
       "      <td>236</td>\n",
       "      <td>0</td>\n",
       "      <td>312</td>\n",
       "      <td>86</td>\n",
       "    </tr>\n",
       "    <tr>\n",
       "      <th>OkhlaPhase2_DPCC</th>\n",
       "      <td>28</td>\n",
       "      <td>0</td>\n",
       "      <td>195</td>\n",
       "      <td>57</td>\n",
       "    </tr>\n",
       "    <tr>\n",
       "      <th>Patparganj_DPCC</th>\n",
       "      <td>9</td>\n",
       "      <td>3</td>\n",
       "      <td>196</td>\n",
       "      <td>55</td>\n",
       "    </tr>\n",
       "    <tr>\n",
       "      <th>PunjabiBagh_DPCC</th>\n",
       "      <td>126</td>\n",
       "      <td>9</td>\n",
       "      <td>255</td>\n",
       "      <td>57</td>\n",
       "    </tr>\n",
       "    <tr>\n",
       "      <th>Pusa_DPCC</th>\n",
       "      <td>19</td>\n",
       "      <td>52</td>\n",
       "      <td>185</td>\n",
       "      <td>40</td>\n",
       "    </tr>\n",
       "    <tr>\n",
       "      <th>Pusa_IMD</th>\n",
       "      <td>15</td>\n",
       "      <td>104</td>\n",
       "      <td>137</td>\n",
       "      <td>19</td>\n",
       "    </tr>\n",
       "    <tr>\n",
       "      <th>RKPuram_DPCC</th>\n",
       "      <td>37</td>\n",
       "      <td>7</td>\n",
       "      <td>208</td>\n",
       "      <td>48</td>\n",
       "    </tr>\n",
       "    <tr>\n",
       "      <th>Rohini_DPCC</th>\n",
       "      <td>210</td>\n",
       "      <td>1</td>\n",
       "      <td>306</td>\n",
       "      <td>95</td>\n",
       "    </tr>\n",
       "    <tr>\n",
       "      <th>Shadipur_CPCB</th>\n",
       "      <td>100</td>\n",
       "      <td>38</td>\n",
       "      <td>245</td>\n",
       "      <td>46</td>\n",
       "    </tr>\n",
       "    <tr>\n",
       "      <th>Sirifort_CPCB</th>\n",
       "      <td>29</td>\n",
       "      <td>21</td>\n",
       "      <td>178</td>\n",
       "      <td>45</td>\n",
       "    </tr>\n",
       "    <tr>\n",
       "      <th>SoniaVihar_DPCC</th>\n",
       "      <td>62</td>\n",
       "      <td>26</td>\n",
       "      <td>246</td>\n",
       "      <td>63</td>\n",
       "    </tr>\n",
       "    <tr>\n",
       "      <th>SriAurobindoMarg_DPCC</th>\n",
       "      <td>13</td>\n",
       "      <td>36</td>\n",
       "      <td>146</td>\n",
       "      <td>43</td>\n",
       "    </tr>\n",
       "    <tr>\n",
       "      <th>VivekVihar_DPCC</th>\n",
       "      <td>138</td>\n",
       "      <td>62</td>\n",
       "      <td>228</td>\n",
       "      <td>64</td>\n",
       "    </tr>\n",
       "    <tr>\n",
       "      <th>Wazirpur_DPCC</th>\n",
       "      <td>286</td>\n",
       "      <td>7</td>\n",
       "      <td>303</td>\n",
       "      <td>90</td>\n",
       "    </tr>\n",
       "  </tbody>\n",
       "</table>\n",
       "</div>"
      ],
      "text/plain": [
       "                       spatial_high  spatial_low  temporal_high  temporal_low\n",
       "113E                             44           17            138            45\n",
       "1FD7                              1           41             32             9\n",
       "20CA                             10           82            106            15\n",
       "2E9C                             10            7             12             3\n",
       "3ACF                              0            0              1             0\n",
       "498F                              0            0              0             0\n",
       "4BE7                             70            9             63           128\n",
       "56C3                              2           14             93            25\n",
       "5D7A                              0            2              2             0\n",
       "603A                             17           20             72             8\n",
       "72CA                             26           16            153            62\n",
       "8E2A                             88           27            117            34\n",
       "91B8                             32            1             32            26\n",
       "97D7                              0           33             63             7\n",
       "A838                             41            4             65            45\n",
       "A9BE                             24           45            197            32\n",
       "AnandVihar_DPCC                 185            3            253            73\n",
       "AshokVihar_DPCC                 163           44            255            75\n",
       "AyaNagar_IMD                     32           74            126            18\n",
       "BB4A                              0            9             64            10\n",
       "BC46                             43           15            114            48\n",
       "BFDC                              0            4              4             0\n",
       "BurariCrossing_IMD              104            6            133            26\n",
       "C0A7                             10           15            135            31\n",
       "CBC7                              2           81            120            25\n",
       "CRRIMathuraRoad_IMD              57            6            209            53\n",
       "D804                             13           34             83            18\n",
       "DF07                              0           13             61             7\n",
       "DKSSR_DPCC                       10           27            168            44\n",
       "DTU_CPCB                         67           14            259            72\n",
       "DwarkaSector8_DPCC               30           51            218            53\n",
       "E1F8                              0           14             74            12\n",
       "E47A                              0            6              0             0\n",
       "E486                              8           41            184            38\n",
       "E8E4                             42            0             41            45\n",
       "EAC8                             11           29            169            32\n",
       "IGIAirport_IMD                   12           98            142            27\n",
       "IHBAS_CPCB                       85           49            176            34\n",
       "ITO_CPCB                         78           26            221            48\n",
       "JNS_DPCC                         23            3            213            64\n",
       "Jahangirpuri_DPCC               208            5            303            89\n",
       "LodhiRoad_IMD                    13           81            116            26\n",
       "MDCNS_DPCC                       18           65            162            33\n",
       "MandirMarg_DPCC                   8           35            183            47\n",
       "Mundaka_DPCC                    196           10            283            73\n",
       "NSIT_CPCB                        40           86            151            26\n",
       "NehruNagar_DPCC                 236            0            312            86\n",
       "OkhlaPhase2_DPCC                 28            0            195            57\n",
       "Patparganj_DPCC                   9            3            196            55\n",
       "PunjabiBagh_DPCC                126            9            255            57\n",
       "Pusa_DPCC                        19           52            185            40\n",
       "Pusa_IMD                         15          104            137            19\n",
       "RKPuram_DPCC                     37            7            208            48\n",
       "Rohini_DPCC                     210            1            306            95\n",
       "Shadipur_CPCB                   100           38            245            46\n",
       "Sirifort_CPCB                    29           21            178            45\n",
       "SoniaVihar_DPCC                  62           26            246            63\n",
       "SriAurobindoMarg_DPCC            13           36            146            43\n",
       "VivekVihar_DPCC                 138           62            228            64\n",
       "Wazirpur_DPCC                   286            7            303            90"
      ]
     },
     "execution_count": 25,
     "metadata": {},
     "output_type": "execute_result"
    }
   ],
   "source": [
    "df_counts"
   ]
  },
  {
   "cell_type": "code",
   "execution_count": null,
   "id": "2dbb6239",
   "metadata": {},
   "outputs": [],
   "source": []
  }
 ],
 "metadata": {
  "kernelspec": {
   "display_name": "Python 3 (ipykernel)",
   "language": "python",
   "name": "python3"
  },
  "language_info": {
   "codemirror_mode": {
    "name": "ipython",
    "version": 3
   },
   "file_extension": ".py",
   "mimetype": "text/x-python",
   "name": "python",
   "nbconvert_exporter": "python",
   "pygments_lexer": "ipython3",
   "version": "3.10.4"
  }
 },
 "nbformat": 4,
 "nbformat_minor": 5
}
