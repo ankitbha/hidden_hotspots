{
 "cells": [
  {
   "cell_type": "code",
   "execution_count": 21,
   "metadata": {},
   "outputs": [],
   "source": [
    "from glob import glob\n",
    "from configs import *"
   ]
  },
  {
   "cell_type": "code",
   "execution_count": 33,
   "metadata": {},
   "outputs": [
    {
     "name": "stdout",
     "output_type": "stream",
     "text": [
      "25\n"
     ]
    }
   ],
   "source": [
    "outputs = glob('outputs/*.txt')\n",
    "print(len(outputs))"
   ]
  },
  {
   "cell_type": "code",
   "execution_count": 34,
   "metadata": {},
   "outputs": [
    {
     "name": "stdout",
     "output_type": "stream",
     "text": [
      "seg_0 9\n",
      "seg_2 9\n",
      "seg_1 7\n",
      "{'MSE_TEST': 93.473, 'MAPE': 36.123, 'MSE_TRAIN': 4.379, 'MSE_AVG': 194.727}\n"
     ]
    }
   ],
   "source": [
    "segnames = ['seg_0', 'seg_1', 'seg_2']\n",
    "bysegment = {}\n",
    "for name in segnames: bysegment[name] = []\n",
    "for name in segnames:\n",
    "    for fname in sorted(outputs):\n",
    "        if name in fname:\n",
    "            with open(fname) as fl:\n",
    "                raw = fl.read()\n",
    "                parts = raw.split('\\n')[:-1]\n",
    "                kvs = [ent.split(':') for ent in parts]\n",
    "                record = {}\n",
    "                for key, val in kvs:\n",
    "                    record[key] = float(val)\n",
    "                bysegment[name].append(record)\n",
    "            \n",
    "for segname, files in bysegment.items():\n",
    "    print(segname, len(files))\n",
    "print(files[0])"
   ]
  },
  {
   "cell_type": "code",
   "execution_count": 30,
   "metadata": {},
   "outputs": [
    {
     "name": "stdout",
     "output_type": "stream",
     "text": [
      "Metric\t\"U.S. Embassy\"\t\"Senjuti Banerjee\"\t\"Roy Imaging\"\t\"Vihara\"\t\"Sujoy Home\"\t\"Prateek Mittal\"\t\"Nischal\"\t\"Lejo\"\t\"NIta\"\n",
      "MSE_TEST\t289.138\t303.858\t6757.803\t242.344\t180.963\t316.580\t5467.635\t1869.058\t0.000\n",
      "MSE_AVG\t545.111\t344.491\t6756.511\t397.973\t298.259\t274.640\t2644.182\t1799.462\t3101.593\n",
      "MAPE\t55.938\t23.165\tinf\t23.818\t28.031\t56.611\t50.306\t69.889\t0.302\n"
     ]
    }
   ],
   "source": [
    "print('\\t'.join(['Metric'] + ['\"%s\"' % name[0] for name in SEGMENTS[2]['locations']]))\n",
    "for field in ['MSE_TEST', 'MSE_AVG', 'MAPE']:\n",
    "    values = []\n",
    "    for entry in bysegment['seg_2']:\n",
    "        values.append('%.3f' % entry[field])\n",
    "    print('\\t'.join([field] + values))"
   ]
  },
  {
   "cell_type": "code",
   "execution_count": 32,
   "metadata": {},
   "outputs": [
    {
     "name": "stdout",
     "output_type": "stream",
     "text": [
      "Metric\t\"Kailas Office\"\t\"Parvathi\"\t\"U.S. Embassy\"\t\"Shubhra Mittal\"\t\"Smart air\"\t\"Lejo\"\t\"NIta\"\n",
      "MSE_TEST\t93.473\t107.077\t617.810\t371.706\t2356.022\t864.946\t119.376\n",
      "MSE_AVG\t194.727\t140.236\t307.888\t306.271\t447.347\t867.036\t278.700\n",
      "MAPE\t36.123\t18.662\t38.639\t19.603\t99.824\t52.037\t27.993\n"
     ]
    }
   ],
   "source": [
    "print('\\t'.join(['Metric'] + ['\"%s\"' % name[0] for name in SEGMENTS[1]['locations']]))\n",
    "for field in ['MSE_TEST', 'MSE_AVG', 'MAPE']:\n",
    "    values = []\n",
    "    for entry in bysegment['seg_1']:\n",
    "        values.append('%.3f' % entry[field])\n",
    "    print('\\t'.join([field] + values))"
   ]
  },
  {
   "cell_type": "code",
   "execution_count": 35,
   "metadata": {},
   "outputs": [
    {
     "name": "stdout",
     "output_type": "stream",
     "text": [
      "Metric\t\"Priti Sood Sayeed\"\t\"Arun Duggal\"\t\"U.S. Embassy\"\t\"Segel Design\"\t\"Jamun\"\t\"Vihara\"\t\"Prateek Mittal\"\t\"Nischal\"\t\"NIta\"\n",
      "MSE_TEST\t724.865\t236.643\t291.168\t3968.642\t226.132\t625.312\t167.224\t1057.960\t473.574\n",
      "MSE_AVG\t404.034\t255.397\t202.398\t607.695\t246.106\t430.325\t111.841\t404.066\t1010.223\n",
      "MAPE\t22.977\t16.429\t17.696\t59.572\t15.007\t20.792\t12.528\t34.763\t29.941\n"
     ]
    }
   ],
   "source": [
    "print('\\t'.join(['Metric'] + ['\"%s\"' % name[0] for name in SEGMENTS[0]['locations']]))\n",
    "for field in ['MSE_TEST', 'MSE_AVG', 'MAPE']:\n",
    "    values = []\n",
    "    for entry in bysegment['seg_0']:\n",
    "        values.append('%.3f' % entry[field])\n",
    "    print('\\t'.join([field] + values))"
   ]
  },
  {
   "cell_type": "code",
   "execution_count": null,
   "metadata": {},
   "outputs": [],
   "source": []
  }
 ],
 "metadata": {
  "kernelspec": {
   "display_name": "Python 3",
   "language": "python",
   "name": "python3"
  },
  "language_info": {
   "codemirror_mode": {
    "name": "ipython",
    "version": 3
   },
   "file_extension": ".py",
   "mimetype": "text/x-python",
   "name": "python",
   "nbconvert_exporter": "python",
   "pygments_lexer": "ipython3",
   "version": "3.5.2"
  }
 },
 "nbformat": 4,
 "nbformat_minor": 2
}
