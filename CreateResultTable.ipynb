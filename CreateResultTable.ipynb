{
 "cells": [
  {
   "cell_type": "code",
   "execution_count": 88,
   "metadata": {},
   "outputs": [],
   "source": [
    "from glob import glob\n",
    "from configs import *"
   ]
  },
  {
   "cell_type": "code",
   "execution_count": 89,
   "metadata": {},
   "outputs": [],
   "source": [
    "# tag='joint|weather|ours'\n",
    "# segment='-2|-3|0'\n",
    "tag='ours|joint|weather'\n",
    "segment='0|-2|-3'"
   ]
  },
  {
   "cell_type": "code",
   "execution_count": 90,
   "metadata": {},
   "outputs": [],
   "source": [
    "tags = tag.split('|')\n",
    "segs = segment.split('|')"
   ]
  },
  {
   "cell_type": "code",
   "execution_count": 97,
   "metadata": {},
   "outputs": [],
   "source": [
    "def write_table(tag, segment, header=True, file=None):\n",
    "    outputs = glob('outputs/%s_seg_%d*.txt' % (tag, segment))\n",
    "    assert len(outputs) > 0\n",
    "    outputs = sorted(outputs, key=lambda nm: int(nm.split('targ_')[1].replace('.txt', '')))\n",
    "#     print(len(outputs))\n",
    "#     print(outputs)\n",
    "    results = []\n",
    "    for sii, fname in enumerate(outputs):\n",
    "        with open(fname) as fl:\n",
    "            raw = fl.read()\n",
    "            if 'EPOCH' in raw:\n",
    "                parts = raw.split('EPOCH:')\n",
    "                minind = 0\n",
    "                minloss = 1000000000\n",
    "                for eii, ent in enumerate(parts[1:]):\n",
    "                    ent = ent.split('\\n')[1:-1]\n",
    "#                     print(ent)\n",
    "                    msetest = float(ent[1].split(':')[1])\n",
    "                    if msetest < minloss:\n",
    "                        minloss = msetest\n",
    "                        minind = eii\n",
    "                ent = parts[minind]\n",
    "                parts = ent.split('\\n')[1:-1]\n",
    "            else:\n",
    "                parts = raw.split('\\n')[:-1]\n",
    "\n",
    "            kvs = [ent.split(':') for ent in parts]\n",
    "            record = {}\n",
    "            for key, val in kvs:\n",
    "                record[key] = float(val)\n",
    "            results.append(record)\n",
    "\n",
    "    assert len(results) == len(outputs)\n",
    "    \n",
    "    def out(fl):\n",
    "        segind = 0 if segment < 0 else segment\n",
    "        if header:\n",
    "            fl.write('\\t'.join(['Metric'] + ['\"%s\"' % name[0] for name in SEGMENTS[segind]['locations']]))\n",
    "            fl.write('\\n')\n",
    "\n",
    "        for field in ['MSE_TEST', 'MAPE', 'MSE_AVG']:\n",
    "            values = []\n",
    "            for entry in results:\n",
    "                values.append('%.3f' % entry[field])\n",
    "            fl.write('\\t'.join([field + ' (%s)' % tag] + values))\n",
    "            fl.write('\\n')\n",
    "    if file is None:\n",
    "        with open('table_%s_%d.csv' % (tag, segment), 'w') as fl:\n",
    "            out(fl)\n",
    "    else: out(file)\n",
    "#     print(results[0])"
   ]
  },
  {
   "cell_type": "code",
   "execution_count": 98,
   "metadata": {},
   "outputs": [],
   "source": [
    "for tag, seg in zip(tags, segs):\n",
    "    write_table(tag, int(seg))"
   ]
  },
  {
   "cell_type": "code",
   "execution_count": 99,
   "metadata": {},
   "outputs": [],
   "source": [
    "with open('table_all.csv', 'w') as fl:\n",
    "    for tii, (tag, seg) in enumerate(zip(tags, segs)):\n",
    "        write_table(tag, int(seg), header=(tii == 0), file=fl)"
   ]
  },
  {
   "cell_type": "code",
   "execution_count": 100,
   "metadata": {},
   "outputs": [],
   "source": [
    "nfields = 3\n",
    "with open('table_all.csv') as fl:\n",
    "    lines = fl.read().split('\\n')[:-1]\n",
    "    header = lines[0]\n",
    "    data = lines[1:]\n",
    "    assert len(data) % len(tags) == 0\n",
    "    grouped = []\n",
    "    for nii in range(nfields):\n",
    "        for lii, line in enumerate(data):\n",
    "            if lii % nfields == nii:\n",
    "                grouped.append(line)\n",
    "#     print(grouped)\n",
    "    assert len(grouped) == len(data)\n",
    "    \n",
    "    with open('table_styled.csv', 'w') as fl:\n",
    "        fl.write(header + '\\n')\n",
    "        fl.write('\\n'.join(grouped))\n",
    "    \n",
    "#     for tii, (tag, seg) in enumerate(zip(tags, segs)):\n",
    "#         write_table(tag, int(seg), header=(tii == 0), file=fl)"
   ]
  },
  {
   "cell_type": "code",
   "execution_count": null,
   "metadata": {},
   "outputs": [],
   "source": []
  }
 ],
 "metadata": {
  "kernelspec": {
   "display_name": "Python 3",
   "language": "python",
   "name": "python3"
  },
  "language_info": {
   "codemirror_mode": {
    "name": "ipython",
    "version": 3
   },
   "file_extension": ".py",
   "mimetype": "text/x-python",
   "name": "python",
   "nbconvert_exporter": "python",
   "pygments_lexer": "ipython3",
   "version": "3.5.2"
  }
 },
 "nbformat": 4,
 "nbformat_minor": 2
}
