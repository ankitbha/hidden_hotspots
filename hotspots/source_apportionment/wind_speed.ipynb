{
 "cells": [
  {
   "cell_type": "code",
   "execution_count": 1,
   "id": "136f0286",
   "metadata": {},
   "outputs": [],
   "source": [
    "import numpy as np\n",
    "from PIL import Image\n",
    "import skimage.measure\n",
    "import pandas as pd\n",
    "from eccodes import *\n",
    "import sys\n",
    "import os"
   ]
  },
  {
   "cell_type": "code",
   "execution_count": 2,
   "id": "27a7a883",
   "metadata": {},
   "outputs": [],
   "source": [
    "dir_grib = './fnl_20180501_00-20201031_18_00.grib2/'"
   ]
  },
  {
   "cell_type": "code",
   "execution_count": 3,
   "id": "577a0fbc",
   "metadata": {},
   "outputs": [],
   "source": [
    "files_list = os.listdir(dir_grib)"
   ]
  },
  {
   "cell_type": "code",
   "execution_count": 21,
   "id": "40393510",
   "metadata": {},
   "outputs": [
    {
     "data": {
      "text/plain": [
       "3660"
      ]
     },
     "execution_count": 21,
     "metadata": {},
     "output_type": "execute_result"
    }
   ],
   "source": [
    "len(files_list)"
   ]
  },
  {
   "cell_type": "code",
   "execution_count": 24,
   "id": "33c06f4c",
   "metadata": {},
   "outputs": [],
   "source": [
    "df_ts_list = []\n",
    "for file in files_list:\n",
    "    INPUT = dir_grib+file\n",
    "    f = open(INPUT, 'rb')\n",
    "    gid1 = codes_grib_new_from_file(f)\n",
    "    gid2 = codes_grib_new_from_file(f)\n",
    "    u_values = codes_get_values(gid1)*1.6\n",
    "    v_values = codes_get_values(gid2)*1.6\n",
    "    ts = file.split('.')[0][4:-3]\n",
    "    dt = ts.split('_')[0]\n",
    "    t = ts.split('_')[1]\n",
    "    dt = dt[:4]+'-'+dt[4:6]+'-'+dt[6:]\n",
    "    ts = dt+'T'+t\n",
    "    ts = pd.Timestamp(ts)\n",
    "    ts_values = [ts,ts,ts,ts,ts,ts]\n",
    "    lat_values = [29.0, 29.0, 29.0, 28.0, 28.0, 28.0]\n",
    "    long_values = [76.0, 77.0, 78.0, 76.0, 77.0, 78.0]\n",
    "    df_list = [ts_values, lat_values,long_values, u_values, v_values]\n",
    "    df_ts = pd.DataFrame(df_list).transpose()\n",
    "    df_ts.columns = ['Timestamp', 'Latitude', 'Longitude', 'u-component', 'v-component']\n",
    "    df_ts_list.append(df_ts)\n",
    "df_wind_speed = pd.concat(df_ts_list, ignore_index=True)"
   ]
  },
  {
   "cell_type": "code",
   "execution_count": 26,
   "id": "5677b573",
   "metadata": {},
   "outputs": [],
   "source": [
    "df_wind_speed.to_csv('wind_speeds.csv',index=False)"
   ]
  },
  {
   "cell_type": "code",
   "execution_count": null,
   "id": "111ee3be",
   "metadata": {},
   "outputs": [],
   "source": []
  }
 ],
 "metadata": {
  "kernelspec": {
   "display_name": "Python 3 (ipykernel)",
   "language": "python",
   "name": "python3"
  },
  "language_info": {
   "codemirror_mode": {
    "name": "ipython",
    "version": 3
   },
   "file_extension": ".py",
   "mimetype": "text/x-python",
   "name": "python",
   "nbconvert_exporter": "python",
   "pygments_lexer": "ipython3",
   "version": "3.10.0"
  }
 },
 "nbformat": 4,
 "nbformat_minor": 5
}
