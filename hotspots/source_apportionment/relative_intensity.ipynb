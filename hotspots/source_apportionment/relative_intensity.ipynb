{
 "cells": [
  {
   "cell_type": "code",
   "execution_count": 1,
   "id": "fa44c0dc-a8f4-4796-a8b7-d8c159f2cf74",
   "metadata": {},
   "outputs": [],
   "source": [
    "import numpy as np\n",
    "from PIL import Image\n",
    "import skimage.measure\n",
    "import pandas as pd"
   ]
  },
  {
   "cell_type": "code",
   "execution_count": 2,
   "id": "449f5051-8804-4c51-8a71-54a4f6847d95",
   "metadata": {},
   "outputs": [],
   "source": [
    "brick_kilns = np.load('brick_kilns_80x80.npy')\n",
    "industries = np.load('industries_80x80.npy')\n",
    "power_plants = np.load('power_plants_80x80.npy')\n",
    "population_density = np.load('population_density_80x80.npy')\n",
    "traffic_06 = np.load('traffic_06.npy')\n",
    "traffic_12 = np.load('traffic_12.npy')\n",
    "traffic_18 = np.load('traffic_18.npy')\n",
    "traffic_00 = np.load('traffic_00.npy')"
   ]
  },
  {
   "cell_type": "code",
   "execution_count": 5,
   "id": "77617541-c89b-45d0-95cd-5e346fad8eff",
   "metadata": {},
   "outputs": [],
   "source": [
    "relative_totals = {'brick_kilns':9300.0,'industries':9000.0, 'power_plants':10200*0.87, 'population_density':7500.0, 'traffic':(10900.0*35*64)/(80*80)}"
   ]
  },
  {
   "cell_type": "code",
   "execution_count": 6,
   "id": "b076f277-8668-43c6-a4e6-f6703b46e3cc",
   "metadata": {},
   "outputs": [
    {
     "data": {
      "text/plain": [
       "{'brick_kilns': 9300.0,\n",
       " 'industries': 9000.0,\n",
       " 'power_plants': 8874.0,\n",
       " 'population_density': 7500.0,\n",
       " 'traffic': 3815.0}"
      ]
     },
     "execution_count": 6,
     "metadata": {},
     "output_type": "execute_result"
    }
   ],
   "source": [
    "relative_totals"
   ]
  },
  {
   "cell_type": "code",
   "execution_count": 14,
   "id": "01c6d617-b7c7-45a1-8d9d-f96a9c58f1e6",
   "metadata": {},
   "outputs": [],
   "source": [
    "traffic_avg = (traffic_12+traffic_18+traffic_00+traffic_06)/4.0"
   ]
  },
  {
   "cell_type": "code",
   "execution_count": 15,
   "id": "34a3997a-7b36-4df5-922b-e0860cbd4351",
   "metadata": {},
   "outputs": [],
   "source": [
    "brick_kilns_intensity = brick_kilns*(relative_totals['brick_kilns']/np.sum(brick_kilns))\n",
    "industries_intensity = industries*(relative_totals['industries']/np.sum(industries))\n",
    "power_plants_intensity = power_plants*(relative_totals['power_plants']/np.sum(power_plants))\n",
    "population_density_intensity = population_density*(relative_totals['population_density']/np.sum(population_density))\n",
    "traffic_avg_intensity = traffic_avg*(relative_totals['traffic']/np.sum(traffic_avg))\n",
    "traffic_06_intensity = traffic_06*(relative_totals['traffic']/np.sum(traffic_avg))\n",
    "traffic_12_intensity = traffic_12*(relative_totals['traffic']/np.sum(traffic_avg))\n",
    "traffic_18_intensity = traffic_18*(relative_totals['traffic']/np.sum(traffic_avg))\n",
    "traffic_00_intensity = traffic_00*(relative_totals['traffic']/np.sum(traffic_avg))"
   ]
  },
  {
   "cell_type": "code",
   "execution_count": 16,
   "id": "1c15ff20-f6a7-49e6-ae0d-9590baa576c4",
   "metadata": {},
   "outputs": [],
   "source": [
    "# intensity_cells_mean = brick_kilns_intensity+industries_intensity+power_plants_intensity+population_density_intensity+traffic_avg_intensity\n",
    "# intensity_cells_06 = intensity_cells_mean - traffic_avg_intensity + traffic_06_intensity\n",
    "# intensity_cells_12 = intensity_cells_mean - traffic_avg_intensity + traffic_12_intensity\n",
    "# intensity_cells_18 = intensity_cells_mean - traffic_avg_intensity + traffic_18_intensity\n",
    "# intensity_cells_00 = intensity_cells_mean - traffic_avg_intensity + traffic_00_intensity"
   ]
  },
  {
   "cell_type": "code",
   "execution_count": 18,
   "id": "094046c2-5f37-44db-8304-12d03bc0676f",
   "metadata": {},
   "outputs": [],
   "source": [
    "# np.save('rel_intensity_avg_80x80.npy', intensity_cells_mean)\n",
    "# np.save('rel_intensity_6am_80x80.npy', intensity_cells_06)\n",
    "# np.save('rel_intensity_12pm_80x80.npy', intensity_cells_12)\n",
    "# np.save('rel_intensity_6pm_80x80.npy', intensity_cells_18)\n",
    "# np.save('rel_intensity_12am_80x80.npy', intensity_cells_00)"
   ]
  },
  {
   "cell_type": "code",
   "execution_count": 19,
   "id": "486cae27-0d97-477a-9b50-ffe80f347011",
   "metadata": {},
   "outputs": [],
   "source": [
    "np.save('brick_kilns_intensity_80x80.npy', brick_kilns_intensity)\n",
    "np.save('industries_intensity_80x80.npy', industries_intensity)\n",
    "np.save('power_plants_intensity_80x80.npy', power_plants_intensity)\n",
    "np.save('population_density_intensity_80x80.npy', population_density_intensity)\n",
    "np.save('traffic_06_intensity_80x80.npy', traffic_06_intensity)\n",
    "np.save('traffic_12_intensity_80x80.npy', traffic_12_intensity)\n",
    "np.save('traffic_18_intensity_80x80.npy', traffic_18_intensity)\n",
    "np.save('traffic_00_intensity_80x80.npy', traffic_00_intensity)"
   ]
  },
  {
   "cell_type": "code",
   "execution_count": null,
   "id": "2fafc54f-95bb-419a-ba26-193455eb0123",
   "metadata": {},
   "outputs": [],
   "source": []
  }
 ],
 "metadata": {
  "kernelspec": {
   "display_name": "Python 3 (ipykernel)",
   "language": "python",
   "name": "python3"
  },
  "language_info": {
   "codemirror_mode": {
    "name": "ipython",
    "version": 3
   },
   "file_extension": ".py",
   "mimetype": "text/x-python",
   "name": "python",
   "nbconvert_exporter": "python",
   "pygments_lexer": "ipython3",
   "version": "3.10.0"
  }
 },
 "nbformat": 4,
 "nbformat_minor": 5
}
