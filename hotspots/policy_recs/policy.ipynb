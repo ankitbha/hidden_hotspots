{
 "cells": [
  {
   "cell_type": "code",
   "execution_count": 1,
   "id": "110b6036-e5fb-40d2-9edb-3db43dd1d342",
   "metadata": {},
   "outputs": [],
   "source": [
    "import os\n",
    "import sys\n",
    "import pytz\n",
    "import argparse\n",
    "# import jax.numpy as jnp\n",
    "import numpy as np\n",
    "import pandas as pd\n",
    "import matplotlib.pyplot as plt\n",
    "from tqdm import tqdm\n",
    "from geopy import distance\n",
    "import datetime\n",
    "import tilemapbase\n",
    "from copy import deepcopy\n",
    "import pickle as pkl\n",
    "from PIL import Image\n",
    "import skimage.measure\n",
    "import math\n",
    "import warnings\n",
    "warnings.filterwarnings('ignore')\n",
    "warnings.simplefilter('ignore')\n",
    "os.environ['PYTHONWARNINGS']='ignore'\n",
    "import hyperopt\n",
    "from joblib import Parallel, delayed\n",
    "import random\n",
    "random.seed(42)\n",
    "import scipy\n",
    "import torch\n",
    "from pykrige.ok import OrdinaryKriging\n",
    "from pykrige.ok3d import OrdinaryKriging3D\n",
    "from pykrige.uk import UniversalKriging\n",
    "from sklearn.model_selection import train_test_split\n",
    "from scipy.interpolate import CubicSpline"
   ]
  },
  {
   "cell_type": "code",
   "execution_count": 2,
   "id": "ab58f367-e7d4-41d3-94f7-fa75744fdb93",
   "metadata": {},
   "outputs": [],
   "source": [
    "# source = 'combined'\n",
    "sensor = 'pm25'\n",
    "res_time = '1H'\n",
    "filepath_root = '/scratch/ab9738/pollution_with_sensors/'\n",
    "\n",
    "filepath_data_kai = filepath_root+'data/kaiterra/kaiterra_fieldeggid_{}_current_panel.csv'.format(res_time)\n",
    "filepath_data_gov = filepath_root+'data/govdata/govdata_{}_current.csv'.format(res_time)\n",
    "filepath_locs_kai = filepath_root+'data/kaiterra/kaiterra_locations.csv'\n",
    "filepath_locs_gov = filepath_root+'data/govdata/govdata_locations.csv'\n",
    "\n",
    "locs_kai = pd.read_csv(filepath_locs_kai, index_col=[0])\n",
    "locs_kai['Type'] = 'Kaiterra'\n",
    "locs_gov = pd.read_csv(filepath_locs_gov, index_col=[0])\n",
    "locs_gov['Type'] = 'Govt'\n",
    "locs = pd.merge(locs_kai, locs_gov, how='outer',\\\n",
    "                on=['Monitor ID', 'Latitude', 'Longitude', 'Location', 'Type'], copy=False)\n",
    "data_kai = pd.read_csv(filepath_data_kai, index_col=[0,1], parse_dates=True)[sensor]\n",
    "data_gov = pd.read_csv(filepath_data_gov, index_col=[0,1], parse_dates=True)[sensor]\n",
    "data = pd.concat([data_kai, data_gov], axis=0, copy=False)\n",
    "data.replace(0,np.nan,inplace=True)\n",
    "\n",
    "start_dt = data.index.levels[1][0]\n",
    "end_dt = data.index.levels[1][-1]\n",
    "\n",
    "if start_dt.tzname != 'IST':\n",
    "        if start_dt.tzinfo is None:\n",
    "            start_dt = start_dt.tz_localize('UTC')\n",
    "        start_dt = start_dt.tz_convert(pytz.FixedOffset(330))\n",
    "    \n",
    "if end_dt.tzname != 'IST':\n",
    "    if end_dt.tzinfo is None: \n",
    "        end_dt = end_dt.tz_localize('UTC')\n",
    "    end_dt = end_dt.tz_convert(pytz.FixedOffset(330))\n",
    "\n",
    "# now, filter through the start and end dates\n",
    "data.sort_index(inplace=True)\n",
    "data = data.loc[(slice(None), slice(start_dt, end_dt))]\n",
    "\n",
    "# if(source=='govdata'):\n",
    "df_gov = data_gov.unstack(level=0)\n",
    "# elif(source=='kaiterra'):\n",
    "df_kai = data_kai.unstack(level=0)\n",
    "# else:\n",
    "df = data.unstack(level=0)\n",
    "distances = pd.read_csv('/scratch/ab9738/pollution_with_sensors/data/combined_distances.csv', index_col=[0])\n",
    "distances = distances.loc[df.columns, df.columns]\n",
    "distances[distances == 0] = np.nan"
   ]
  },
  {
   "cell_type": "code",
   "execution_count": 3,
   "id": "c7dce926-509c-4cb1-8209-1d2d0122322c",
   "metadata": {},
   "outputs": [],
   "source": [
    "start_date_year_1 = pd.to_datetime('2018-07-01 00:00:00+0530')\n",
    "end_date_year_1 = pd.to_datetime('2019-06-30 23:00:00+0530')\n",
    "start_date_year_2 = pd.to_datetime('2019-07-01 00:00:00+0530')\n",
    "end_date_year_2 = pd.to_datetime('2020-06-30 23:00:00+0530')"
   ]
  },
  {
   "cell_type": "code",
   "execution_count": 4,
   "id": "7a293f43-e523-4c16-867b-4d3bf548799b",
   "metadata": {},
   "outputs": [],
   "source": [
    "df_year_1 = df.loc[slice(start_date_year_1, end_date_year_1)]"
   ]
  },
  {
   "cell_type": "code",
   "execution_count": 5,
   "id": "6b81372f-4d81-40ab-a295-93eb5421863c",
   "metadata": {},
   "outputs": [],
   "source": [
    "df_year_2 = df.loc[slice(start_date_year_2, end_date_year_2)]"
   ]
  },
  {
   "cell_type": "code",
   "execution_count": 6,
   "id": "0ac24cf2-2d42-4a00-82b8-0107fd490256",
   "metadata": {},
   "outputs": [],
   "source": [
    "df_year1_avg = df_year_1.mean()\n",
    "df_year2_avg = df_year_2.mean()"
   ]
  },
  {
   "cell_type": "code",
   "execution_count": 7,
   "id": "663133ec-a5ba-4546-9545-c9dd27d77718",
   "metadata": {},
   "outputs": [],
   "source": [
    "year1_chart = df_year1_avg[df_year1_avg>100]\n",
    "year2_chart = df_year2_avg[df_year2_avg>100]\n",
    "year1_chart.index = locs.loc[year1_chart.index].Location\n",
    "year2_chart.index = locs.loc[year2_chart.index].Location"
   ]
  },
  {
   "cell_type": "code",
   "execution_count": 8,
   "id": "068c2660-f4c1-4d3b-8624-a29e955330f2",
   "metadata": {},
   "outputs": [
    {
     "data": {
      "text/plain": [
       "Location\n",
       "Anand Vihar, Delhi - DPCC                 150.073282\n",
       "Safdarjung Enclave Block B4               150.031129\n",
       "Wazirpur, Delhi - DPCC                    143.832025\n",
       "Lado Sarai                                143.165332\n",
       "Jahangirpuri, Delhi - DPCC                141.826173\n",
       "Rohini, Delhi - DPCC                      137.250796\n",
       "Mundaka, Delhi - DPCC                     135.358039\n",
       "Chhatapur                                 133.879540\n",
       "Burari Crossing, New Delhi - IMD          128.221020\n",
       "Nehru Nagar, Delhi - DPCC                 127.760614\n",
       "Shadipur, New Delhi - CPCB                127.026639\n",
       "Faridabad Sector 32                       124.793649\n",
       "Preet Vihar                               123.670595\n",
       "Ashok Vihar, Delhi - DPCC                 122.143042\n",
       "Punjabi Bagh, Delhi - DPCC                121.752016\n",
       "GK-1 Pamposh Enclave                      121.612071\n",
       "Aya Nagar Extension                       119.735999\n",
       "Sonia Vihar, Delhi - DPCC                 119.723686\n",
       "R K Puram, New Delhi - DPCC               118.638697\n",
       "DTU, New Delhi - CPCB                     118.315195\n",
       "Defence Colony                            117.827782\n",
       "ITO, New Delhi - CPCB                     117.648392\n",
       "CRRI Mathura Road, New Delhi - IMD        116.515156\n",
       "Noida Sector 104                          116.350963\n",
       "IHBAS, Dilshad Garden,New Delhi - CPCB    114.979384\n",
       "Gurugram Sector 49                        114.332413\n",
       "Fulbright House                           114.052591\n",
       "NSIT Dwarka, New Delhi - CPCB             113.607042\n",
       "Vivek Vihar, Delhi - DPCC                 110.131596\n",
       "US Embassy                                109.346261\n",
       "Anand Niketan                             108.818682\n",
       "Okhla Phase-2, Delhi - DPCC               107.952906\n",
       "Malcha Diplomatic Enclave Block C         106.842471\n",
       "Safdarjung Enclave Block B1               106.494070\n",
       "Mandir Marg, New Delhi - DPCC             106.160358\n",
       "Jawaharlal Nehru Stadium, Delhi - DPCC    104.952256\n",
       "Yusuf Sarai                               104.720667\n",
       "Panchsheel Park                           104.536922\n",
       "Dwarka-Sector 8, Delhi - DPCC             104.228498\n",
       "Patparganj, Delhi - DPCC                  103.576591\n",
       "Sirifort, New Delhi - CPCB                103.486766\n",
       "Sadiq Nagar                               101.511827\n",
       "Pusa, Delhi - DPCC                        101.026613\n",
       "dtype: float64"
      ]
     },
     "execution_count": 8,
     "metadata": {},
     "output_type": "execute_result"
    }
   ],
   "source": [
    "year1_chart.sort_values(ascending=False)"
   ]
  },
  {
   "cell_type": "code",
   "execution_count": 9,
   "id": "b3991e99-a4e6-4b8c-b26c-eb29323ef862",
   "metadata": {},
   "outputs": [
    {
     "data": {
      "text/plain": [
       "Location\n",
       "Fulbright House                     216.197564\n",
       "Malviya Nagar                       152.404025\n",
       "Burari Crossing, New Delhi - IMD    123.536235\n",
       "Faridabad Sector 32                 117.741105\n",
       "Wazirpur, Delhi - DPCC              117.597498\n",
       "Rohini, Delhi - DPCC                117.229494\n",
       "Anand Vihar, Delhi - DPCC           116.515631\n",
       "Preet Vihar                         114.880152\n",
       "Jahangirpuri, Delhi - DPCC          112.752082\n",
       "Mundaka, Delhi - DPCC               112.377219\n",
       "Nehru Nagar, Delhi - DPCC           112.310200\n",
       "DTU, New Delhi - CPCB               109.355380\n",
       "Ashok Vihar, Delhi - DPCC           105.481922\n",
       "ITO, New Delhi - CPCB               105.031344\n",
       "Vivek Vihar, Delhi - DPCC           103.834498\n",
       "Dwarka-Sector 8, Delhi - DPCC       102.383160\n",
       "Punjabi Bagh, Delhi - DPCC          100.059421\n",
       "dtype: float64"
      ]
     },
     "execution_count": 9,
     "metadata": {},
     "output_type": "execute_result"
    }
   ],
   "source": [
    "year2_chart.sort_values(ascending=False)"
   ]
  },
  {
   "cell_type": "code",
   "execution_count": 10,
   "id": "96f353b7-6ad0-4cc3-bfd0-3ec8fbbffcd0",
   "metadata": {},
   "outputs": [
    {
     "data": {
      "text/plain": [
       "109.22330075190605"
      ]
     },
     "execution_count": 10,
     "metadata": {},
     "output_type": "execute_result"
    }
   ],
   "source": [
    "df_year1_avg.mean()"
   ]
  },
  {
   "cell_type": "code",
   "execution_count": 11,
   "id": "f9e2bc6b-ad7f-4366-b0c8-9b936ed96e2e",
   "metadata": {},
   "outputs": [
    {
     "data": {
      "text/plain": [
       "87.52631114393691"
      ]
     },
     "execution_count": 11,
     "metadata": {},
     "output_type": "execute_result"
    }
   ],
   "source": [
    "df_year2_avg.mean()"
   ]
  },
  {
   "cell_type": "code",
   "execution_count": 40,
   "id": "22469515-5c90-48c6-b441-99eba0b63c52",
   "metadata": {},
   "outputs": [],
   "source": [
    "df_kai = df_kai.groupby(df_kai.index.date).mean()"
   ]
  },
  {
   "cell_type": "code",
   "execution_count": 41,
   "id": "662e5d35-c346-4e6c-9fc3-ff842b6c0d88",
   "metadata": {},
   "outputs": [],
   "source": [
    "df_kai.index = pd.to_datetime(df_kai.index)"
   ]
  },
  {
   "cell_type": "code",
   "execution_count": 42,
   "id": "2c3bd222-f21c-44e2-a877-a8261efc4598",
   "metadata": {},
   "outputs": [],
   "source": [
    "df_kai_2018 = df_kai[df_kai.index.year==2018]\n",
    "df_kai_2019 = df_kai[df_kai.index.year==2019]\n",
    "df_kai_2020 = df_kai[df_kai.index.year==2020]"
   ]
  },
  {
   "cell_type": "code",
   "execution_count": 43,
   "id": "044853c0-f6c4-42b3-b641-ffed76c49d9e",
   "metadata": {},
   "outputs": [],
   "source": [
    "df_new_hsps = pd.DataFrame(columns=df_kai.columns)"
   ]
  },
  {
   "cell_type": "code",
   "execution_count": 44,
   "id": "e3581883-9caf-4c5c-aaa8-0e32114b927f",
   "metadata": {},
   "outputs": [],
   "source": [
    "def process_month(df_kai_month, month, year):\n",
    "    idx = str(month)+'-'+str(year)\n",
    "    df_new_hsps.loc[idx] = np.zeros(len(df_kai.columns)).astype(np.bool)\n",
    "    for sensor in df_kai_month.columns:\n",
    "        cell = False\n",
    "        if(df_kai_month[sensor].isna().sum()>10):\n",
    "            continue\n",
    "        if(len(df_kai_month[sensor][df_kai_month[sensor]>60])>0.6*len(df_kai_month[sensor].dropna())):\n",
    "            cell = True\n",
    "        if(df_kai_month[sensor].mean()>90):\n",
    "            cell = True\n",
    "        y = df_kai_month[sensor].dropna()\n",
    "        y = y-60\n",
    "        y = (y>0).astype(int)\n",
    "        y = y * (y.groupby((y != y.shift()).cumsum()).cumcount() + 1)\n",
    "        if(max(y)>=3):\n",
    "            cell = True\n",
    "            \n",
    "        df_new_hsps.loc[idx][sensor] = cell"
   ]
  },
  {
   "cell_type": "code",
   "execution_count": 45,
   "id": "8c499a2a-b8ca-41db-ab40-23d445b4fe1c",
   "metadata": {},
   "outputs": [],
   "source": [
    "year = 2018\n",
    "for month in range(5,13):\n",
    "    df_kai_month = df_kai_2018[df_kai_2018.index.month==month]\n",
    "    process_month(df_kai_month, month, year)\n",
    "    \n",
    "year = 2019\n",
    "for month in range(1,13):\n",
    "    df_kai_month = df_kai_2019[df_kai_2019.index.month==month]\n",
    "    process_month(df_kai_month, month, year)\n",
    "    \n",
    "year = 2020\n",
    "for month in range(1,10):\n",
    "    df_kai_month = df_kai_2020[df_kai_2020.index.month==month]\n",
    "    process_month(df_kai_month, month, year)"
   ]
  },
  {
   "cell_type": "code",
   "execution_count": 46,
   "id": "60293ee7-4dc8-4a08-ac4d-fc2bc051f132",
   "metadata": {},
   "outputs": [],
   "source": [
    "df_new_hsps.columns = locs.loc[df_kai.columns].Location"
   ]
  },
  {
   "cell_type": "code",
   "execution_count": 47,
   "id": "3fe9b5d1-85a1-4a4b-a702-c211838c841f",
   "metadata": {},
   "outputs": [
    {
     "data": {
      "text/plain": [
       "Location\n",
       "GK-1 Pamposh Enclave                  9\n",
       "Safdarjung Enclave Block B1           4\n",
       "Anand Niketan                         9\n",
       "Lado Sarai                            0\n",
       "Sarvodaya Enclave                     0\n",
       "GK-1 N Block                          1\n",
       "Malviya Nagar                        10\n",
       "Panchsheel Park                       8\n",
       "Gurugram Sector 24                    1\n",
       "Malcha Diplomatic Enclave Block C     5\n",
       "Faridabad Sector 32                  15\n",
       "Aya Nagar Extension                   4\n",
       "Chhatapur                             7\n",
       "Safdarjung Enclave Block B4           6\n",
       "Fulbright House                       4\n",
       "Sadiq Nagar                          18\n",
       "Hauz Khas Village                     5\n",
       "Preet Vihar                          11\n",
       "Saket                                 0\n",
       "Gurugram Sector 49                   10\n",
       "US Embassy                           12\n",
       "Yusuf Sarai                           6\n",
       "Lajpat Nagar                          6\n",
       "Defence Colony                        6\n",
       "Sarvapriya Vihar                      1\n",
       "Noida Sector 104                     14\n",
       "Safdarjung Enclave Block B4           4\n",
       "ISI Delhi                            13\n",
       "dtype: int64"
      ]
     },
     "execution_count": 47,
     "metadata": {},
     "output_type": "execute_result"
    }
   ],
   "source": [
    "df_new_hsps.sum(axis=0)"
   ]
  },
  {
   "cell_type": "code",
   "execution_count": 48,
   "id": "02cd1de3-fcf7-478c-9067-d9eeba35a849",
   "metadata": {},
   "outputs": [
    {
     "data": {
      "text/plain": [
       "189"
      ]
     },
     "execution_count": 48,
     "metadata": {},
     "output_type": "execute_result"
    }
   ],
   "source": [
    "df_new_hsps.sum(axis=0).sum()"
   ]
  },
  {
   "cell_type": "code",
   "execution_count": 31,
   "id": "b9fcfcad-b3cb-4941-81c8-1f1a24e7c431",
   "metadata": {},
   "outputs": [],
   "source": [
    "df_gov = df_gov.groupby(df_gov.index.date).mean()"
   ]
  },
  {
   "cell_type": "code",
   "execution_count": 32,
   "id": "752dae9e-dec5-4590-a14f-20fa633e60b8",
   "metadata": {},
   "outputs": [],
   "source": [
    "df_gov.index = pd.to_datetime(df_gov.index)"
   ]
  },
  {
   "cell_type": "code",
   "execution_count": 33,
   "id": "17369e5d-84db-41fc-b149-63599eedbc15",
   "metadata": {},
   "outputs": [],
   "source": [
    "df_gov_2018 = df_gov[df_gov.index.year==2018]\n",
    "df_gov_2019 = df_gov[df_gov.index.year==2019]\n",
    "df_gov_2020 = df_gov[df_gov.index.year==2020]"
   ]
  },
  {
   "cell_type": "code",
   "execution_count": 34,
   "id": "54dfed26-39a7-41e0-a2f9-6683b7e24ce1",
   "metadata": {},
   "outputs": [],
   "source": [
    "df_new_hsps = pd.DataFrame(columns=df_gov.columns)"
   ]
  },
  {
   "cell_type": "code",
   "execution_count": 36,
   "id": "4d77773b-d117-48f9-b828-900cd275390d",
   "metadata": {},
   "outputs": [],
   "source": [
    "def process_month(df_kai_month, month, year):\n",
    "    idx = str(month)+'-'+str(year)\n",
    "    df_new_hsps.loc[idx] = np.zeros(len(df_gov.columns)).astype(np.bool)\n",
    "    for sensor in df_kai_month.columns:\n",
    "        cell = False\n",
    "        if(df_kai_month[sensor].isna().sum()>10):\n",
    "            continue\n",
    "        if(len(df_kai_month[sensor][df_kai_month[sensor]>60])>0.6*len(df_kai_month[sensor].dropna())):\n",
    "            cell = True\n",
    "        if(df_kai_month[sensor].mean()>90):\n",
    "            cell = True\n",
    "        y = df_kai_month[sensor].dropna()\n",
    "        y = y-60\n",
    "        y = (y>0).astype(int)\n",
    "        y = y * (y.groupby((y != y.shift()).cumsum()).cumcount() + 1)\n",
    "        if(max(y)>=3):\n",
    "            cell = True\n",
    "            \n",
    "        df_new_hsps.loc[idx][sensor] = cell"
   ]
  },
  {
   "cell_type": "code",
   "execution_count": 37,
   "id": "cec84a3d-711e-4548-9110-f27acae5b640",
   "metadata": {},
   "outputs": [],
   "source": [
    "year = 2018\n",
    "for month in range(5,13):\n",
    "    df_kai_month = df_gov_2018[df_gov_2018.index.month==month]\n",
    "    process_month(df_kai_month, month, year)\n",
    "    \n",
    "year = 2019\n",
    "for month in range(1,13):\n",
    "    df_kai_month = df_gov_2019[df_gov_2019.index.month==month]\n",
    "    process_month(df_kai_month, month, year)\n",
    "    \n",
    "year = 2020\n",
    "for month in range(1,10):\n",
    "    df_kai_month = df_gov_2020[df_gov_2020.index.month==month]\n",
    "    process_month(df_kai_month, month, year)"
   ]
  },
  {
   "cell_type": "code",
   "execution_count": 38,
   "id": "896e057d-d403-4b66-8448-0cea98987737",
   "metadata": {},
   "outputs": [],
   "source": [
    "df_new_hsps.columns = locs.loc[df_gov.columns].Location"
   ]
  },
  {
   "cell_type": "code",
   "execution_count": 39,
   "id": "cdb691c2-3370-4b90-8c6c-ed40e5ff9eab",
   "metadata": {},
   "outputs": [
    {
     "data": {
      "text/plain": [
       "Location\n",
       "Anand Vihar, Delhi - DPCC                           23\n",
       "Ashok Vihar, Delhi - DPCC                           22\n",
       "Aya Nagar, New Delhi - IMD                          21\n",
       "Burari Crossing, New Delhi - IMD                    13\n",
       "CRRI Mathura Road, New Delhi - IMD                  23\n",
       "Dr. Karni Singh Shooting Range, Delhi - DPCC        16\n",
       "DTU, New Delhi - CPCB                               24\n",
       "Dwarka-Sector 8, Delhi - DPCC                       22\n",
       "IGI Airport (T3), New Delhi - IMD                   20\n",
       "IHBAS, Dilshad Garden,New Delhi - CPCB              24\n",
       "ITO, New Delhi - CPCB                               26\n",
       "Jawaharlal Nehru Stadium, Delhi - DPCC              17\n",
       "Jahangirpuri, Delhi - DPCC                          24\n",
       "Lodhi Road, New Delhi - IMD                         21\n",
       "Major Dhyan Chand National Stadium, Delhi - DPCC    21\n",
       "Mandir Marg, New Delhi - DPCC                       22\n",
       "Mundaka, Delhi - DPCC                               21\n",
       "NSIT Dwarka, New Delhi - CPCB                       26\n",
       "Nehru Nagar, Delhi - DPCC                           22\n",
       "Okhla Phase-2, Delhi - DPCC                         20\n",
       "Patparganj, Delhi - DPCC                            21\n",
       "Punjabi Bagh, Delhi - DPCC                          22\n",
       "Pusa, Delhi - DPCC                                  16\n",
       "Pusa, New Delhi - IMD                               19\n",
       "R K Puram, New Delhi - DPCC                         24\n",
       "Rohini, Delhi - DPCC                                24\n",
       "Shadipur, New Delhi - CPCB                          21\n",
       "Sirifort, New Delhi - CPCB                          22\n",
       "Sonia Vihar, Delhi - DPCC                           21\n",
       "Sri Aurobindo Marg, Delhi - DPCC                    14\n",
       "Vivek Vihar, Delhi - DPCC                           23\n",
       "Wazirpur, Delhi - DPCC                              24\n",
       "dtype: int64"
      ]
     },
     "execution_count": 39,
     "metadata": {},
     "output_type": "execute_result"
    }
   ],
   "source": [
    "df_new_hsps.sum(axis=0)"
   ]
  },
  {
   "cell_type": "code",
   "execution_count": null,
   "id": "9aa18c61-ad93-4aeb-8eec-b9698875a825",
   "metadata": {},
   "outputs": [],
   "source": []
  }
 ],
 "metadata": {
  "kernelspec": {
   "display_name": "Python 3 (ipykernel)",
   "language": "python",
   "name": "python3"
  },
  "language_info": {
   "codemirror_mode": {
    "name": "ipython",
    "version": 3
   },
   "file_extension": ".py",
   "mimetype": "text/x-python",
   "name": "python",
   "nbconvert_exporter": "python",
   "pygments_lexer": "ipython3",
   "version": "3.10.0"
  }
 },
 "nbformat": 4,
 "nbformat_minor": 5
}
