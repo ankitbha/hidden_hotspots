{
 "cells": [
  {
   "cell_type": "code",
   "execution_count": 1,
   "id": "310a8a65-8c41-4f3f-a089-b73c08f96d49",
   "metadata": {},
   "outputs": [],
   "source": [
    "import os\n",
    "import sys\n",
    "import pytz\n",
    "import argparse\n",
    "# import jax.numpy as jnp\n",
    "import numpy as np\n",
    "import pandas as pd\n",
    "import matplotlib.pyplot as plt\n",
    "from tqdm import tqdm\n",
    "from geopy import distance\n",
    "import datetime\n",
    "import tilemapbase\n",
    "from copy import deepcopy\n",
    "import pickle as pkl\n",
    "from PIL import Image\n",
    "import skimage.measure\n",
    "import math\n",
    "import warnings\n",
    "warnings.filterwarnings('ignore')\n",
    "warnings.simplefilter('ignore')\n",
    "os.environ['PYTHONWARNINGS']='ignore'\n",
    "import hyperopt\n",
    "from joblib import Parallel, delayed\n",
    "import random\n",
    "random.seed(42)\n",
    "import scipy\n",
    "import torch\n",
    "from pykrige.ok import OrdinaryKriging\n",
    "from pykrige.ok3d import OrdinaryKriging3D\n",
    "from pykrige.uk import UniversalKriging\n",
    "from sklearn.model_selection import train_test_split\n",
    "from scipy.interpolate import CubicSpline"
   ]
  },
  {
   "cell_type": "code",
   "execution_count": 24,
   "id": "2a51309e-6aef-493c-bed0-46cb869142bd",
   "metadata": {},
   "outputs": [],
   "source": [
    "# source = 'combined'\n",
    "sensor = 'pm25'\n",
    "res_time = '1H'\n",
    "filepath_root = '/scratch/ab9738/pollution_with_sensors/'\n",
    "\n",
    "filepath_data_kai = filepath_root+'data/kaiterra/kaiterra_fieldeggid_{}_current_panel.csv'.format(res_time)\n",
    "filepath_data_gov = filepath_root+'data/govdata/govdata_{}_current.csv'.format(res_time)\n",
    "filepath_locs_kai = filepath_root+'data/kaiterra/kaiterra_locations.csv'\n",
    "filepath_locs_gov = filepath_root+'data/govdata/govdata_locations.csv'\n",
    "\n",
    "locs_kai = pd.read_csv(filepath_locs_kai, index_col=[0])\n",
    "locs_kai['Type'] = 'Kaiterra'\n",
    "locs_gov = pd.read_csv(filepath_locs_gov, index_col=[0])\n",
    "locs_gov['Type'] = 'Govt'\n",
    "locs = pd.merge(locs_kai, locs_gov, how='outer',\\\n",
    "                on=['Monitor ID', 'Latitude', 'Longitude', 'Location', 'Type'], copy=False)\n",
    "data_kai = pd.read_csv(filepath_data_kai, index_col=[0,1], parse_dates=True)[sensor]\n",
    "data_gov = pd.read_csv(filepath_data_gov, index_col=[0,1], parse_dates=True)[sensor]\n",
    "data = pd.concat([data_kai, data_gov], axis=0, copy=False)\n",
    "data.replace(0,np.nan,inplace=True)\n",
    "\n",
    "start_dt = data.index.levels[1][0]\n",
    "end_dt = data.index.levels[1][-1]\n",
    "\n",
    "if start_dt.tzname != 'IST':\n",
    "        if start_dt.tzinfo is None:\n",
    "            start_dt = start_dt.tz_localize('UTC')\n",
    "        start_dt = start_dt.tz_convert(pytz.FixedOffset(330))\n",
    "    \n",
    "if end_dt.tzname != 'IST':\n",
    "    if end_dt.tzinfo is None: \n",
    "        end_dt = end_dt.tz_localize('UTC')\n",
    "    end_dt = end_dt.tz_convert(pytz.FixedOffset(330))\n",
    "\n",
    "# now, filter through the start and end dates\n",
    "data.sort_index(inplace=True)\n",
    "data = data.loc[(slice(None), slice(start_dt, end_dt))]\n",
    "\n",
    "# if(source=='govdata'):\n",
    "df_gov = data_gov.unstack(level=0)\n",
    "# elif(source=='kaiterra'):\n",
    "df_kai = data_kai.unstack(level=0)\n",
    "# else:\n",
    "df = data.unstack(level=0)\n",
    "distances = pd.read_csv('/scratch/ab9738/pollution_with_sensors/data/combined_distances.csv', index_col=[0])\n",
    "distances = distances.loc[df.columns, df.columns]\n",
    "distances[distances == 0] = np.nan"
   ]
  },
  {
   "cell_type": "markdown",
   "id": "37d72be5-ff91-4cbf-8701-6f6bc4139070",
   "metadata": {},
   "source": [
    "## Anual Hotspots"
   ]
  },
  {
   "cell_type": "code",
   "execution_count": 25,
   "id": "dc39526c-913c-46d4-a95c-46f1d9eb2fd8",
   "metadata": {},
   "outputs": [],
   "source": [
    "df_kai_an = df_kai.groupby(df_kai.index.year).mean()\n",
    "df_gov_an = df_gov.groupby(df_kai.index.year).mean()"
   ]
  },
  {
   "cell_type": "code",
   "execution_count": 30,
   "id": "22c7b585-b1ed-434a-b1aa-88d4c62db0da",
   "metadata": {},
   "outputs": [
    {
     "data": {
      "text/plain": [
       "6"
      ]
     },
     "execution_count": 30,
     "metadata": {},
     "output_type": "execute_result"
    }
   ],
   "source": [
    "len(df_kai_an.loc[2019][df_kai_an.loc[2019]>100])"
   ]
  },
  {
   "cell_type": "code",
   "execution_count": 31,
   "id": "2e31d167-499a-495f-9ef2-5ad1f8b21700",
   "metadata": {},
   "outputs": [
    {
     "data": {
      "text/plain": [
       "24"
      ]
     },
     "execution_count": 31,
     "metadata": {},
     "output_type": "execute_result"
    }
   ],
   "source": [
    "len(df_gov_an.loc[2019][df_gov_an.loc[2019]>100])"
   ]
  },
  {
   "cell_type": "code",
   "execution_count": 36,
   "id": "f7be15dd-832b-4c94-b9cf-3f09861e5565",
   "metadata": {},
   "outputs": [],
   "source": [
    "df_new_hotspots = df_kai_an.loc[2019][df_kai_an.loc[2019]>100]"
   ]
  },
  {
   "cell_type": "code",
   "execution_count": 37,
   "id": "6d69b0b1-2ee0-4e3a-81ba-ae99b1140920",
   "metadata": {},
   "outputs": [],
   "source": [
    "df_new_hotspots.index = locs.loc[df_new_hotspots.index].Location"
   ]
  },
  {
   "cell_type": "code",
   "execution_count": 38,
   "id": "f1253d18-6935-4b59-a51f-44b55070e0e2",
   "metadata": {},
   "outputs": [
    {
     "data": {
      "text/plain": [
       "Location\n",
       "Lado Sarai                     167.638217\n",
       "Malviya Nagar                  120.039290\n",
       "Faridabad Sector 32            103.765461\n",
       "Chhatapur                      181.889563\n",
       "Fulbright House                140.229133\n",
       "Safdarjung Enclave Block B4    218.814171\n",
       "Name: 2019, dtype: float64"
      ]
     },
     "execution_count": 38,
     "metadata": {},
     "output_type": "execute_result"
    }
   ],
   "source": [
    "df_new_hotspots"
   ]
  },
  {
   "cell_type": "code",
   "execution_count": 39,
   "id": "ad94a598-d3e3-4465-b4bf-f6acc75afd8e",
   "metadata": {},
   "outputs": [],
   "source": [
    "df_govt_hotspots = df_gov_an.loc[2019][df_gov_an.loc[2019]>100]"
   ]
  },
  {
   "cell_type": "code",
   "execution_count": 40,
   "id": "7ea2f5cc-c499-43c0-94e2-30dc1b7ed041",
   "metadata": {},
   "outputs": [
    {
     "data": {
      "text/plain": [
       "monitor_id\n",
       "AnandVihar_DPCC        128.203259\n",
       "AshokVihar_DPCC        120.730632\n",
       "BurariCrossing_IMD     111.232359\n",
       "CRRIMathuraRoad_IMD    104.290820\n",
       "DTU_CPCB               119.182859\n",
       "DwarkaSector8_DPCC     109.599886\n",
       "IHBAS_CPCB             115.217622\n",
       "ITO_CPCB               109.442360\n",
       "JNS_DPCC               104.148098\n",
       "Jahangirpuri_DPCC      128.660903\n",
       "MandirMarg_DPCC        103.736260\n",
       "Mundaka_DPCC           126.415383\n",
       "NSIT_CPCB              113.483118\n",
       "NehruNagar_DPCC        123.174957\n",
       "OkhlaPhase2_DPCC       107.589131\n",
       "PunjabiBagh_DPCC       107.467880\n",
       "Pusa_DPCC              100.869147\n",
       "RKPuram_DPCC           105.337193\n",
       "Rohini_DPCC            128.616534\n",
       "Shadipur_CPCB          118.443249\n",
       "Sirifort_CPCB          107.629116\n",
       "SoniaVihar_DPCC        106.452801\n",
       "VivekVihar_DPCC        114.340096\n",
       "Wazirpur_DPCC          135.973206\n",
       "Name: 2019, dtype: float64"
      ]
     },
     "execution_count": 40,
     "metadata": {},
     "output_type": "execute_result"
    }
   ],
   "source": [
    "df_govt_hotspots"
   ]
  },
  {
   "cell_type": "markdown",
   "id": "2239e02c-e234-4879-ab32-29624d9fc4d8",
   "metadata": {},
   "source": [
    "## APH Paper Hotspots"
   ]
  },
  {
   "cell_type": "code",
   "execution_count": 41,
   "id": "dec532cb-20e0-45c4-99f2-a88480bd079a",
   "metadata": {},
   "outputs": [],
   "source": [
    "df_kai = df_kai.groupby(df_kai.index.date).mean()\n",
    "df_gov = df_gov.groupby(df_gov.index.date).mean()"
   ]
  },
  {
   "cell_type": "code",
   "execution_count": 46,
   "id": "6a06d6c2-bfc6-4610-9c4c-9927fbb44556",
   "metadata": {},
   "outputs": [],
   "source": [
    "df_kai.index = pd.to_datetime(df_kai.index)"
   ]
  },
  {
   "cell_type": "code",
   "execution_count": 48,
   "id": "61fbd6a9-42d0-4ba9-acf6-3808c82bdab1",
   "metadata": {},
   "outputs": [],
   "source": [
    "df_gov.index = pd.to_datetime(df_gov.index)"
   ]
  },
  {
   "cell_type": "code",
   "execution_count": 50,
   "id": "5ae66aeb-4312-461c-99c1-18973e3b20ed",
   "metadata": {},
   "outputs": [],
   "source": [
    "df_kai_2018 = df_kai[df_kai.index.year==2018]\n",
    "df_kai_2019 = df_kai[df_kai.index.year==2019]\n",
    "df_kai_2020 = df_kai[df_kai.index.year==2020]"
   ]
  },
  {
   "cell_type": "code",
   "execution_count": 51,
   "id": "4333b397-5da7-4418-aba4-29d9f5441609",
   "metadata": {},
   "outputs": [],
   "source": [
    "df_gov_2018 = df_gov[df_gov.index.year==2018]\n",
    "df_gov_2019 = df_gov[df_gov.index.year==2019]\n",
    "df_gov_2020 = df_gov[df_gov.index.year==2020]"
   ]
  },
  {
   "cell_type": "code",
   "execution_count": 82,
   "id": "25fe0caf-c03a-4ac6-9ca9-619f4809ae34",
   "metadata": {},
   "outputs": [],
   "source": [
    "def process_month(df_kai_month, df_gov_month, year):\n",
    "    kai_freq, kai_scale, kai_cons = 0, 0, 0\n",
    "    for sensor in df_kai_month.columns:\n",
    "        if(df_kai_month[sensor].isna().sum()>10):\n",
    "            continue\n",
    "        if(len(df_kai_month[sensor][df_kai_month[sensor]>60])>0.6*len(df_kai_month[sensor].dropna())):\n",
    "            kai_freq += 1\n",
    "        if(df_kai_month[sensor].mean()>90):\n",
    "            kai_scale += 1\n",
    "        y = df_kai_month[sensor].dropna()\n",
    "        y = y-60\n",
    "        y = (y>0).astype(int)\n",
    "        y = y * (y.groupby((y != y.shift()).cumsum()).cumcount() + 1)\n",
    "        if(max(y)>=3):\n",
    "            kai_cons += 1\n",
    "    \n",
    "    gov_freq, gov_scale, gov_cons = 0, 0, 0\n",
    "    for sensor in df_gov_month.columns:\n",
    "        if(df_gov_month[sensor].isna().sum()>10):\n",
    "            continue\n",
    "        if(len(df_gov_month[sensor][df_gov_month[sensor]>60])>0.6*len(df_gov_month[sensor].dropna())):\n",
    "            gov_freq += 1\n",
    "        if(df_gov_month[sensor].mean()>90):\n",
    "            gov_scale += 1\n",
    "        y = df_gov_month[sensor].dropna()\n",
    "        y = y-60\n",
    "        y = (y>0).astype(int)\n",
    "        y = y * (y.groupby((y != y.shift()).cumsum()).cumcount() + 1)\n",
    "        if(max(y)>=3):\n",
    "            gov_cons += 1\n",
    "            \n",
    "    print(str(year)+\"-\"+str(month), \"(\"+str(gov_freq)+\",\"+str(gov_scale)+\",\"+str(gov_cons)+\")\", \"(\"+str(kai_freq)+\",\"+str(kai_scale)+\",\"+str(kai_cons)+\")\")"
   ]
  },
  {
   "cell_type": "code",
   "execution_count": 83,
   "id": "147a951c-5b59-47e9-bd17-6bff485097f7",
   "metadata": {},
   "outputs": [
    {
     "name": "stdout",
     "output_type": "stream",
     "text": [
      "2018-5 (24,11,27) (7,0,10)\n",
      "2018-6 (9,8,27) (1,0,7)\n",
      "2018-7 (0,0,14) (1,0,4)\n",
      "2018-8 (0,0,12) (0,0,1)\n",
      "2018-9 (0,1,23) (2,0,11)\n",
      "2018-10 (31,29,32) (13,13,13)\n",
      "2018-11 (32,32,32) (15,15,15)\n",
      "2018-12 (32,32,32) (16,16,16)\n",
      "2019-1 (32,32,32) (17,17,17)\n",
      "2019-2 (30,29,32) (16,16,16)\n",
      "2019-3 (29,11,32) (13,0,16)\n",
      "2019-4 (23,10,32) (0,0,9)\n",
      "2019-5 (27,12,32) (0,0,12)\n",
      "2019-6 (9,3,26) (0,0,0)\n",
      "2019-7 (0,0,23) (0,0,2)\n",
      "2019-8 (0,0,2) (0,0,1)\n",
      "2019-9 (0,0,14) (0,0,4)\n",
      "2019-10 (32,32,32) (7,7,7)\n",
      "2019-11 (32,32,32) (8,8,8)\n",
      "2019-12 (31,31,31) (8,8,8)\n",
      "2020-1 (31,31,31) (5,5,5)\n",
      "2020-2 (31,28,31) (4,4,4)\n",
      "2020-3 (5,0,29) (0,0,3)\n",
      "2020-4 (1,0,9) (0,0,0)\n",
      "2020-5 (2,1,27) (0,0,0)\n",
      "2020-6 (0,0,7) (0,0,0)\n",
      "2020-7 (0,0,5) (0,0,0)\n",
      "2020-8 (0,0,0) (0,0,0)\n",
      "2020-9 (0,0,21) (0,0,0)\n"
     ]
    }
   ],
   "source": [
    "# year 2018\n",
    "for month in range(5,13):\n",
    "    df_kai_month = df_kai_2018[df_kai_2018.index.month==month]\n",
    "    df_gov_month = df_gov_2018[df_gov_2018.index.month==month]\n",
    "    \n",
    "    process_month(df_kai_month, df_gov_month, 2018)\n",
    "    \n",
    "    \n",
    "# year 2019\n",
    "for month in range(1,13):\n",
    "    df_kai_month = df_kai_2019[df_kai_2019.index.month==month]\n",
    "    df_gov_month = df_gov_2019[df_gov_2019.index.month==month]\n",
    "    \n",
    "    process_month(df_kai_month, df_gov_month, 2019)\n",
    "    \n",
    "# year 2020\n",
    "for month in range(1,10):\n",
    "    df_kai_month = df_kai_2020[df_kai_2020.index.month==month]\n",
    "    df_gov_month = df_gov_2020[df_gov_2020.index.month==month]\n",
    "    \n",
    "    process_month(df_kai_month, df_gov_month, 2020)"
   ]
  },
  {
   "cell_type": "code",
   "execution_count": null,
   "id": "bd8dce46-b6aa-4f2a-817a-cecf14ddc2a8",
   "metadata": {},
   "outputs": [],
   "source": []
  }
 ],
 "metadata": {
  "kernelspec": {
   "display_name": "Python 3 (ipykernel)",
   "language": "python",
   "name": "python3"
  },
  "language_info": {
   "codemirror_mode": {
    "name": "ipython",
    "version": 3
   },
   "file_extension": ".py",
   "mimetype": "text/x-python",
   "name": "python",
   "nbconvert_exporter": "python",
   "pygments_lexer": "ipython3",
   "version": "3.10.0"
  }
 },
 "nbformat": 4,
 "nbformat_minor": 5
}
