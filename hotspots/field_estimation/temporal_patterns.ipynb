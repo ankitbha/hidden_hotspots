{
 "cells": [
  {
   "cell_type": "markdown",
   "id": "18d3f756-879b-4a84-8445-458a2b56107a",
   "metadata": {},
   "source": [
    "# Imports"
   ]
  },
  {
   "cell_type": "code",
   "execution_count": 1,
   "id": "33417175-fdbc-4397-b84e-05adbe804268",
   "metadata": {},
   "outputs": [
    {
     "name": "stderr",
     "output_type": "stream",
     "text": [
      "2023-08-23 19:40:19.783335: I tensorflow/core/util/port.cc:110] oneDNN custom operations are on. You may see slightly different numerical results due to floating-point round-off errors from different computation orders. To turn them off, set the environment variable `TF_ENABLE_ONEDNN_OPTS=0`.\n",
      "2023-08-23 19:40:20.744171: I tensorflow/tsl/cuda/cudart_stub.cc:28] Could not find cuda drivers on your machine, GPU will not be used.\n",
      "2023-08-23 19:40:22.807193: I tensorflow/tsl/cuda/cudart_stub.cc:28] Could not find cuda drivers on your machine, GPU will not be used.\n",
      "2023-08-23 19:40:22.808922: I tensorflow/core/platform/cpu_feature_guard.cc:182] This TensorFlow binary is optimized to use available CPU instructions in performance-critical operations.\n",
      "To enable the following instructions: AVX2 AVX512F AVX512_VNNI FMA, in other operations, rebuild TensorFlow with the appropriate compiler flags.\n",
      "2023-08-23 19:40:38.485804: W tensorflow/compiler/tf2tensorrt/utils/py_utils.cc:38] TF-TRT Warning: Could not find TensorRT\n"
     ]
    }
   ],
   "source": [
    "%load_ext autoreload\n",
    "%autoreload 2\n",
    "import os\n",
    "import sys\n",
    "import pytz\n",
    "import argparse\n",
    "# import jax.numpy as jnp\n",
    "import numpy as np\n",
    "import pandas as pd\n",
    "import matplotlib.pyplot as plt\n",
    "from tqdm import tqdm\n",
    "from geopy import distance\n",
    "import datetime\n",
    "import tilemapbase\n",
    "from copy import deepcopy\n",
    "import pickle as pkl\n",
    "from PIL import Image\n",
    "import skimage.measure\n",
    "import math\n",
    "import warnings\n",
    "warnings.filterwarnings('ignore')\n",
    "warnings.simplefilter('ignore')\n",
    "os.environ['PYTHONWARNINGS']='ignore'\n",
    "import hyperopt\n",
    "from joblib import Parallel, delayed\n",
    "import random\n",
    "random.seed(42)\n",
    "import scipy\n",
    "import torch\n",
    "from sklearn.model_selection import train_test_split\n",
    "from scipy.interpolate import CubicSpline\n",
    "from sklearn.gaussian_process import GaussianProcessRegressor\n",
    "import sklearn.gaussian_process.kernels as kernels\n",
    "import gpflow"
   ]
  },
  {
   "cell_type": "code",
   "execution_count": 2,
   "id": "95171489-940b-45bc-bd77-fa9146c08950",
   "metadata": {},
   "outputs": [],
   "source": [
    "source = 'combined'\n",
    "sensor = 'pm25'\n",
    "res_time = '1H'\n",
    "filepath_root = '/scratch/ab9738/pollution_with_sensors/'"
   ]
  },
  {
   "cell_type": "markdown",
   "id": "aaaab54f-bfe0-4754-8731-a1fca16b5a46",
   "metadata": {},
   "source": [
    "# Data Loading"
   ]
  },
  {
   "cell_type": "code",
   "execution_count": 3,
   "id": "62e68722-d61d-495e-a5b5-2ef0f67bef47",
   "metadata": {},
   "outputs": [],
   "source": [
    "filepath_data_kai = filepath_root+'data/kaiterra/kaiterra_fieldeggid_{}_current_panel.csv'.format(res_time)\n",
    "filepath_data_gov = filepath_root+'data/govdata/govdata_{}_current.csv'.format(res_time)\n",
    "filepath_locs_kai = filepath_root+'data/kaiterra/kaiterra_locations.csv'\n",
    "filepath_locs_gov = filepath_root+'data/govdata/govdata_locations.csv'\n",
    "\n",
    "locs_kai = pd.read_csv(filepath_locs_kai, index_col=[0])\n",
    "locs_kai['Type'] = 'Kaiterra'\n",
    "locs_gov = pd.read_csv(filepath_locs_gov, index_col=[0])\n",
    "locs_gov['Type'] = 'Govt'\n",
    "locs = pd.merge(locs_kai, locs_gov, how='outer',\\\n",
    "                on=['Monitor ID', 'Latitude', 'Longitude', 'Location', 'Type'], copy=False)\n",
    "data_kai = pd.read_csv(filepath_data_kai, index_col=[0,1], parse_dates=True)[sensor]\n",
    "data_gov = pd.read_csv(filepath_data_gov, index_col=[0,1], parse_dates=True)[sensor]\n",
    "data = pd.concat([data_kai, data_gov], axis=0, copy=False)\n",
    "data.replace(0,np.nan,inplace=True)\n",
    "\n",
    "start_dt = data.index.levels[1][0]\n",
    "end_dt = data.index.levels[1][-1]\n",
    "\n",
    "if start_dt.tzname != 'IST':\n",
    "        if start_dt.tzinfo is None:\n",
    "            start_dt = start_dt.tz_localize('UTC')\n",
    "        start_dt = start_dt.tz_convert(pytz.FixedOffset(330))\n",
    "    \n",
    "if end_dt.tzname != 'IST':\n",
    "    if end_dt.tzinfo is None: \n",
    "        end_dt = end_dt.tz_localize('UTC')\n",
    "    end_dt = end_dt.tz_convert(pytz.FixedOffset(330))\n",
    "\n",
    "# now, filter through the start and end dates\n",
    "data.sort_index(inplace=True)\n",
    "data = data.loc[(slice(None), slice(start_dt, end_dt))]\n",
    "\n",
    "if(source=='govdata'):\n",
    "    df = data_gov.unstack(level=0)\n",
    "elif(source=='kaiterra'):\n",
    "    df = data_kai.unstack(level=0)\n",
    "else:\n",
    "    df = data.unstack(level=0)\n",
    "distances = pd.read_csv('/scratch/ab9738/pollution_with_sensors/data/combined_distances.csv', index_col=[0])\n",
    "distances = distances.loc[df.columns, df.columns]\n",
    "distances[distances == 0] = np.nan"
   ]
  },
  {
   "cell_type": "code",
   "execution_count": 4,
   "id": "8c68409d-effd-49b7-a54a-aa3f6269896e",
   "metadata": {},
   "outputs": [],
   "source": [
    "df = np.log(df)"
   ]
  },
  {
   "cell_type": "code",
   "execution_count": 5,
   "id": "9f16b60e-eb52-45d4-871a-7f9093cee5dd",
   "metadata": {},
   "outputs": [
    {
     "data": {
      "text/html": [
       "<div>\n",
       "<style scoped>\n",
       "    .dataframe tbody tr th:only-of-type {\n",
       "        vertical-align: middle;\n",
       "    }\n",
       "\n",
       "    .dataframe tbody tr th {\n",
       "        vertical-align: top;\n",
       "    }\n",
       "\n",
       "    .dataframe thead th {\n",
       "        text-align: right;\n",
       "    }\n",
       "</style>\n",
       "<table border=\"1\" class=\"dataframe\">\n",
       "  <thead>\n",
       "    <tr style=\"text-align: right;\">\n",
       "      <th></th>\n",
       "      <th>UDID</th>\n",
       "      <th>Latitude</th>\n",
       "      <th>Longitude</th>\n",
       "      <th>Address</th>\n",
       "      <th>Location</th>\n",
       "      <th>Type</th>\n",
       "    </tr>\n",
       "    <tr>\n",
       "      <th>Monitor ID</th>\n",
       "      <th></th>\n",
       "      <th></th>\n",
       "      <th></th>\n",
       "      <th></th>\n",
       "      <th></th>\n",
       "      <th></th>\n",
       "    </tr>\n",
       "  </thead>\n",
       "  <tbody>\n",
       "    <tr>\n",
       "      <th>BB4A</th>\n",
       "      <td>492457f434f94afc865bb4701990bb4a</td>\n",
       "      <td>28.554980</td>\n",
       "      <td>77.194430</td>\n",
       "      <td>Jamun</td>\n",
       "      <td>Hauz Khas Village</td>\n",
       "      <td>Kaiterra</td>\n",
       "    </tr>\n",
       "    <tr>\n",
       "      <th>91B8</th>\n",
       "      <td>ea3ceeefd9654dfd9aab41422f7391b8</td>\n",
       "      <td>28.503050</td>\n",
       "      <td>77.185660</td>\n",
       "      <td>Vihara</td>\n",
       "      <td>Chhatapur</td>\n",
       "      <td>Kaiterra</td>\n",
       "    </tr>\n",
       "    <tr>\n",
       "      <th>BC46</th>\n",
       "      <td>29b8262425cf4135899cd65b2458bc46</td>\n",
       "      <td>28.632950</td>\n",
       "      <td>77.288700</td>\n",
       "      <td>Segel Design</td>\n",
       "      <td>Preet Vihar</td>\n",
       "      <td>Kaiterra</td>\n",
       "    </tr>\n",
       "    <tr>\n",
       "      <th>BFDC</th>\n",
       "      <td>11047d2ddc514f63a12ad4f1ad3bbfdc</td>\n",
       "      <td>28.521083</td>\n",
       "      <td>77.214237</td>\n",
       "      <td>Arundhati</td>\n",
       "      <td>Saket</td>\n",
       "      <td>Kaiterra</td>\n",
       "    </tr>\n",
       "    <tr>\n",
       "      <th>D804</th>\n",
       "      <td>f083e8afd43e4727a5eb7f3a1529d804</td>\n",
       "      <td>28.558230</td>\n",
       "      <td>77.208620</td>\n",
       "      <td>EPoD</td>\n",
       "      <td>Yusuf Sarai</td>\n",
       "      <td>Kaiterra</td>\n",
       "    </tr>\n",
       "    <tr>\n",
       "      <th>...</th>\n",
       "      <td>...</td>\n",
       "      <td>...</td>\n",
       "      <td>...</td>\n",
       "      <td>...</td>\n",
       "      <td>...</td>\n",
       "      <td>...</td>\n",
       "    </tr>\n",
       "    <tr>\n",
       "      <th>Sirifort_CPCB</th>\n",
       "      <td>NaN</td>\n",
       "      <td>28.550425</td>\n",
       "      <td>77.215938</td>\n",
       "      <td>NaN</td>\n",
       "      <td>Sirifort, New Delhi - CPCB</td>\n",
       "      <td>Govt</td>\n",
       "    </tr>\n",
       "    <tr>\n",
       "      <th>SoniaVihar_DPCC</th>\n",
       "      <td>NaN</td>\n",
       "      <td>28.710508</td>\n",
       "      <td>77.249485</td>\n",
       "      <td>NaN</td>\n",
       "      <td>Sonia Vihar, Delhi - DPCC</td>\n",
       "      <td>Govt</td>\n",
       "    </tr>\n",
       "    <tr>\n",
       "      <th>SriAurobindoMarg_DPCC</th>\n",
       "      <td>NaN</td>\n",
       "      <td>28.531346</td>\n",
       "      <td>77.190156</td>\n",
       "      <td>NaN</td>\n",
       "      <td>Sri Aurobindo Marg, Delhi - DPCC</td>\n",
       "      <td>Govt</td>\n",
       "    </tr>\n",
       "    <tr>\n",
       "      <th>VivekVihar_DPCC</th>\n",
       "      <td>NaN</td>\n",
       "      <td>28.672342</td>\n",
       "      <td>77.315260</td>\n",
       "      <td>NaN</td>\n",
       "      <td>Vivek Vihar, Delhi - DPCC</td>\n",
       "      <td>Govt</td>\n",
       "    </tr>\n",
       "    <tr>\n",
       "      <th>Wazirpur_DPCC</th>\n",
       "      <td>NaN</td>\n",
       "      <td>28.699793</td>\n",
       "      <td>77.165453</td>\n",
       "      <td>NaN</td>\n",
       "      <td>Wazirpur, Delhi - DPCC</td>\n",
       "      <td>Govt</td>\n",
       "    </tr>\n",
       "  </tbody>\n",
       "</table>\n",
       "<p>62 rows × 6 columns</p>\n",
       "</div>"
      ],
      "text/plain": [
       "                                                   UDID   Latitude  Longitude  \\\n",
       "Monitor ID                                                                      \n",
       "BB4A                   492457f434f94afc865bb4701990bb4a  28.554980  77.194430   \n",
       "91B8                   ea3ceeefd9654dfd9aab41422f7391b8  28.503050  77.185660   \n",
       "BC46                   29b8262425cf4135899cd65b2458bc46  28.632950  77.288700   \n",
       "BFDC                   11047d2ddc514f63a12ad4f1ad3bbfdc  28.521083  77.214237   \n",
       "D804                   f083e8afd43e4727a5eb7f3a1529d804  28.558230  77.208620   \n",
       "...                                                 ...        ...        ...   \n",
       "Sirifort_CPCB                                       NaN  28.550425  77.215938   \n",
       "SoniaVihar_DPCC                                     NaN  28.710508  77.249485   \n",
       "SriAurobindoMarg_DPCC                               NaN  28.531346  77.190156   \n",
       "VivekVihar_DPCC                                     NaN  28.672342  77.315260   \n",
       "Wazirpur_DPCC                                       NaN  28.699793  77.165453   \n",
       "\n",
       "                            Address                          Location  \\\n",
       "Monitor ID                                                              \n",
       "BB4A                          Jamun                 Hauz Khas Village   \n",
       "91B8                         Vihara                         Chhatapur   \n",
       "BC46                   Segel Design                       Preet Vihar   \n",
       "BFDC                      Arundhati                             Saket   \n",
       "D804                           EPoD                       Yusuf Sarai   \n",
       "...                             ...                               ...   \n",
       "Sirifort_CPCB                   NaN        Sirifort, New Delhi - CPCB   \n",
       "SoniaVihar_DPCC                 NaN         Sonia Vihar, Delhi - DPCC   \n",
       "SriAurobindoMarg_DPCC           NaN  Sri Aurobindo Marg, Delhi - DPCC   \n",
       "VivekVihar_DPCC                 NaN         Vivek Vihar, Delhi - DPCC   \n",
       "Wazirpur_DPCC                   NaN            Wazirpur, Delhi - DPCC   \n",
       "\n",
       "                           Type  \n",
       "Monitor ID                       \n",
       "BB4A                   Kaiterra  \n",
       "91B8                   Kaiterra  \n",
       "BC46                   Kaiterra  \n",
       "BFDC                   Kaiterra  \n",
       "D804                   Kaiterra  \n",
       "...                         ...  \n",
       "Sirifort_CPCB              Govt  \n",
       "SoniaVihar_DPCC            Govt  \n",
       "SriAurobindoMarg_DPCC      Govt  \n",
       "VivekVihar_DPCC            Govt  \n",
       "Wazirpur_DPCC              Govt  \n",
       "\n",
       "[62 rows x 6 columns]"
      ]
     },
     "execution_count": 5,
     "metadata": {},
     "output_type": "execute_result"
    }
   ],
   "source": [
    "locs"
   ]
  },
  {
   "cell_type": "code",
   "execution_count": 20,
   "id": "1eeb8a7c-1ce3-46f4-a147-846fd38468b8",
   "metadata": {},
   "outputs": [],
   "source": [
    "mean_by_ts = df.mean(axis=1)"
   ]
  },
  {
   "cell_type": "code",
   "execution_count": 21,
   "id": "79312893-0fee-4c8c-99fb-f9093de4ea43",
   "metadata": {},
   "outputs": [
    {
     "data": {
      "text/plain": [
       "timestamp_round\n",
       "2018-05-01 00:00:00+05:30    4.179304\n",
       "2018-05-01 01:00:00+05:30    3.925796\n",
       "2018-05-01 02:00:00+05:30    3.807353\n",
       "2018-05-01 03:00:00+05:30    3.862095\n",
       "2018-05-01 04:00:00+05:30    3.807360\n",
       "                               ...   \n",
       "2020-10-31 19:00:00+05:30    4.665083\n",
       "2020-10-31 20:00:00+05:30    4.918314\n",
       "2020-10-31 21:00:00+05:30    5.146825\n",
       "2020-10-31 22:00:00+05:30    5.344013\n",
       "2020-10-31 23:00:00+05:30    5.616525\n",
       "Length: 21960, dtype: float64"
      ]
     },
     "execution_count": 21,
     "metadata": {},
     "output_type": "execute_result"
    }
   ],
   "source": [
    "mean_by_ts"
   ]
  },
  {
   "cell_type": "code",
   "execution_count": 22,
   "id": "f1709d2f-e943-493a-9a65-39faf0f1dc45",
   "metadata": {},
   "outputs": [
    {
     "data": {
      "text/plain": [
       "[<matplotlib.lines.Line2D at 0x1478c1bc0af0>]"
      ]
     },
     "execution_count": 22,
     "metadata": {},
     "output_type": "execute_result"
    },
    {
     "data": {
      "image/png": "[encoded data removed]",
      "text/plain": [
       "<Figure size 432x288 with 1 Axes>"
      ]
     },
     "metadata": {
      "needs_background": "light"
     },
     "output_type": "display_data"
    }
   ],
   "source": [
    "plt.plot(mean_by_ts)"
   ]
  },
  {
   "cell_type": "code",
   "execution_count": 23,
   "id": "8da983fb-4ccc-44a5-aac3-4a48c153f0a2",
   "metadata": {},
   "outputs": [],
   "source": [
    "mean_by_month = mean_by_ts.groupby(mean_by_ts.index.month).mean()"
   ]
  },
  {
   "cell_type": "code",
   "execution_count": 24,
   "id": "92ab2e65-8749-4a1e-a35e-3915a7c81b2f",
   "metadata": {},
   "outputs": [
    {
     "data": {
      "text/plain": [
       "[<matplotlib.lines.Line2D at 0x1478c1ddc6a0>]"
      ]
     },
     "execution_count": 24,
     "metadata": {},
     "output_type": "execute_result"
    },
    {
     "data": {
      "image/png": "[encoded data removed]",
      "text/plain": [
       "<Figure size 432x288 with 1 Axes>"
      ]
     },
     "metadata": {
      "needs_background": "light"
     },
     "output_type": "display_data"
    }
   ],
   "source": [
    "plt.plot(mean_by_month)"
   ]
  },
  {
   "cell_type": "code",
   "execution_count": 27,
   "id": "fbd875fe-3db9-4e83-97c1-3f74cf1f7b43",
   "metadata": {},
   "outputs": [],
   "source": [
    "mean_by_date = mean_by_ts.groupby(mean_by_ts.index.day).mean()"
   ]
  },
  {
   "cell_type": "code",
   "execution_count": 28,
   "id": "c3cde8bb-7098-4184-ae90-ad58a46f61f5",
   "metadata": {},
   "outputs": [
    {
     "data": {
      "text/plain": [
       "[<matplotlib.lines.Line2D at 0x1478c18634f0>]"
      ]
     },
     "execution_count": 28,
     "metadata": {},
     "output_type": "execute_result"
    },
    {
     "data": {
      "image/png": "[encoded data removed]",
      "text/plain": [
       "<Figure size 432x288 with 1 Axes>"
      ]
     },
     "metadata": {
      "needs_background": "light"
     },
     "output_type": "display_data"
    }
   ],
   "source": [
    "plt.plot(mean_by_date)"
   ]
  },
  {
   "cell_type": "code",
   "execution_count": 29,
   "id": "144371dc-7a1a-4a97-84c6-f9a971ad8232",
   "metadata": {},
   "outputs": [],
   "source": [
    "mean_by_day = mean_by_ts.groupby(mean_by_ts.index.day_name()).mean()"
   ]
  },
  {
   "cell_type": "code",
   "execution_count": 34,
   "id": "c4e15628-f589-4d19-b062-87230de579c7",
   "metadata": {},
   "outputs": [],
   "source": [
    "mean_by_day = mean_by_day.loc[['Monday', 'Tuesday', 'Wednesday', 'Thursday', 'Friday', 'Saturday', 'Sunday']]"
   ]
  },
  {
   "cell_type": "code",
   "execution_count": 35,
   "id": "47f04ae2-fbd2-4d78-a1c5-0669a35a1b7f",
   "metadata": {},
   "outputs": [
    {
     "data": {
      "text/plain": [
       "[<matplotlib.lines.Line2D at 0x1478c0304af0>]"
      ]
     },
     "execution_count": 35,
     "metadata": {},
     "output_type": "execute_result"
    },
    {
     "data": {
      "image/png": "[encoded data removed]",
      "text/plain": [
       "<Figure size 432x288 with 1 Axes>"
      ]
     },
     "metadata": {
      "needs_background": "light"
     },
     "output_type": "display_data"
    }
   ],
   "source": [
    "plt.plot(mean_by_day)"
   ]
  },
  {
   "cell_type": "code",
   "execution_count": 36,
   "id": "58b29bd8-b265-4bc7-980c-98e266570d0d",
   "metadata": {},
   "outputs": [],
   "source": [
    "mean_by_year = mean_by_ts.groupby(mean_by_ts.index.year).mean()"
   ]
  },
  {
   "cell_type": "code",
   "execution_count": 37,
   "id": "6ea65584-8620-437d-8e2b-e4e3eab7d56d",
   "metadata": {},
   "outputs": [
    {
     "data": {
      "text/plain": [
       "timestamp_round\n",
       "2018    4.300534\n",
       "2019    4.239226\n",
       "2020    3.888642\n",
       "dtype: float64"
      ]
     },
     "execution_count": 37,
     "metadata": {},
     "output_type": "execute_result"
    }
   ],
   "source": [
    "mean_by_year"
   ]
  },
  {
   "cell_type": "code",
   "execution_count": null,
   "id": "a4ffaa63-f6b3-46d3-a37e-dcb8ef47be43",
   "metadata": {},
   "outputs": [],
   "source": []
  }
 ],
 "metadata": {
  "kernelspec": {
   "display_name": "Python 3 (ipykernel)",
   "language": "python",
   "name": "python3"
  },
  "language_info": {
   "codemirror_mode": {
    "name": "ipython",
    "version": 3
   },
   "file_extension": ".py",
   "mimetype": "text/x-python",
   "name": "python",
   "nbconvert_exporter": "python",
   "pygments_lexer": "ipython3",
   "version": "3.10.0"
  }
 },
 "nbformat": 4,
 "nbformat_minor": 5
}
