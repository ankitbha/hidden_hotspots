{
 "cells": [
  {
   "cell_type": "code",
   "execution_count": 1,
   "id": "c3265bcd-098c-444e-b9ec-7b6e01d0d048",
   "metadata": {},
   "outputs": [
    {
     "data": {
      "text/plain": [
       "'\\nUniversal Kriging Example\\n=========================\\n\\nIn this example we apply a regional linear trend to the kriging system.\\n\\n'"
      ]
     },
     "execution_count": 1,
     "metadata": {},
     "output_type": "execute_result"
    }
   ],
   "source": [
    "\"\"\"\n",
    "Universal Kriging Example\n",
    "=========================\n",
    "\n",
    "In this example we apply a regional linear trend to the kriging system.\n",
    "\n",
    "\"\"\""
   ]
  },
  {
   "cell_type": "code",
   "execution_count": 2,
   "id": "46909bfc-7b7a-456c-861e-334c5123f254",
   "metadata": {},
   "outputs": [],
   "source": [
    "import matplotlib.pyplot as plt\n",
    "import numpy as np\n",
    "\n",
    "from pykrige.uk import UniversalKriging"
   ]
  },
  {
   "cell_type": "code",
   "execution_count": 3,
   "id": "f2e59ace-9ee6-406e-aea1-066212608814",
   "metadata": {},
   "outputs": [],
   "source": [
    "data = np.array(\n",
    "    [\n",
    "        [0.3, 1.2, 0.47],\n",
    "        [1.9, 0.6, 0.56],\n",
    "        [1.1, 3.2, 0.74],\n",
    "        [3.3, 4.4, 1.47],\n",
    "        [4.7, 3.8, 1.74],\n",
    "    ]\n",
    ")"
   ]
  },
  {
   "cell_type": "code",
   "execution_count": 4,
   "id": "0d6c7d45-6384-4be3-8a31-e968a43f1f66",
   "metadata": {},
   "outputs": [],
   "source": [
    "gridx = np.arange(0.0, 5.5, 0.5)\n",
    "gridy = np.arange(0.0, 5.5, 0.5)"
   ]
  },
  {
   "cell_type": "code",
   "execution_count": 5,
   "id": "6a01dcbd-4d8d-44ee-bbca-47b428398769",
   "metadata": {},
   "outputs": [],
   "source": [
    "###############################################################################\n",
    "# Create the universal kriging object. Required inputs are the X-coordinates of\n",
    "# the data points, the Y-coordinates of the data points, and the Z-values of the\n",
    "# data points. Variogram is handled as in the ordinary kriging case.\n",
    "# drift_terms is a list of the drift terms to include; currently supported terms\n",
    "# are 'regional_linear', 'point_log', and 'external_Z'. Refer to\n",
    "# UniversalKriging.__doc__ for more information.\n",
    "\n",
    "UK = UniversalKriging(\n",
    "    data[:, 0],\n",
    "    data[:, 1],\n",
    "    data[:, 2],\n",
    "    variogram_model=\"linear\",\n",
    "    drift_terms=[\"regional_linear\"],\n",
    ")"
   ]
  },
  {
   "cell_type": "code",
   "execution_count": 7,
   "id": "23976b10-b73d-4af0-802d-40819df7a98a",
   "metadata": {},
   "outputs": [
    {
     "data": {
      "text/plain": [
       "array([0.3, 1.9, 1.1, 3.3, 4.7])"
      ]
     },
     "execution_count": 7,
     "metadata": {},
     "output_type": "execute_result"
    }
   ],
   "source": [
    "data[:,0]"
   ]
  },
  {
   "cell_type": "code",
   "execution_count": 6,
   "id": "ae8c034e-2f24-4a37-aa31-54c2a3c73138",
   "metadata": {},
   "outputs": [
    {
     "data": {
      "image/png": "[encoded data removed]",
      "text/plain": [
       "<Figure size 432x288 with 1 Axes>"
      ]
     },
     "metadata": {
      "needs_background": "light"
     },
     "output_type": "display_data"
    }
   ],
   "source": [
    "###############################################################################\n",
    "# Creates the kriged grid and the variance grid. Allows for kriging on a rectangular\n",
    "# grid of points, on a masked rectangular grid of points, or with arbitrary points.\n",
    "# (See UniversalKriging.__doc__ for more information.)\n",
    "\n",
    "z, ss = UK.execute(\"grid\", gridx, gridy)\n",
    "plt.imshow(z)\n",
    "plt.show()"
   ]
  },
  {
   "cell_type": "code",
   "execution_count": null,
   "id": "8068e887-3951-45d4-adfb-a82754173150",
   "metadata": {},
   "outputs": [],
   "source": []
  }
 ],
 "metadata": {
  "kernelspec": {
   "display_name": "Python 3 (ipykernel)",
   "language": "python",
   "name": "python3"
  },
  "language_info": {
   "codemirror_mode": {
    "name": "ipython",
    "version": 3
   },
   "file_extension": ".py",
   "mimetype": "text/x-python",
   "name": "python",
   "nbconvert_exporter": "python",
   "pygments_lexer": "ipython3",
   "version": "3.10.0"
  }
 },
 "nbformat": 4,
 "nbformat_minor": 5
}
