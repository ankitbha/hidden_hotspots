{
 "cells": [
  {
   "cell_type": "code",
   "execution_count": 18,
   "metadata": {},
   "outputs": [
    {
     "name": "stdout",
     "output_type": "stream",
     "text": [
      "The autoreload extension is already loaded. To reload it, use:\n",
      "  %reload_ext autoreload\n"
     ]
    }
   ],
   "source": [
    "%load_ext autoreload\n",
    "%autoreload 2\n",
    "%matplotlib inline"
   ]
  },
  {
   "cell_type": "code",
   "execution_count": 149,
   "metadata": {},
   "outputs": [],
   "source": [
    "from glob import glob\n",
    "import matplotlib.pyplot as plt\n",
    "import json\n",
    "from configs import *"
   ]
  },
  {
   "cell_type": "code",
   "execution_count": 20,
   "metadata": {},
   "outputs": [
    {
     "name": "stdout",
     "output_type": "stream",
     "text": [
      "216\n"
     ]
    }
   ],
   "source": [
    "logfiles = sorted(glob('outputs/*'))\n",
    "print(len(logfiles))"
   ]
  },
  {
   "cell_type": "code",
   "execution_count": 21,
   "metadata": {},
   "outputs": [
    {
     "name": "stdout",
     "output_type": "stream",
     "text": [
      "217\n"
     ]
    }
   ],
   "source": [
    "pltfiles = sorted(glob('images/plots/*'))\n",
    "print(len(pltfiles))"
   ]
  },
  {
   "cell_type": "code",
   "execution_count": 22,
   "metadata": {},
   "outputs": [],
   "source": [
    "nTargets = 6\n",
    "nFolds = 9"
   ]
  },
  {
   "cell_type": "code",
   "execution_count": 23,
   "metadata": {
    "scrolled": true
   },
   "outputs": [
    {
     "name": "stdout",
     "output_type": "stream",
     "text": [
      "{'joint': 54, 'ours': 54, 'ours_w': 54, 'joint_w': 54}\n"
     ]
    }
   ],
   "source": [
    "modes = ['ours', 'ours_w', 'joint', 'joint_w']\n",
    "meta = {}\n",
    "for group in modes: \n",
    "    meta[group] = [None] * nTargets\n",
    "    for tii in range(nTargets):\n",
    "        meta[group][tii] = [None] *nFolds\n",
    "\n",
    "mcount = {}\n",
    "for md in modes: mcount[md] = 0\n",
    "for lf in logfiles:\n",
    "    mode = lf.split('-')[0].split('/')[1]\n",
    "    if mode not in modes: continue\n",
    "        \n",
    "    mcount[mode] += 1\n",
    "        \n",
    "    target = int(lf.split('targ_')[1][0])\n",
    "    fold = int(lf.split('fold_')[1][0])\n",
    "\n",
    "    with open(lf) as fl:\n",
    "        hist = [json.loads(line) for line in fl.read().split('\\n') if line]\n",
    "    ent = dict(log=lf, history=hist)\n",
    "#     print(mode, target, fold)\n",
    "    if meta[mode][target][fold] is not None:\n",
    "        \n",
    "        raise Exception('Indexing error')\n",
    "    meta[mode][target][fold] = ent\n",
    "    \n",
    "print(mcount)"
   ]
  },
  {
   "cell_type": "code",
   "execution_count": 24,
   "metadata": {},
   "outputs": [],
   "source": [
    "def fold_avg_prop(mode, fold, prop):\n",
    "    agg = 0\n",
    "    for target in meta[mode]:\n",
    "#         print(targ)\n",
    "        val = min([ent[prop] for ent in target[fold]['history']])\n",
    "        agg += val\n",
    "#     print(agg)\n",
    "    return agg / nTargets"
   ]
  },
  {
   "cell_type": "code",
   "execution_count": 30,
   "metadata": {},
   "outputs": [],
   "source": [
    "PROPS = ['MSE_TEST', 'MAPE_TEST']\n",
    "import numpy as np\n",
    "\n",
    "def table_fold(mode, printout=False):\n",
    "    mdstr = ' (%s)' % mode\n",
    "    mse = [fold_avg_prop(mode, ii, 'MSE_TEST') for ii in range(nFolds)]\n",
    "    mape = [fold_avg_prop(mode, ii, 'MAPE') for ii in range(nFolds)]\n",
    "    \n",
    "    mseline = '\\t'.join(['MSE%s' % mdstr] \\\n",
    "                    + ['%.2f' % val for val in mse] + ['%.2f' % np.mean(mse)])\n",
    "    mapeline = '\\t'.join(['MAPE%s' % mdstr] \\\n",
    "                    + ['%.2f' % val for val in mape] + ['%.2f' % np.mean(mape)])\n",
    "    \n",
    "    return [mseline, mapeline]"
   ]
  },
  {
   "cell_type": "code",
   "execution_count": 31,
   "metadata": {},
   "outputs": [
    {
     "name": "stdout",
     "output_type": "stream",
     "text": [
      "metric\tfold-1\tfold-2\tfold-3\tfold-4\tfold-5\tfold-6\tfold-7\tfold-8\tfold-9\tfold-avg\n",
      "MSE (ours)\t631.77\t167.52\t332.37\t276.03\t230.27\t527.06\t89.54\t284.00\t182.43\t302.33\n",
      "MSE (ours_w)\t622.80\t168.15\t332.52\t268.47\t230.73\t529.85\t88.87\t286.82\t202.25\t303.38\n",
      "MSE (joint)\t625.93\t180.86\t342.95\t279.63\t276.02\t545.42\t114.41\t288.09\t176.60\t314.44\n",
      "MSE (joint_w)\t604.97\t182.98\t338.05\t276.48\t261.39\t552.48\t108.52\t290.64\t178.11\t310.40\n",
      "MAPE (ours)\t16.89\t16.82\t18.55\t15.76\t19.18\t16.94\t12.43\t9.12\t15.08\t15.64\n",
      "MAPE (ours_w)\t16.99\t16.65\t18.59\t15.43\t19.39\t16.88\t12.16\t9.17\t15.87\t15.68\n",
      "MAPE (joint)\t17.27\t17.43\t19.10\t15.91\t22.98\t17.86\t13.97\t9.66\t15.35\t16.61\n",
      "MAPE (joint_w)\t16.87\t17.38\t19.14\t15.85\t22.27\t17.49\t13.39\t9.84\t15.11\t16.37\n"
     ]
    }
   ],
   "source": [
    "header = '\\t'.join(['metric'] + ['fold-%d' % ii for ii in range(1, 10)] + ['fold-avg'])\n",
    "lines = table_fold('ours') + table_fold('ours_w') \\\n",
    "    + table_fold('joint') + table_fold('joint_w')\n",
    "\n",
    "with open('table-fold.tsv', 'w') as fl:\n",
    "    print(header)\n",
    "    fl.write(header + '\\n')\n",
    "    \n",
    "    \n",
    "    for jj in range(len(PROPS)):\n",
    "        for ii in range(len(modes)):\n",
    "                ind = ii * len(PROPS) + jj\n",
    "                print(lines[ind])\n",
    "                fl.write(lines[ind] + '\\n')"
   ]
  },
  {
   "cell_type": "code",
   "execution_count": 171,
   "metadata": {},
   "outputs": [
    {
     "data": {
      "text/plain": [
       "(141.28680792215906, 62.73091989530781, 249.84833818227634)"
      ]
     },
     "execution_count": 171,
     "metadata": {},
     "output_type": "execute_result"
    }
   ],
   "source": [
    "def loc_avg_prop(mode, loc, prop, post=None):\n",
    "    agg = []\n",
    "    # mode, target, fold\n",
    "    for fold in meta[mode][loc]:\n",
    "        val = min([ent[prop] for ent in fold['history']])\n",
    "#         val = [ent[prop] for ent in fold['history']][-1]\n",
    "        agg.append(val)\n",
    "        \n",
    "    assert len(agg) == nFolds\n",
    "    if post is not None:\n",
    "        agg = post(agg)\n",
    "    res = np.mean(agg), np.min(agg), np.max(agg)\n",
    "    if res[2] > 2000:\n",
    "        print(agg)\n",
    "        print(mode, loc)\n",
    "    return res\n",
    "loc_avg_prop('ours', 0, 'MSE_TEST')"
   ]
  },
  {
   "cell_type": "code",
   "execution_count": 206,
   "metadata": {},
   "outputs": [
    {
     "data": {
      "image/png": "[encoded data removed]",
      "text/plain": [
       "<Figure size 1008x360 with 2 Axes>"
      ]
     },
     "metadata": {},
     "output_type": "display_data"
    }
   ],
   "source": [
    "mse = [loc_avg_prop(\n",
    "    mode, ii, 'MSE_TEST') for ii in range(nTargets)]\n",
    "mape = [loc_avg_prop(mode, ii, 'MAPE') for ii in range(nTargets)]\n",
    "\n",
    "fig, axleft = plt.subplots(figsize=(14, 5))\n",
    "\n",
    "plt.rc('font', size=13)\n",
    "axleft.plot([-0.5, 5.5], [0,0], color='#CCCCCC')\n",
    "\n",
    "yscale = (-30, 150)\n",
    "components = zip(*mse)\n",
    "mus, mins, maxs = [np.array(ls) for ls in components]\n",
    "p0 = axleft.errorbar(\n",
    "    np.arange(len(mus)), \n",
    "    mus, \n",
    "    yerr=[mus - mins, maxs - mus], capsize=3, fmt='--o')\n",
    "axleft.set_ylim(0, 1800)\n",
    "\n",
    "axright = axleft.twinx()\n",
    "components = zip(*mape)\n",
    "scale = 1\n",
    "mus, mins, maxs = [np.array(ls) *scale for ls in components]\n",
    "p1 = axright.errorbar(\n",
    "    np.arange(len(mus)) + 0.05, \n",
    "    mus, \n",
    "    yerr=[mus - mins, maxs - mus], capsize=3, fmt='-o', color='C1')\n",
    "axright.set_ylim(0, 36)\n",
    "\n",
    "# axright.set_xticks([0, 1])\n",
    "# axright.set_xticklabels(['hello', 'world'])\n",
    "\n",
    "axright.set_ylabel('MAPE (%)', color='C1')\n",
    "axleft.set_ylabel('MSE (pm.25 ^2)', color='C0')\n",
    "# plt.xticks(np.arange(6), [nm[0] for nm in SEGMENTS[3]['locations']])\n",
    "plt.xticks(np.arange(6), ['ABCDEF'[ii] for ii in range(6)])\n",
    "# plt.yticks(np.arange(0, 100, 10), np.arange(0, 100, 10))\n",
    "fig.tight_layout()\n",
    "plt.show(); plt.close()"
   ]
  },
  {
   "cell_type": "code",
   "execution_count": 209,
   "metadata": {},
   "outputs": [
    {
     "name": "stdout",
     "output_type": "stream",
     "text": [
      "MSE (ours)\t141.29\t184.55\t667.56\t252.30\t404.44\t163.87\t302.33\n",
      "MAPE (ours)\t13.29\t14.18\t20.23\t18.64\t13.21\t14.30\t15.64\n"
     ]
    }
   ],
   "source": [
    "def table_loc(mode, printout=False, stat=0):\n",
    "    mdstr = ' (%s)' % mode\n",
    "    \n",
    "    mse = [loc_avg_prop(mode, ii, 'MSE_TEST')[stat] for ii in range(nTargets)]\n",
    "    mape = [loc_avg_prop(mode, ii, 'MAPE')[stat] for ii in range(nTargets)]\n",
    "    \n",
    "    mseline = '\\t'.join(['MSE%s' % mdstr] \\\n",
    "                    + ['%.2f' % val for val in mse] + ['%.2f' % np.mean(mse)])\n",
    "    mapeline = '\\t'.join(['MAPE%s' % mdstr] \\\n",
    "                    + ['%.2f' % val for val in mape] + ['%.2f' % np.mean(mape)])\n",
    "    \n",
    "    if printout:\n",
    "        print(mseline)\n",
    "        print(mapeline)\n",
    "        \n",
    "    return [mseline, mapeline]\n",
    "\n",
    "_ = table_loc('ours', printout=True)"
   ]
  },
  {
   "cell_type": "code",
   "execution_count": 216,
   "metadata": {},
   "outputs": [
    {
     "name": "stdout",
     "output_type": "stream",
     "text": [
      "metric\tA\tB\tC\tD\tE\tF\tloc-avg\n",
      "MSE (ours)\t141.29\t184.55\t667.56\t252.30\t404.44\t163.87\t302.33\n",
      "MSE (ours_w)\t152.16\t187.52\t670.85\t244.87\t400.88\t164.03\t303.38\n",
      "MSE (joint)\t130.89\t221.70\t667.48\t266.96\t426.43\t173.14\t314.44\n",
      "MSE (joint_w)\t134.75\t212.12\t667.46\t257.19\t423.30\t167.59\t310.40\n",
      "MAPE (ours)\t13.29\t14.18\t20.23\t18.64\t13.21\t14.30\t15.64\n",
      "MAPE (ours_w)\t14.06\t14.33\t20.43\t17.83\t13.20\t14.22\t15.68\n",
      "MAPE (joint)\t13.61\t15.97\t20.97\t20.35\t14.01\t14.77\t16.61\n",
      "MAPE (joint_w)\t13.68\t15.85\t20.76\t19.60\t13.86\t14.47\t16.37\n"
     ]
    }
   ],
   "source": [
    "def loc_table(stat=0):\n",
    "    header = '\\t'.join(['metric'] + ['ABCDEF'[ii] for ii in range(nTargets)] + ['loc-avg'])\n",
    "    lines = table_loc('ours', stat=stat) + table_loc('ours_w', stat=stat) \\\n",
    "        + table_loc('joint', stat=stat) + table_loc('joint_w', stat=stat)\n",
    "\n",
    "    with open('table-loc.tsv', 'w') as fl:\n",
    "        print(header)\n",
    "        fl.write(header + '\\n')\n",
    "\n",
    "\n",
    "        for jj in range(len(PROPS)):\n",
    "            for ii in range(len(modes)):\n",
    "                    ind = ii * len(PROPS) + jj\n",
    "                    print(lines[ind])\n",
    "                    fl.write(lines[ind] + '\\n')\n",
    "loc_table()"
   ]
  },
  {
   "cell_type": "code",
   "execution_count": 215,
   "metadata": {},
   "outputs": [
    {
     "name": "stdout",
     "output_type": "stream",
     "text": [
      "metric\tA\tB\tC\tD\tE\tF\tloc-avg\n",
      "MSE (ours)\t249.85\t552.91\t1693.25\t748.76\t1444.84\t266.09\t825.95\n",
      "MSE (ours_w)\t278.53\t529.39\t1698.80\t703.05\t1459.68\t265.71\t822.53\n",
      "MSE (joint)\t247.07\t603.43\t1642.98\t719.70\t1473.77\t289.45\t829.40\n",
      "MSE (joint_w)\t257.33\t547.71\t1648.37\t705.38\t1503.14\t262.33\t820.71\n",
      "MAPE (ours)\t21.07\t20.51\t29.40\t28.76\t18.62\t17.43\t22.63\n",
      "MAPE (ours_w)\t25.35\t20.77\t29.84\t28.71\t18.55\t17.38\t23.43\n",
      "MAPE (joint)\t19.44\t21.37\t34.15\t30.61\t19.86\t20.36\t24.30\n",
      "MAPE (joint_w)\t19.71\t21.44\t33.85\t30.66\t19.19\t18.30\t23.86\n"
     ]
    }
   ],
   "source": [
    "loc_table(stat=2)"
   ]
  }
 ],
 "metadata": {
  "kernelspec": {
   "display_name": "Python 3",
   "language": "python",
   "name": "python3"
  },
  "language_info": {
   "codemirror_mode": {
    "name": "ipython",
    "version": 3
   },
   "file_extension": ".py",
   "mimetype": "text/x-python",
   "name": "python",
   "nbconvert_exporter": "python",
   "pygments_lexer": "ipython3",
   "version": "3.5.2"
  }
 },
 "nbformat": 4,
 "nbformat_minor": 2
}
