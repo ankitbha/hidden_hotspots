{
 "cells": [
  {
   "cell_type": "code",
   "execution_count": 1,
   "metadata": {},
   "outputs": [],
   "source": [
    "%load_ext autoreload\n",
    "%autoreload 2\n",
    "%matplotlib inline"
   ]
  },
  {
   "cell_type": "code",
   "execution_count": 20,
   "metadata": {},
   "outputs": [],
   "source": [
    "from glob import glob\n",
    "import matplotlib.pyplot as plt\n",
    "import json"
   ]
  },
  {
   "cell_type": "code",
   "execution_count": 7,
   "metadata": {},
   "outputs": [
    {
     "name": "stdout",
     "output_type": "stream",
     "text": [
      "54\n"
     ]
    }
   ],
   "source": [
    "logfiles = sorted(glob('saved/outputs/*'))\n",
    "print(len(logfiles))"
   ]
  },
  {
   "cell_type": "code",
   "execution_count": 8,
   "metadata": {},
   "outputs": [
    {
     "name": "stdout",
     "output_type": "stream",
     "text": [
      "54\n"
     ]
    }
   ],
   "source": [
    "pltfiles = sorted(glob('saved/images/plots/*'))\n",
    "print(len(pltfiles))"
   ]
  },
  {
   "cell_type": "code",
   "execution_count": 17,
   "metadata": {},
   "outputs": [],
   "source": [
    "nTargets = 6\n",
    "nFolds = 9"
   ]
  },
  {
   "cell_type": "code",
   "execution_count": 23,
   "metadata": {},
   "outputs": [],
   "source": [
    "meta = {}\n",
    "for lf, pf in zip(logfiles, pltfiles):\n",
    "    target = int(lf.split('targ_')[1][0])\n",
    "    fold = int(lf.split('fold_')[1][0])\n",
    "#     print(target, fold)\n",
    "    if target not in meta: meta[target] = [None for _ in range(nFolds)]\n",
    "    with open(lf) as fl:\n",
    "        hist = [json.loads(line) for line in fl.read().split('\\n') if line]\n",
    "    ent = dict(log=lf, plot=pf, history=hist)\n",
    "    meta[target][fold] = ent"
   ]
  },
  {
   "cell_type": "code",
   "execution_count": 41,
   "metadata": {},
   "outputs": [],
   "source": [
    "def fold_avg_prop(fold, prop):\n",
    "    agg = 0\n",
    "    for targ in meta.values():\n",
    "#         print(targ)\n",
    "        val = min([ent[prop] for ent in targ[fold]['history']])\n",
    "        agg += val\n",
    "#     print(agg)\n",
    "    return agg / nTargets"
   ]
  },
  {
   "cell_type": "code",
   "execution_count": 47,
   "metadata": {},
   "outputs": [
    {
     "name": "stdout",
     "output_type": "stream",
     "text": [
      "metric\tfold-1\tfold-2\tfold-3\tfold-4\tfold-5\tfold-6\tfold-7\tfold-8\tfold-9\n",
      "MSE\t704.92\t180.90\t361.23\t302.26\t256.38\t556.54\t106.90\t300.64\t221.11\n",
      "MAPE\t17.73\t17.78\t18.99\t16.96\t21.01\t18.21\t13.42\t10.41\t15.98\n"
     ]
    }
   ],
   "source": [
    "PROPS = ['MSE_TEST', 'MAPE_TEST']\n",
    "\n",
    "print('\\t'.join(['metric'] + ['fold-%d' % ii for ii in range(1, 10)]))\n",
    "print('\\t'.join(['MSE'] + ['%.2f' % fold_avg_prop(ii, 'MSE_TEST') for ii in range(nFolds)]))\n",
    "print('\\t'.join(['MAPE'] + ['%.2f' % fold_avg_prop(ii, 'MAPE') for ii in range(nFolds)]))\n",
    " "
   ]
  },
  {
   "cell_type": "code",
   "execution_count": null,
   "metadata": {},
   "outputs": [],
   "source": []
  }
 ],
 "metadata": {
  "kernelspec": {
   "display_name": "Python 3",
   "language": "python",
   "name": "python3"
  },
  "language_info": {
   "codemirror_mode": {
    "name": "ipython",
    "version": 3
   },
   "file_extension": ".py",
   "mimetype": "text/x-python",
   "name": "python",
   "nbconvert_exporter": "python",
   "pygments_lexer": "ipython3",
   "version": "3.5.2"
  }
 },
 "nbformat": 4,
 "nbformat_minor": 2
}
