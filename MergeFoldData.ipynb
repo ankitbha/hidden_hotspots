{
 "cells": [
  {
   "cell_type": "code",
   "execution_count": 1,
   "metadata": {},
   "outputs": [],
   "source": [
    "%load_ext autoreload\n",
    "%autoreload 2\n",
    "%matplotlib inline"
   ]
  },
  {
   "cell_type": "code",
   "execution_count": 2,
   "metadata": {},
   "outputs": [],
   "source": [
    "from glob import glob\n",
    "import matplotlib.pyplot as plt\n",
    "import json"
   ]
  },
  {
   "cell_type": "code",
   "execution_count": 4,
   "metadata": {},
   "outputs": [
    {
     "name": "stdout",
     "output_type": "stream",
     "text": [
      "110\n"
     ]
    }
   ],
   "source": [
    "logfiles = sorted(glob('outputs/*'))\n",
    "print(len(logfiles))"
   ]
  },
  {
   "cell_type": "code",
   "execution_count": 5,
   "metadata": {},
   "outputs": [
    {
     "name": "stdout",
     "output_type": "stream",
     "text": [
      "109\n"
     ]
    }
   ],
   "source": [
    "pltfiles = sorted(glob('images/plots/*'))\n",
    "print(len(pltfiles))"
   ]
  },
  {
   "cell_type": "code",
   "execution_count": 6,
   "metadata": {},
   "outputs": [],
   "source": [
    "nTargets = 6\n",
    "nFolds = 9"
   ]
  },
  {
   "cell_type": "code",
   "execution_count": 39,
   "metadata": {
    "scrolled": true
   },
   "outputs": [
    {
     "name": "stdout",
     "output_type": "stream",
     "text": [
      "{'ours': 54, 'ours_w': 54}\n"
     ]
    }
   ],
   "source": [
    "modes = ['ours', 'ours_w']\n",
    "meta = {}\n",
    "for group in modes: \n",
    "    meta[group] = [None] * nTargets\n",
    "    for tii in range(nTargets):\n",
    "        meta[group][tii] = [None] *nFolds\n",
    "\n",
    "mcount = {}\n",
    "for md in modes: mcount[md] = 0\n",
    "for lf in logfiles:\n",
    "    mode = lf.split('-')[0].split('/')[1]\n",
    "    if mode not in modes: continue\n",
    "        \n",
    "    mcount[mode] += 1\n",
    "        \n",
    "    target = int(lf.split('targ_')[1][0])\n",
    "    fold = int(lf.split('fold_')[1][0])\n",
    "\n",
    "    with open(lf) as fl:\n",
    "        hist = [json.loads(line) for line in fl.read().split('\\n') if line]\n",
    "    ent = dict(log=lf, plot=pf, history=hist)\n",
    "#     print(mode, target, fold)\n",
    "    if meta[mode][target][fold] is not None:\n",
    "        \n",
    "        raise Exception('Indexing error')\n",
    "    meta[mode][target][fold] = ent\n",
    "    \n",
    "print(mcount)"
   ]
  },
  {
   "cell_type": "code",
   "execution_count": 34,
   "metadata": {},
   "outputs": [],
   "source": [
    "def fold_avg_prop(mode, fold, prop):\n",
    "    agg = 0\n",
    "    for target in meta[mode]:\n",
    "#         print(targ)\n",
    "        val = min([ent[prop] for ent in target[fold]['history']])\n",
    "        agg += val\n",
    "#     print(agg)\n",
    "    return agg / nTargets"
   ]
  },
  {
   "cell_type": "code",
   "execution_count": 51,
   "metadata": {},
   "outputs": [],
   "source": [
    "PROPS = ['MSE_TEST', 'MAPE_TEST']\n",
    "import numpy as np\n",
    "\n",
    "def table(mode, printout=False):\n",
    "    mdstr = ' (%s)' % mode\n",
    "    mse = [fold_avg_prop(mode, ii, 'MSE_TEST') for ii in range(nFolds)]\n",
    "    mape = [fold_avg_prop(mode, ii, 'MAPE') for ii in range(nFolds)]\n",
    "    \n",
    "    mseline = '\\t'.join(['MSE%s' % mdstr] \\\n",
    "                    + ['%.2f' % val for val in mse] + ['%.2f' % np.mean(mse)])\n",
    "    mapeline = '\\t'.join(['MAPE%s' % mdstr] \\\n",
    "                    + ['%.2f' % val for val in mape] + ['%.2f' % np.mean(mape)])\n",
    "    \n",
    "    return [mseline, mapeline]"
   ]
  },
  {
   "cell_type": "code",
   "execution_count": 55,
   "metadata": {},
   "outputs": [
    {
     "name": "stdout",
     "output_type": "stream",
     "text": [
      "metric\tfold-1\tfold-2\tfold-3\tfold-4\tfold-5\tfold-6\tfold-7\tfold-8\tfold-9\tfold-avg\n",
      "MSE (ours)\t631.77\t167.52\t332.37\t276.03\t230.27\t527.06\t89.54\t284.00\t182.43\t302.33\n",
      "MSE (ours_w)\t622.80\t168.15\t332.52\t268.47\t230.73\t529.85\t88.87\t286.82\t202.25\t303.38\n",
      "MAPE (ours)\t16.89\t16.82\t18.55\t15.76\t19.18\t16.94\t12.43\t9.12\t15.08\t15.64\n",
      "MAPE (ours_w)\t16.99\t16.65\t18.59\t15.43\t19.39\t16.88\t12.16\t9.17\t15.87\t15.68\n"
     ]
    }
   ],
   "source": [
    "header = '\\t'.join(['metric'] + ['fold-%d' % ii for ii in range(1, 10)] + ['fold-avg'])\n",
    "lines = table('ours') + table('ours_w')\n",
    "\n",
    "print(header)\n",
    "print(lines[0])\n",
    "print(lines[2])\n",
    "print(lines[1])\n",
    "print(lines[3])\n",
    "\n",
    "with open('table-fold.tsv', 'w') as fl:\n",
    "    fl.write(header + '\\n')\n",
    "    fl.write(lines[0] + '\\n')\n",
    "    fl.write(lines[2] + '\\n')\n",
    "    fl.write(lines[1] + '\\n')\n",
    "    fl.write(lines[3] + '\\n')"
   ]
  },
  {
   "cell_type": "code",
   "execution_count": null,
   "metadata": {},
   "outputs": [],
   "source": []
  }
 ],
 "metadata": {
  "kernelspec": {
   "display_name": "Python 3",
   "language": "python",
   "name": "python3"
  },
  "language_info": {
   "codemirror_mode": {
    "name": "ipython",
    "version": 3
   },
   "file_extension": ".py",
   "mimetype": "text/x-python",
   "name": "python",
   "nbconvert_exporter": "python",
   "pygments_lexer": "ipython3",
   "version": "3.5.2"
  }
 },
 "nbformat": 4,
 "nbformat_minor": 2
}
