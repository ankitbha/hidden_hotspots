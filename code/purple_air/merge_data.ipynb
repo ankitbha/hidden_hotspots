{
 "cells": [
  {
   "cell_type": "code",
   "execution_count": 2,
   "id": "2d6bb8d1-cc09-417f-8d11-9d8bf8d4005a",
   "metadata": {},
   "outputs": [],
   "source": [
    "import pandas as pd"
   ]
  },
  {
   "cell_type": "code",
   "execution_count": 3,
   "id": "fac91521-dbd7-48c3-8d20-50c975732d5d",
   "metadata": {},
   "outputs": [],
   "source": [
    "import os"
   ]
  },
  {
   "cell_type": "code",
   "execution_count": 10,
   "id": "e4a42a65-8812-4f2d-a1bf-1958b889a4b1",
   "metadata": {},
   "outputs": [],
   "source": [
    "file_path = '/scratch/ab9738/hidden_hotspots/data/PurpleAir Download 4-11-2024/'"
   ]
  },
  {
   "cell_type": "code",
   "execution_count": 11,
   "id": "e072a964-1cdb-468b-a714-cd15e284f19a",
   "metadata": {},
   "outputs": [],
   "source": [
    "data_files = os.listdir(file_path)"
   ]
  },
  {
   "cell_type": "code",
   "execution_count": 12,
   "id": "24b08ba3-43ff-4922-968a-145f359085d0",
   "metadata": {},
   "outputs": [],
   "source": [
    "data_files.remove('Progress_Logs.log')"
   ]
  },
  {
   "cell_type": "code",
   "execution_count": 26,
   "id": "71493b8b-0109-4ff3-94b1-9aa6bb0dccd3",
   "metadata": {},
   "outputs": [],
   "source": [
    "df_list = []\n",
    "for file in data_files:\n",
    "    df = pd.read_csv(file_path+file)\n",
    "    df.columns = ['time_stamp',file.split(' ')[0]]\n",
    "    df = df.set_index('time_stamp')\n",
    "    df_list.append(df)"
   ]
  },
  {
   "cell_type": "code",
   "execution_count": 27,
   "id": "8e7e884a-d7c8-4d1f-9d57-abceed25e134",
   "metadata": {},
   "outputs": [],
   "source": [
    "df = df_list[0].join(df_list[1:], how='outer')"
   ]
  },
  {
   "cell_type": "code",
   "execution_count": 33,
   "id": "e340fd54-aa47-4104-93f6-d81a56d9c96f",
   "metadata": {},
   "outputs": [],
   "source": [
    "df.to_csv('/scratch/ab9738/hidden_hotspots/data/purple_air_2023_nyc.csv')"
   ]
  },
  {
   "cell_type": "code",
   "execution_count": null,
   "id": "7dda525f-a46f-446d-aa86-73f74d3b2989",
   "metadata": {},
   "outputs": [],
   "source": []
  }
 ],
 "metadata": {
  "kernelspec": {
   "display_name": "Python 3 (ipykernel)",
   "language": "python",
   "name": "python3"
  },
  "language_info": {
   "codemirror_mode": {
    "name": "ipython",
    "version": 3
   },
   "file_extension": ".py",
   "mimetype": "text/x-python",
   "name": "python",
   "nbconvert_exporter": "python",
   "pygments_lexer": "ipython3",
   "version": "3.10.0"
  }
 },
 "nbformat": 4,
 "nbformat_minor": 5
}
