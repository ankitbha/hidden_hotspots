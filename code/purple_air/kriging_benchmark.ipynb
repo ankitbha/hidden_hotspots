{
 "cells": [
  {
   "cell_type": "code",
   "execution_count": 1,
   "id": "17c31ed2-f487-4370-af24-ddb9ec0eb112",
   "metadata": {},
   "outputs": [],
   "source": [
    "import os\n",
    "import sys\n",
    "import pytz\n",
    "import numpy as np\n",
    "import pandas as pd\n",
    "from tqdm import tqdm\n",
    "from geopy import distance\n",
    "import datetime\n",
    "from copy import deepcopy\n",
    "import pickle as pkl\n",
    "import skimage.measure\n",
    "import math\n",
    "import warnings\n",
    "warnings.filterwarnings('ignore')\n",
    "warnings.simplefilter('ignore')\n",
    "os.environ['PYTHONWARNINGS']='ignore'\n",
    "from joblib import Parallel, delayed\n",
    "import scipy\n",
    "from pykrige.ok import OrdinaryKriging\n",
    "from pykrige.ok3d import OrdinaryKriging3D\n",
    "from sklearn.model_selection import train_test_split\n",
    "from scipy.interpolate import CubicSpline"
   ]
  },
  {
   "cell_type": "code",
   "execution_count": 42,
   "id": "3c2219f4-5851-4f63-aa53-f9a5d319f25c",
   "metadata": {},
   "outputs": [],
   "source": [
    "DELHI_DATA_MEAN = 98.566\n",
    "DELHI_DATA_STD = 32.538"
   ]
  },
  {
   "cell_type": "code",
   "execution_count": 43,
   "id": "afdd1ca2-588f-41e3-a6b0-332628b01c54",
   "metadata": {},
   "outputs": [],
   "source": [
    "locs = pd.read_csv('/scratch/ab9738/hidden_hotspots/data/purpleair_nyc_sensor_locations.csv')\n",
    "\n",
    "locs['SensorIndex'] = locs['SensorIndex'].apply(str)\n",
    "\n",
    "locs = locs.set_index('SensorIndex')\n",
    "\n",
    "data = pd.read_csv('/scratch/ab9738/hidden_hotspots/data/purple_air_2023_nyc.csv',index_col=0,parse_dates=True)\n",
    "\n",
    "data[data <= 1] = np.nan\n",
    "data[data > 500] = np.nan\n",
    "\n",
    "df = deepcopy(data)"
   ]
  },
  {
   "cell_type": "code",
   "execution_count": 44,
   "id": "9d5d5f46-654a-4691-acb2-ab5e674ddd6c",
   "metadata": {},
   "outputs": [
    {
     "data": {
      "text/plain": [
       "13.653352971828864"
      ]
     },
     "execution_count": 44,
     "metadata": {},
     "output_type": "execute_result"
    }
   ],
   "source": [
    "df.stack().mean()"
   ]
  },
  {
   "cell_type": "code",
   "execution_count": 45,
   "id": "380c4fb7-a6c5-4119-a0b4-8fd6828af667",
   "metadata": {},
   "outputs": [
    {
     "data": {
      "text/plain": [
       "10.155040795366453"
      ]
     },
     "execution_count": 45,
     "metadata": {},
     "output_type": "execute_result"
    }
   ],
   "source": [
    "df.std(axis=1).mean()"
   ]
  },
  {
   "cell_type": "markdown",
   "id": "ee3b8abb-e4bf-4a86-bad1-6dcb99d547f6",
   "metadata": {},
   "source": [
    "Space Time Kriging"
   ]
  },
  {
   "cell_type": "code",
   "execution_count": 46,
   "id": "13d553ac-1c9b-49ed-933b-feeaa64d94d8",
   "metadata": {},
   "outputs": [],
   "source": [
    "def process_row(idx, row, seed):\n",
    "    window_size = 3\n",
    "    i = np.where(np.array(df.index) == idx)[0][0]\n",
    "    df_slice = pd.concat([df[i-window_size:i],df[i+1:i+window_size+1]])\n",
    "    x_win = locs.loc[df.columns]['Longitude'].values\n",
    "    x_win = np.tile(x_win,df_slice.shape[0])\n",
    "    y_win = locs.loc[df.columns]['Latitude'].values\n",
    "    y_win = np.tile(y_win,df_slice.shape[0])    \n",
    "    z_win = np.concatenate([np.arange(i-window_size,i),np.arange(i+1,i+window_size+1)])*0.01\n",
    "    z_win = np.repeat(z_win,len(df.columns))\n",
    "    vals_win = df_slice.values.flatten()\n",
    "    x_win = x_win[~np.isnan(vals_win)]\n",
    "    y_win = y_win[~np.isnan(vals_win)]\n",
    "    z_win = z_win[~np.isnan(vals_win)]\n",
    "    vals_win = vals_win[~np.isnan(vals_win)]\n",
    "    \n",
    "    x = locs.loc[df.columns]['Longitude'].values\n",
    "    y = locs.loc[df.columns]['Latitude'].values\n",
    "    z = np.ones_like(x)*i*0.01\n",
    "    vals = row.values\n",
    "    cols = np.array(df.columns)[~np.isnan(vals)]\n",
    "    x = x[~np.isnan(vals)]\n",
    "    y = y[~np.isnan(vals)]\n",
    "    z = z[~np.isnan(vals)]\n",
    "    vals = vals[~np.isnan(vals)]\n",
    "    \n",
    "    if(len(cols)<10):\n",
    "        return(np.nan,np.nan)\n",
    "    \n",
    "    x_train, x_test, y_train, y_test, z_train, z_test, vals_train, vals_test, cols_train, cols_test = train_test_split(\n",
    "        x, y, z, vals, cols, test_size=0.2, random_state=seed\n",
    "    )\n",
    "    \n",
    "    x_train = np.concatenate([x_train,x_win])\n",
    "    y_train = np.concatenate([y_train,y_win])\n",
    "    z_train = np.concatenate([z_train,z_win])\n",
    "    vals_train = np.concatenate([vals_train,vals_win])\n",
    "\n",
    "\n",
    "    OK3D = OrdinaryKriging3D(\n",
    "        x_train,\n",
    "        y_train,\n",
    "        z_train,\n",
    "        vals_train,\n",
    "        variogram_model=\"linear\",\n",
    "        verbose=False,\n",
    "        enable_plotting=False,\n",
    "    )\n",
    "\n",
    "    vals_pred, ss_pred = OK3D.execute(\"points\", x_test, y_test, z_test)\n",
    "    ape_for_row = np.abs(vals_test-vals_pred)/vals_test\n",
    "    se_for_row = np.square(vals_test-vals_pred)\n",
    "    return(ape_for_row,se_for_row)"
   ]
  },
  {
   "cell_type": "code",
   "execution_count": 47,
   "id": "916f0875-606e-41b8-98d0-668778caa240",
   "metadata": {},
   "outputs": [
    {
     "name": "stdout",
     "output_type": "stream",
     "text": [
      "25.766294033537285\n",
      "39.785661578122024\n",
      "29.411725940544628\n",
      "32.08411030941708\n",
      "35.93992325100309\n"
     ]
    }
   ],
   "source": [
    "for i in range(40,45):    \n",
    "    result_list = Parallel(n_jobs=12)(delayed(process_row)(idx,row, i) for idx,row in df[4:-4].iterrows())\n",
    "\n",
    "    ape = [x for (x,y) in result_list]\n",
    "    se = [y for (x,y) in result_list]\n",
    "    ape = [x for x in ape if str(x) != 'nan']\n",
    "    se = [x for x in se if str(x) != 'nan']\n",
    "    ape_arr = np.concatenate(ape)\n",
    "    se_arr = np.concatenate(se)\n",
    "    mape = np.mean(ape_arr)\n",
    "    rmse = np.sqrt(np.mean(se_arr))\n",
    "\n",
    "    rmse_normalized = (rmse/df.std(axis=1).mean())*DELHI_DATA_STD\n",
    "\n",
    "    print(rmse_normalized)"
   ]
  },
  {
   "cell_type": "markdown",
   "id": "fb374eeb-c8bf-40f1-a111-8ef7b4ab7577",
   "metadata": {},
   "source": [
    "Ordinary Kriging"
   ]
  },
  {
   "cell_type": "code",
   "execution_count": 48,
   "id": "405c57c3-f475-48de-9b2c-37c46867b90a",
   "metadata": {},
   "outputs": [],
   "source": [
    "def process_row(idx, row, seed):\n",
    "    x = locs.loc[df.columns]['Longitude'].values\n",
    "    y = locs.loc[df.columns]['Latitude'].values\n",
    "    z = row.values\n",
    "    \n",
    "    cols = np.array(df.columns)[~np.isnan(z)]\n",
    "    x = x[~np.isnan(z)]\n",
    "    y = y[~np.isnan(z)]\n",
    "    z = z[~np.isnan(z)]\n",
    "    \n",
    "    if(len(cols)<10):\n",
    "        return(np.nan,np.nan)\n",
    "    \n",
    "    x_train, x_test, y_train, y_test, z_train, z_test, cols_train, cols_test = train_test_split(\n",
    "        x, y, z, cols, test_size=0.2, random_state=seed\n",
    "    )\n",
    "\n",
    "    OK = OrdinaryKriging(\n",
    "        x_train,\n",
    "        y_train,\n",
    "        z_train,\n",
    "        variogram_model=\"gaussian\",\n",
    "        verbose=False,\n",
    "        enable_plotting=False,\n",
    "    )\n",
    "\n",
    "    z_pred, ss_pred = OK.execute(\"points\", x_test, y_test)\n",
    "    ape_for_row = np.abs(z_test-z_pred)/z_test\n",
    "    se_for_row = se_for_row = np.square(z_test-z_pred)\n",
    "    return(ape_for_row,se_for_row)"
   ]
  },
  {
   "cell_type": "code",
   "execution_count": 49,
   "id": "4ff4dcec-6ac3-460b-a4e9-3759af612f87",
   "metadata": {},
   "outputs": [
    {
     "name": "stdout",
     "output_type": "stream",
     "text": [
      "71.8480247149197\n",
      "62.792906300250536\n",
      "51.189591350848616\n",
      "65.13911220757099\n",
      "75.1538213860424\n"
     ]
    }
   ],
   "source": [
    "for i in range(40,45):    \n",
    "    result_list = Parallel(n_jobs=12)(delayed(process_row)(idx,row, i) for idx,row in df[4:-4].iterrows())\n",
    "\n",
    "    ape = [x for (x,y) in result_list]\n",
    "    se = [y for (x,y) in result_list]\n",
    "    ape = [x for x in ape if str(x) != 'nan']\n",
    "    se = [x for x in se if str(x) != 'nan']\n",
    "    ape_arr = np.concatenate(ape)\n",
    "    se_arr = np.concatenate(se)\n",
    "    mape = np.mean(ape_arr)\n",
    "    rmse = np.sqrt(np.mean(se_arr))\n",
    "\n",
    "    rmse_normalized = (rmse/df.std(axis=1).mean())*DELHI_DATA_STD\n",
    "\n",
    "    print(rmse_normalized)"
   ]
  },
  {
   "cell_type": "markdown",
   "id": "4dac942c-3a8e-4f28-b02d-fc9c8f05fe4d",
   "metadata": {},
   "source": [
    "Values for 5 random seeds"
   ]
  },
  {
   "cell_type": "code",
   "execution_count": 50,
   "id": "e7501160-20d7-4a68-9ca9-9b61eaffcd14",
   "metadata": {},
   "outputs": [],
   "source": [
    "st_krig = np.array([25.766, 39.786, 29.412, 32.084, 35.940])\n",
    "ord_krig = np.array([71.848, 62.793, 51.190, 65.139, 75.154])"
   ]
  },
  {
   "cell_type": "code",
   "execution_count": 51,
   "id": "179284df-93b6-49bd-92e7-443723e1b677",
   "metadata": {},
   "outputs": [
    {
     "name": "stdout",
     "output_type": "stream",
     "text": [
      "32.5976 4.8974957519124\n"
     ]
    }
   ],
   "source": [
    "print(st_krig.mean(),st_krig.std())"
   ]
  },
  {
   "cell_type": "code",
   "execution_count": 52,
   "id": "87c10997-0113-4a08-a753-9e77004addea",
   "metadata": {},
   "outputs": [
    {
     "name": "stdout",
     "output_type": "stream",
     "text": [
      "65.22479999999999 8.310865355665436\n"
     ]
    }
   ],
   "source": [
    "print(ord_krig.mean(), ord_krig.std())"
   ]
  },
  {
   "cell_type": "code",
   "execution_count": null,
   "id": "04d4554f-69f9-4a84-86cd-365fe8e5def3",
   "metadata": {},
   "outputs": [],
   "source": []
  }
 ],
 "metadata": {
  "kernelspec": {
   "display_name": "Python 3 (ipykernel)",
   "language": "python",
   "name": "python3"
  },
  "language_info": {
   "codemirror_mode": {
    "name": "ipython",
    "version": 3
   },
   "file_extension": ".py",
   "mimetype": "text/x-python",
   "name": "python",
   "nbconvert_exporter": "python",
   "pygments_lexer": "ipython3",
   "version": "3.12.3"
  }
 },
 "nbformat": 4,
 "nbformat_minor": 5
}
