{
 "cells": [
  {
   "cell_type": "code",
   "execution_count": 1,
   "id": "17c31ed2-f487-4370-af24-ddb9ec0eb112",
   "metadata": {},
   "outputs": [],
   "source": [
    "import os\n",
    "import sys\n",
    "seed = 42\n",
    "import pytz\n",
    "import numpy as np\n",
    "import pandas as pd\n",
    "from tqdm import tqdm\n",
    "from geopy import distance\n",
    "import datetime\n",
    "from copy import deepcopy\n",
    "import pickle as pkl\n",
    "import skimage.measure\n",
    "import math\n",
    "import warnings\n",
    "warnings.filterwarnings('ignore')\n",
    "warnings.simplefilter('ignore')\n",
    "os.environ['PYTHONWARNINGS']='ignore'\n",
    "from joblib import Parallel, delayed\n",
    "import random\n",
    "random.seed(seed)\n",
    "import scipy\n",
    "from pykrige.ok import OrdinaryKriging\n",
    "from pykrige.ok3d import OrdinaryKriging3D\n",
    "from sklearn.model_selection import train_test_split\n",
    "from scipy.interpolate import CubicSpline"
   ]
  },
  {
   "cell_type": "code",
   "execution_count": 7,
   "id": "afdd1ca2-588f-41e3-a6b0-332628b01c54",
   "metadata": {},
   "outputs": [],
   "source": [
    "locs = pd.read_csv('/scratch/ab9738/hidden_hotspots/data/purpleair_nyc_sensor_locations.csv')\n",
    "\n",
    "locs['SensorIndex'] = locs['SensorIndex'].apply(str)\n",
    "\n",
    "locs = locs.set_index('SensorIndex')\n",
    "\n",
    "data = pd.read_csv('/scratch/ab9738/hidden_hotspots/data/purple_air_2023_nyc.csv',index_col=0,parse_dates=True)\n",
    "\n",
    "data[data <= 1] = np.nan\n",
    "data[data > 500] = np.nan\n",
    "\n",
    "df = deepcopy(data)"
   ]
  },
  {
   "cell_type": "markdown",
   "id": "ee3b8abb-e4bf-4a86-bad1-6dcb99d547f6",
   "metadata": {},
   "source": [
    "Space Time Kriging"
   ]
  },
  {
   "cell_type": "code",
   "execution_count": 16,
   "id": "13d553ac-1c9b-49ed-933b-feeaa64d94d8",
   "metadata": {},
   "outputs": [],
   "source": [
    "def process_row(idx, row):\n",
    "    window_size = 3\n",
    "    i = np.where(np.array(df.index) == idx)[0][0]\n",
    "    df_slice = pd.concat([df[i-window_size:i],df[i+1:i+window_size+1]])\n",
    "    x_win = locs.loc[df.columns]['Longitude'].values\n",
    "    x_win = np.tile(x_win,df_slice.shape[0])\n",
    "    y_win = locs.loc[df.columns]['Latitude'].values\n",
    "    y_win = np.tile(y_win,df_slice.shape[0])    \n",
    "    z_win = np.concatenate([np.arange(i-window_size,i),np.arange(i+1,i+window_size+1)])*0.01\n",
    "    z_win = np.repeat(z_win,len(df.columns))\n",
    "    vals_win = df_slice.values.flatten()\n",
    "    x_win = x_win[~np.isnan(vals_win)]\n",
    "    y_win = y_win[~np.isnan(vals_win)]\n",
    "    z_win = z_win[~np.isnan(vals_win)]\n",
    "    vals_win = vals_win[~np.isnan(vals_win)]\n",
    "    \n",
    "    x = locs.loc[df.columns]['Longitude'].values\n",
    "    y = locs.loc[df.columns]['Latitude'].values\n",
    "    z = np.ones_like(x)*i*0.01\n",
    "    vals = row.values\n",
    "    cols = np.array(df.columns)[~np.isnan(vals)]\n",
    "    x = x[~np.isnan(vals)]\n",
    "    y = y[~np.isnan(vals)]\n",
    "    z = z[~np.isnan(vals)]\n",
    "    vals = vals[~np.isnan(vals)]\n",
    "    \n",
    "    if(len(cols)<10):\n",
    "        return(np.nan,np.nan)\n",
    "    \n",
    "    x_train, x_test, y_train, y_test, z_train, z_test, vals_train, vals_test, cols_train, cols_test = train_test_split(\n",
    "        x, y, z, vals, cols, test_size=0.2, random_state=seed\n",
    "    )\n",
    "    \n",
    "    x_train = np.concatenate([x_train,x_win])\n",
    "    y_train = np.concatenate([y_train,y_win])\n",
    "    z_train = np.concatenate([z_train,z_win])\n",
    "    vals_train = np.concatenate([vals_train,vals_win])\n",
    "\n",
    "\n",
    "    OK3D = OrdinaryKriging3D(\n",
    "        x_train,\n",
    "        y_train,\n",
    "        z_train,\n",
    "        vals_train,\n",
    "        variogram_model=\"linear\",\n",
    "        verbose=False,\n",
    "        enable_plotting=False,\n",
    "    )\n",
    "\n",
    "    vals_pred, ss_pred = OK3D.execute(\"points\", x_test, y_test, z_test)\n",
    "    ape_for_row = np.abs(vals_test-vals_pred)/vals_test\n",
    "    se_for_row = np.square(vals_test-vals_pred)\n",
    "    return(ape_for_row,se_for_row)"
   ]
  },
  {
   "cell_type": "code",
   "execution_count": 17,
   "id": "2b7aa0ca-0c5a-49bf-8f2c-c98e31fa37d1",
   "metadata": {},
   "outputs": [],
   "source": [
    "result_list = Parallel(n_jobs=12)(delayed(process_row)(idx,row) for idx,row in df[4:-4].iterrows())"
   ]
  },
  {
   "cell_type": "code",
   "execution_count": 20,
   "id": "02e1819e-20aa-477d-86b0-9649368f5f5d",
   "metadata": {},
   "outputs": [
    {
     "name": "stdout",
     "output_type": "stream",
     "text": [
      "1.034253062205728 9.179337291424442\n"
     ]
    }
   ],
   "source": [
    "ape = [x for (x,y) in result_list]\n",
    "se = [y for (x,y) in result_list]\n",
    "ape = [x for x in ape if str(x) != 'nan']\n",
    "se = [x for x in se if str(x) != 'nan']\n",
    "ape_arr = np.concatenate(ape)\n",
    "se_arr = np.concatenate(se)\n",
    "mape = np.mean(ape_arr)\n",
    "rmse = np.sqrt(np.mean(se_arr))\n",
    "print(mape, rmse)"
   ]
  },
  {
   "cell_type": "markdown",
   "id": "fb374eeb-c8bf-40f1-a111-8ef7b4ab7577",
   "metadata": {},
   "source": [
    "Ordinary Kriging"
   ]
  },
  {
   "cell_type": "code",
   "execution_count": 21,
   "id": "405c57c3-f475-48de-9b2c-37c46867b90a",
   "metadata": {},
   "outputs": [],
   "source": [
    "def process_row(idx, row):\n",
    "    x = locs.loc[df.columns]['Longitude'].values\n",
    "    y = locs.loc[df.columns]['Latitude'].values\n",
    "    z = row.values\n",
    "    \n",
    "    cols = np.array(df.columns)[~np.isnan(z)]\n",
    "    x = x[~np.isnan(z)]\n",
    "    y = y[~np.isnan(z)]\n",
    "    z = z[~np.isnan(z)]\n",
    "    \n",
    "    if(len(cols)<10):\n",
    "        return(np.nan,np.nan)\n",
    "    \n",
    "    x_train, x_test, y_train, y_test, z_train, z_test, cols_train, cols_test = train_test_split(\n",
    "        x, y, z, cols, test_size=0.2, random_state=seed\n",
    "    )\n",
    "\n",
    "    OK = OrdinaryKriging(\n",
    "        x_train,\n",
    "        y_train,\n",
    "        z_train,\n",
    "        variogram_model=\"gaussian\",\n",
    "        verbose=False,\n",
    "        enable_plotting=False,\n",
    "    )\n",
    "\n",
    "    z_pred, ss_pred = OK.execute(\"points\", x_test, y_test)\n",
    "    ape_for_row = np.abs(z_test-z_pred)/z_test\n",
    "    se_for_row = se_for_row = np.square(z_test-z_pred)\n",
    "    return(ape_for_row,se_for_row)"
   ]
  },
  {
   "cell_type": "code",
   "execution_count": 22,
   "id": "486c8c9b-9889-44c6-83f0-693ca4be3774",
   "metadata": {
    "scrolled": true,
    "tags": []
   },
   "outputs": [],
   "source": [
    "result_list = Parallel(n_jobs=12)(delayed(process_row)(idx,row) for idx,row in df[4:-4].iterrows())"
   ]
  },
  {
   "cell_type": "code",
   "execution_count": 23,
   "id": "4ff4dcec-6ac3-460b-a4e9-3759af612f87",
   "metadata": {},
   "outputs": [
    {
     "name": "stdout",
     "output_type": "stream",
     "text": [
      "1.340497563513339 15.976162900793089\n"
     ]
    }
   ],
   "source": [
    "ape = [x for (x,y) in result_list]\n",
    "se = [y for (x,y) in result_list]\n",
    "ape = [x for x in ape if str(x) != 'nan']\n",
    "se = [x for x in se if str(x) != 'nan']\n",
    "ape_arr = np.concatenate(ape)\n",
    "se_arr = np.concatenate(se)\n",
    "mape = np.mean(ape_arr)\n",
    "rmse = np.sqrt(np.mean(se_arr))\n",
    "print(mape, rmse)"
   ]
  },
  {
   "cell_type": "code",
   "execution_count": 25,
   "id": "526779c5-9615-4277-85dc-4ad3d7c10ed3",
   "metadata": {},
   "outputs": [
    {
     "data": {
      "text/plain": [
       "13.242716521885349"
      ]
     },
     "execution_count": 25,
     "metadata": {},
     "output_type": "execute_result"
    }
   ],
   "source": [
    "df.mean().mean()"
   ]
  },
  {
   "cell_type": "code",
   "execution_count": null,
   "id": "facd1ec7-fc4b-487b-bc67-ffddb8682823",
   "metadata": {},
   "outputs": [],
   "source": []
  }
 ],
 "metadata": {
  "kernelspec": {
   "display_name": "Python 3 (ipykernel)",
   "language": "python",
   "name": "python3"
  },
  "language_info": {
   "codemirror_mode": {
    "name": "ipython",
    "version": 3
   },
   "file_extension": ".py",
   "mimetype": "text/x-python",
   "name": "python",
   "nbconvert_exporter": "python",
   "pygments_lexer": "ipython3",
   "version": "3.10.0"
  }
 },
 "nbformat": 4,
 "nbformat_minor": 5
}
